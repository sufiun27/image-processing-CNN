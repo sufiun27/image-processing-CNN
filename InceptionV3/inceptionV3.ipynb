{
  "cells": [
    {
      "cell_type": "code",
      "source": [
        "import os\r\n",
        "import cv2\r\n",
        "import numpy as np\r\n",
        "import matplotlib.pyplot as plt\r\n",
        "from sklearn.preprocessing import LabelEncoder\r\n",
        "from tensorflow.keras.utils import to_categorical\r\n",
        "from sklearn.model_selection import train_test_split\r\n",
        "from tensorflow.keras.models import Sequential\r\n",
        "from tensorflow.keras.layers import Dense\r\n",
        "from tensorflow.keras.layers import Dropout\r\n",
        "from tensorflow.keras.layers import Flatten\r\n",
        "from tensorflow.keras.layers import Activation\r\n",
        "from tensorflow.keras.layers import Conv2D\r\n",
        "from tensorflow.keras.layers import MaxPooling2D\r\n",
        "from tensorflow.keras.optimizers import Adam\r\n",
        "from tensorflow.keras.optimizers import SGD\r\n",
        "from tensorflow.keras.optimizers import Adagrad\r\n",
        "from tensorflow.keras.optimizers import Adadelta\r\n",
        "from tensorflow.keras.optimizers import RMSprop\r\n",
        "from tensorflow.keras.preprocessing.image import ImageDataGenerator"
      ],
      "outputs": [],
      "execution_count": 1,
      "metadata": {
        "gather": {
          "logged": 1621784689287
        }
      }
    },
    {
      "cell_type": "code",
      "source": [
        "from keras.applications.vgg16 import VGG16\r\n",
        "from tensorflow.keras.preprocessing import image\r\n",
        "from tensorflow.keras.models import Model\r\n",
        "from tensorflow.keras.layers import Dense, GlobalAveragePooling2D"
      ],
      "outputs": [
        {
          "output_type": "stream",
          "name": "stderr",
          "text": [
            "Using TensorFlow backend.\n"
          ]
        }
      ],
      "execution_count": 2,
      "metadata": {
        "collapsed": true,
        "jupyter": {
          "source_hidden": false,
          "outputs_hidden": false
        },
        "nteract": {
          "transient": {
            "deleting": false
          }
        },
        "gather": {
          "logged": 1621784713370
        }
      }
    },
    {
      "cell_type": "code",
      "source": [
        "from tensorflow.keras.applications.inception_v3 import InceptionV3"
      ],
      "outputs": [],
      "execution_count": 3,
      "metadata": {
        "collapsed": true,
        "jupyter": {
          "source_hidden": false,
          "outputs_hidden": false
        },
        "nteract": {
          "transient": {
            "deleting": false
          }
        },
        "gather": {
          "logged": 1621784715857
        }
      }
    },
    {
      "cell_type": "code",
      "source": [
        "SIZE = 299  #Resize images"
      ],
      "outputs": [],
      "execution_count": 4,
      "metadata": {
        "collapsed": true,
        "jupyter": {
          "source_hidden": false,
          "outputs_hidden": false
        },
        "nteract": {
          "transient": {
            "deleting": false
          }
        },
        "gather": {
          "logged": 1621784718186
        }
      }
    },
    {
      "cell_type": "code",
      "source": [
        "#Capture training data and labels into respective lists\r\n",
        "train_images = []\r\n",
        "train_labels = [] \r\n",
        "\r\n",
        "for folder in os.listdir('train'):\r\n",
        "    for file in os.listdir(os.path.join('train', folder)):\r\n",
        "        if (file.endswith(\"JPG\") or file.endswith(\"jpg\")):\r\n",
        "            train_labels.append(folder)\r\n",
        "            img = cv2.imread(os.path.join('train', folder, file))\r\n",
        "            img_rgb = cv2.cvtColor(img, cv2.COLOR_BGR2RGB)\r\n",
        "            im = cv2.resize(img_rgb, (SIZE,SIZE))\r\n",
        "            train_images.append(im)\r\n",
        "        else:\r\n",
        "            continue\r\n",
        "\r\n",
        "        #Convert lists to arrays        \r\n",
        "train_images = np.array(train_images)\r\n",
        "train_labels = np.array(train_labels)"
      ],
      "outputs": [],
      "execution_count": 5,
      "metadata": {
        "collapsed": true,
        "jupyter": {
          "source_hidden": false,
          "outputs_hidden": false
        },
        "nteract": {
          "transient": {
            "deleting": false
          }
        },
        "gather": {
          "logged": 1621785911455
        }
      }
    },
    {
      "cell_type": "code",
      "source": [
        "print('train images shape =',train_images.shape)\r\n",
        "print('train labels shape =',train_labels.shape)"
      ],
      "outputs": [
        {
          "output_type": "stream",
          "name": "stdout",
          "text": [
            "train images shape = (3417, 299, 299, 3)\n",
            "train labels shape = (3417,)\n"
          ]
        }
      ],
      "execution_count": 6,
      "metadata": {
        "collapsed": true,
        "jupyter": {
          "source_hidden": false,
          "outputs_hidden": false
        },
        "nteract": {
          "transient": {
            "deleting": false
          }
        },
        "gather": {
          "logged": 1621785911627
        }
      }
    },
    {
      "cell_type": "code",
      "source": [
        "test_images = []\r\n",
        "test_labels = [] \r\n",
        "\r\n",
        "for folder in os.listdir('test'):\r\n",
        "    for file in os.listdir(os.path.join('test', folder)):\r\n",
        "        if (file.endswith(\"JPG\") or file.endswith(\"jpg\")):\r\n",
        "            test_labels.append(folder)\r\n",
        "            img = cv2.imread(os.path.join('test', folder, file))\r\n",
        "            img_rgb = cv2.cvtColor(img, cv2.COLOR_BGR2RGB)\r\n",
        "            im = cv2.resize(img_rgb, (SIZE,SIZE))\r\n",
        "            test_images.append(im)\r\n",
        "        else:\r\n",
        "            continue\r\n",
        "\r\n",
        "\r\n",
        "        #Convert lists to arrays                \r\n",
        "test_images = np.array(test_images)\r\n",
        "test_labels = np.array(test_labels)\r\n",
        "\r\n",
        "print('test images shape =',test_images.shape)\r\n",
        "print('test labels shape =',test_labels.shape)"
      ],
      "outputs": [
        {
          "output_type": "stream",
          "name": "stdout",
          "text": [
            "test images shape = (770, 299, 299, 3)\n",
            "test labels shape = (770,)\n"
          ]
        }
      ],
      "execution_count": 7,
      "metadata": {
        "collapsed": true,
        "jupyter": {
          "source_hidden": false,
          "outputs_hidden": false
        },
        "nteract": {
          "transient": {
            "deleting": false
          }
        },
        "gather": {
          "logged": 1621786146475
        }
      }
    },
    {
      "cell_type": "code",
      "source": [
        "#Encode labels from text to integers.\r\n",
        "from sklearn import preprocessing\r\n",
        "le = preprocessing.LabelEncoder()\r\n",
        "le.fit(test_labels)\r\n",
        "test_labels_encoded = le.transform(test_labels)\r\n",
        "le.fit(train_labels)\r\n",
        "train_labels_encoded = le.transform(train_labels)\r\n",
        "#it make the data calass name to numerical formate like 1,2,3,4 for calculation purpose"
      ],
      "outputs": [],
      "execution_count": 8,
      "metadata": {
        "collapsed": true,
        "jupyter": {
          "source_hidden": false,
          "outputs_hidden": false
        },
        "nteract": {
          "transient": {
            "deleting": false
          }
        },
        "gather": {
          "logged": 1621786545559
        }
      }
    },
    {
      "cell_type": "code",
      "source": [
        "#One hot encode y values for neural network. make tahe numamic class in a matrix\r\n",
        "from keras.utils.np_utils import to_categorical\r\n",
        "y_train_one_hot = to_categorical(train_labels_encoded)\r\n",
        "y_test_one_hot = to_categorical(test_labels_encoded)"
      ],
      "outputs": [],
      "execution_count": 9,
      "metadata": {
        "collapsed": true,
        "jupyter": {
          "source_hidden": false,
          "outputs_hidden": false
        },
        "nteract": {
          "transient": {
            "deleting": false
          }
        },
        "gather": {
          "logged": 1621786545704
        }
      }
    },
    {
      "cell_type": "code",
      "source": [
        "X_train, X_test, y_train, y_test = train_images, test_images,y_train_one_hot, y_test_one_hot"
      ],
      "outputs": [],
      "execution_count": 10,
      "metadata": {
        "collapsed": true,
        "jupyter": {
          "source_hidden": false,
          "outputs_hidden": false
        },
        "nteract": {
          "transient": {
            "deleting": false
          }
        },
        "gather": {
          "logged": 1621786546009
        }
      }
    },
    {
      "cell_type": "code",
      "source": [
        "# Normalize pixel values to between 0 and 1\r\n",
        "X_train, X_test = X_train / 255.0, X_test / 255.0"
      ],
      "outputs": [],
      "execution_count": 11,
      "metadata": {
        "collapsed": true,
        "jupyter": {
          "source_hidden": false,
          "outputs_hidden": false
        },
        "nteract": {
          "transient": {
            "deleting": false
          }
        },
        "gather": {
          "logged": 1621786552725
        }
      }
    },
    {
      "cell_type": "code",
      "source": [
        "####################################################################\r\n",
        "#                  XCEPTION                                        #\r\n",
        "####################################################################"
      ],
      "outputs": [],
      "execution_count": 12,
      "metadata": {
        "collapsed": true,
        "jupyter": {
          "source_hidden": false,
          "outputs_hidden": false
        },
        "nteract": {
          "transient": {
            "deleting": false
          }
        },
        "gather": {
          "logged": 1621786552847
        }
      }
    },
    {
      "cell_type": "code",
      "source": [
        "###########################################################################################################\r\n",
        "\r\n",
        "model = InceptionV3(weights='imagenet', include_top=False, input_shape=(SIZE, SIZE, 3))\r\n",
        "\r\n",
        "############################################################################################################"
      ],
      "outputs": [],
      "execution_count": 13,
      "metadata": {
        "collapsed": true,
        "jupyter": {
          "source_hidden": false,
          "outputs_hidden": false
        },
        "nteract": {
          "transient": {
            "deleting": false
          }
        },
        "gather": {
          "logged": 1621786584299
        }
      }
    },
    {
      "cell_type": "code",
      "source": [
        "# don't train existing weights\r\n",
        "for layer in model.layers:\r\n",
        "    layer.trainable = False"
      ],
      "outputs": [],
      "execution_count": 14,
      "metadata": {
        "collapsed": true,
        "jupyter": {
          "source_hidden": false,
          "outputs_hidden": false
        },
        "nteract": {
          "transient": {
            "deleting": false
          }
        },
        "gather": {
          "logged": 1621788070579
        }
      }
    },
    {
      "cell_type": "code",
      "source": [
        "# our layers - you can add more if you want\r\n",
        "x = Flatten()(model.output)"
      ],
      "outputs": [],
      "execution_count": 15,
      "metadata": {
        "collapsed": true,
        "jupyter": {
          "source_hidden": false,
          "outputs_hidden": false
        },
        "nteract": {
          "transient": {
            "deleting": false
          }
        },
        "gather": {
          "logged": 1621788071922
        }
      }
    },
    {
      "cell_type": "code",
      "source": [
        "prediction = Dense(4, activation='softmax')(x)\r\n",
        "\r\n",
        "# create a model object\r\n",
        "model = Model(inputs=model.input, outputs=prediction)"
      ],
      "outputs": [],
      "execution_count": 16,
      "metadata": {
        "collapsed": true,
        "jupyter": {
          "source_hidden": false,
          "outputs_hidden": false
        },
        "nteract": {
          "transient": {
            "deleting": false
          }
        },
        "gather": {
          "logged": 1621788073211
        }
      }
    },
    {
      "cell_type": "code",
      "source": [
        "# view the structure of the model\r\n",
        "model.summary()"
      ],
      "outputs": [
        {
          "output_type": "stream",
          "name": "stdout",
          "text": [
            "Model: \"model\"\n",
            "__________________________________________________________________________________________________\n",
            "Layer (type)                    Output Shape         Param #     Connected to                     \n",
            "==================================================================================================\n",
            "input_1 (InputLayer)            [(None, 299, 299, 3) 0                                            \n",
            "__________________________________________________________________________________________________\n",
            "conv2d (Conv2D)                 (None, 149, 149, 32) 864         input_1[0][0]                    \n",
            "__________________________________________________________________________________________________\n",
            "batch_normalization (BatchNorma (None, 149, 149, 32) 96          conv2d[0][0]                     \n",
            "__________________________________________________________________________________________________\n",
            "activation (Activation)         (None, 149, 149, 32) 0           batch_normalization[0][0]        \n",
            "__________________________________________________________________________________________________\n",
            "conv2d_1 (Conv2D)               (None, 147, 147, 32) 9216        activation[0][0]                 \n",
            "__________________________________________________________________________________________________\n",
            "batch_normalization_1 (BatchNor (None, 147, 147, 32) 96          conv2d_1[0][0]                   \n",
            "__________________________________________________________________________________________________\n",
            "activation_1 (Activation)       (None, 147, 147, 32) 0           batch_normalization_1[0][0]      \n",
            "__________________________________________________________________________________________________\n",
            "conv2d_2 (Conv2D)               (None, 147, 147, 64) 18432       activation_1[0][0]               \n",
            "__________________________________________________________________________________________________\n",
            "batch_normalization_2 (BatchNor (None, 147, 147, 64) 192         conv2d_2[0][0]                   \n",
            "__________________________________________________________________________________________________\n",
            "activation_2 (Activation)       (None, 147, 147, 64) 0           batch_normalization_2[0][0]      \n",
            "__________________________________________________________________________________________________\n",
            "max_pooling2d (MaxPooling2D)    (None, 73, 73, 64)   0           activation_2[0][0]               \n",
            "__________________________________________________________________________________________________\n",
            "conv2d_3 (Conv2D)               (None, 73, 73, 80)   5120        max_pooling2d[0][0]              \n",
            "__________________________________________________________________________________________________\n",
            "batch_normalization_3 (BatchNor (None, 73, 73, 80)   240         conv2d_3[0][0]                   \n",
            "__________________________________________________________________________________________________\n",
            "activation_3 (Activation)       (None, 73, 73, 80)   0           batch_normalization_3[0][0]      \n",
            "__________________________________________________________________________________________________\n",
            "conv2d_4 (Conv2D)               (None, 71, 71, 192)  138240      activation_3[0][0]               \n",
            "__________________________________________________________________________________________________\n",
            "batch_normalization_4 (BatchNor (None, 71, 71, 192)  576         conv2d_4[0][0]                   \n",
            "__________________________________________________________________________________________________\n",
            "activation_4 (Activation)       (None, 71, 71, 192)  0           batch_normalization_4[0][0]      \n",
            "__________________________________________________________________________________________________\n",
            "max_pooling2d_1 (MaxPooling2D)  (None, 35, 35, 192)  0           activation_4[0][0]               \n",
            "__________________________________________________________________________________________________\n",
            "conv2d_8 (Conv2D)               (None, 35, 35, 64)   12288       max_pooling2d_1[0][0]            \n",
            "__________________________________________________________________________________________________\n",
            "batch_normalization_8 (BatchNor (None, 35, 35, 64)   192         conv2d_8[0][0]                   \n",
            "__________________________________________________________________________________________________\n",
            "activation_8 (Activation)       (None, 35, 35, 64)   0           batch_normalization_8[0][0]      \n",
            "__________________________________________________________________________________________________\n",
            "conv2d_6 (Conv2D)               (None, 35, 35, 48)   9216        max_pooling2d_1[0][0]            \n",
            "__________________________________________________________________________________________________\n",
            "conv2d_9 (Conv2D)               (None, 35, 35, 96)   55296       activation_8[0][0]               \n",
            "__________________________________________________________________________________________________\n",
            "batch_normalization_6 (BatchNor (None, 35, 35, 48)   144         conv2d_6[0][0]                   \n",
            "__________________________________________________________________________________________________\n",
            "batch_normalization_9 (BatchNor (None, 35, 35, 96)   288         conv2d_9[0][0]                   \n",
            "__________________________________________________________________________________________________\n",
            "activation_6 (Activation)       (None, 35, 35, 48)   0           batch_normalization_6[0][0]      \n",
            "__________________________________________________________________________________________________\n",
            "activation_9 (Activation)       (None, 35, 35, 96)   0           batch_normalization_9[0][0]      \n",
            "__________________________________________________________________________________________________\n",
            "average_pooling2d (AveragePooli (None, 35, 35, 192)  0           max_pooling2d_1[0][0]            \n",
            "__________________________________________________________________________________________________\n",
            "conv2d_5 (Conv2D)               (None, 35, 35, 64)   12288       max_pooling2d_1[0][0]            \n",
            "__________________________________________________________________________________________________\n",
            "conv2d_7 (Conv2D)               (None, 35, 35, 64)   76800       activation_6[0][0]               \n",
            "__________________________________________________________________________________________________\n",
            "conv2d_10 (Conv2D)              (None, 35, 35, 96)   82944       activation_9[0][0]               \n",
            "__________________________________________________________________________________________________\n",
            "conv2d_11 (Conv2D)              (None, 35, 35, 32)   6144        average_pooling2d[0][0]          \n",
            "__________________________________________________________________________________________________\n",
            "batch_normalization_5 (BatchNor (None, 35, 35, 64)   192         conv2d_5[0][0]                   \n",
            "__________________________________________________________________________________________________\n",
            "batch_normalization_7 (BatchNor (None, 35, 35, 64)   192         conv2d_7[0][0]                   \n",
            "__________________________________________________________________________________________________\n",
            "batch_normalization_10 (BatchNo (None, 35, 35, 96)   288         conv2d_10[0][0]                  \n",
            "__________________________________________________________________________________________________\n",
            "batch_normalization_11 (BatchNo (None, 35, 35, 32)   96          conv2d_11[0][0]                  \n",
            "__________________________________________________________________________________________________\n",
            "activation_5 (Activation)       (None, 35, 35, 64)   0           batch_normalization_5[0][0]      \n",
            "__________________________________________________________________________________________________\n",
            "activation_7 (Activation)       (None, 35, 35, 64)   0           batch_normalization_7[0][0]      \n",
            "__________________________________________________________________________________________________\n",
            "activation_10 (Activation)      (None, 35, 35, 96)   0           batch_normalization_10[0][0]     \n",
            "__________________________________________________________________________________________________\n",
            "activation_11 (Activation)      (None, 35, 35, 32)   0           batch_normalization_11[0][0]     \n",
            "__________________________________________________________________________________________________\n",
            "mixed0 (Concatenate)            (None, 35, 35, 256)  0           activation_5[0][0]               \n",
            "                                                                 activation_7[0][0]               \n",
            "                                                                 activation_10[0][0]              \n",
            "                                                                 activation_11[0][0]              \n",
            "__________________________________________________________________________________________________\n",
            "conv2d_15 (Conv2D)              (None, 35, 35, 64)   16384       mixed0[0][0]                     \n",
            "__________________________________________________________________________________________________\n",
            "batch_normalization_15 (BatchNo (None, 35, 35, 64)   192         conv2d_15[0][0]                  \n",
            "__________________________________________________________________________________________________\n",
            "activation_15 (Activation)      (None, 35, 35, 64)   0           batch_normalization_15[0][0]     \n",
            "__________________________________________________________________________________________________\n",
            "conv2d_13 (Conv2D)              (None, 35, 35, 48)   12288       mixed0[0][0]                     \n",
            "__________________________________________________________________________________________________\n",
            "conv2d_16 (Conv2D)              (None, 35, 35, 96)   55296       activation_15[0][0]              \n",
            "__________________________________________________________________________________________________\n",
            "batch_normalization_13 (BatchNo (None, 35, 35, 48)   144         conv2d_13[0][0]                  \n",
            "__________________________________________________________________________________________________\n",
            "batch_normalization_16 (BatchNo (None, 35, 35, 96)   288         conv2d_16[0][0]                  \n",
            "__________________________________________________________________________________________________\n",
            "activation_13 (Activation)      (None, 35, 35, 48)   0           batch_normalization_13[0][0]     \n",
            "__________________________________________________________________________________________________\n",
            "activation_16 (Activation)      (None, 35, 35, 96)   0           batch_normalization_16[0][0]     \n",
            "__________________________________________________________________________________________________\n",
            "average_pooling2d_1 (AveragePoo (None, 35, 35, 256)  0           mixed0[0][0]                     \n",
            "__________________________________________________________________________________________________\n",
            "conv2d_12 (Conv2D)              (None, 35, 35, 64)   16384       mixed0[0][0]                     \n",
            "__________________________________________________________________________________________________\n",
            "conv2d_14 (Conv2D)              (None, 35, 35, 64)   76800       activation_13[0][0]              \n",
            "__________________________________________________________________________________________________\n",
            "conv2d_17 (Conv2D)              (None, 35, 35, 96)   82944       activation_16[0][0]              \n",
            "__________________________________________________________________________________________________\n",
            "conv2d_18 (Conv2D)              (None, 35, 35, 64)   16384       average_pooling2d_1[0][0]        \n",
            "__________________________________________________________________________________________________\n",
            "batch_normalization_12 (BatchNo (None, 35, 35, 64)   192         conv2d_12[0][0]                  \n",
            "__________________________________________________________________________________________________\n",
            "batch_normalization_14 (BatchNo (None, 35, 35, 64)   192         conv2d_14[0][0]                  \n",
            "__________________________________________________________________________________________________\n",
            "batch_normalization_17 (BatchNo (None, 35, 35, 96)   288         conv2d_17[0][0]                  \n",
            "__________________________________________________________________________________________________\n",
            "batch_normalization_18 (BatchNo (None, 35, 35, 64)   192         conv2d_18[0][0]                  \n",
            "__________________________________________________________________________________________________\n",
            "activation_12 (Activation)      (None, 35, 35, 64)   0           batch_normalization_12[0][0]     \n",
            "__________________________________________________________________________________________________\n",
            "activation_14 (Activation)      (None, 35, 35, 64)   0           batch_normalization_14[0][0]     \n",
            "__________________________________________________________________________________________________\n",
            "activation_17 (Activation)      (None, 35, 35, 96)   0           batch_normalization_17[0][0]     \n",
            "__________________________________________________________________________________________________\n",
            "activation_18 (Activation)      (None, 35, 35, 64)   0           batch_normalization_18[0][0]     \n",
            "__________________________________________________________________________________________________\n",
            "mixed1 (Concatenate)            (None, 35, 35, 288)  0           activation_12[0][0]              \n",
            "                                                                 activation_14[0][0]              \n",
            "                                                                 activation_17[0][0]              \n",
            "                                                                 activation_18[0][0]              \n",
            "__________________________________________________________________________________________________\n",
            "conv2d_22 (Conv2D)              (None, 35, 35, 64)   18432       mixed1[0][0]                     \n",
            "__________________________________________________________________________________________________\n",
            "batch_normalization_22 (BatchNo (None, 35, 35, 64)   192         conv2d_22[0][0]                  \n",
            "__________________________________________________________________________________________________\n",
            "activation_22 (Activation)      (None, 35, 35, 64)   0           batch_normalization_22[0][0]     \n",
            "__________________________________________________________________________________________________\n",
            "conv2d_20 (Conv2D)              (None, 35, 35, 48)   13824       mixed1[0][0]                     \n",
            "__________________________________________________________________________________________________\n",
            "conv2d_23 (Conv2D)              (None, 35, 35, 96)   55296       activation_22[0][0]              \n",
            "__________________________________________________________________________________________________\n",
            "batch_normalization_20 (BatchNo (None, 35, 35, 48)   144         conv2d_20[0][0]                  \n",
            "__________________________________________________________________________________________________\n",
            "batch_normalization_23 (BatchNo (None, 35, 35, 96)   288         conv2d_23[0][0]                  \n",
            "__________________________________________________________________________________________________\n",
            "activation_20 (Activation)      (None, 35, 35, 48)   0           batch_normalization_20[0][0]     \n",
            "__________________________________________________________________________________________________\n",
            "activation_23 (Activation)      (None, 35, 35, 96)   0           batch_normalization_23[0][0]     \n",
            "__________________________________________________________________________________________________\n",
            "average_pooling2d_2 (AveragePoo (None, 35, 35, 288)  0           mixed1[0][0]                     \n",
            "__________________________________________________________________________________________________\n",
            "conv2d_19 (Conv2D)              (None, 35, 35, 64)   18432       mixed1[0][0]                     \n",
            "__________________________________________________________________________________________________\n",
            "conv2d_21 (Conv2D)              (None, 35, 35, 64)   76800       activation_20[0][0]              \n",
            "__________________________________________________________________________________________________\n",
            "conv2d_24 (Conv2D)              (None, 35, 35, 96)   82944       activation_23[0][0]              \n",
            "__________________________________________________________________________________________________\n",
            "conv2d_25 (Conv2D)              (None, 35, 35, 64)   18432       average_pooling2d_2[0][0]        \n",
            "__________________________________________________________________________________________________\n",
            "batch_normalization_19 (BatchNo (None, 35, 35, 64)   192         conv2d_19[0][0]                  \n",
            "__________________________________________________________________________________________________\n",
            "batch_normalization_21 (BatchNo (None, 35, 35, 64)   192         conv2d_21[0][0]                  \n",
            "__________________________________________________________________________________________________\n",
            "batch_normalization_24 (BatchNo (None, 35, 35, 96)   288         conv2d_24[0][0]                  \n",
            "__________________________________________________________________________________________________\n",
            "batch_normalization_25 (BatchNo (None, 35, 35, 64)   192         conv2d_25[0][0]                  \n",
            "__________________________________________________________________________________________________\n",
            "activation_19 (Activation)      (None, 35, 35, 64)   0           batch_normalization_19[0][0]     \n",
            "__________________________________________________________________________________________________\n",
            "activation_21 (Activation)      (None, 35, 35, 64)   0           batch_normalization_21[0][0]     \n",
            "__________________________________________________________________________________________________\n",
            "activation_24 (Activation)      (None, 35, 35, 96)   0           batch_normalization_24[0][0]     \n",
            "__________________________________________________________________________________________________\n",
            "activation_25 (Activation)      (None, 35, 35, 64)   0           batch_normalization_25[0][0]     \n",
            "__________________________________________________________________________________________________\n",
            "mixed2 (Concatenate)            (None, 35, 35, 288)  0           activation_19[0][0]              \n",
            "                                                                 activation_21[0][0]              \n",
            "                                                                 activation_24[0][0]              \n",
            "                                                                 activation_25[0][0]              \n",
            "__________________________________________________________________________________________________\n",
            "conv2d_27 (Conv2D)              (None, 35, 35, 64)   18432       mixed2[0][0]                     \n",
            "__________________________________________________________________________________________________\n",
            "batch_normalization_27 (BatchNo (None, 35, 35, 64)   192         conv2d_27[0][0]                  \n",
            "__________________________________________________________________________________________________\n",
            "activation_27 (Activation)      (None, 35, 35, 64)   0           batch_normalization_27[0][0]     \n",
            "__________________________________________________________________________________________________\n",
            "conv2d_28 (Conv2D)              (None, 35, 35, 96)   55296       activation_27[0][0]              \n",
            "__________________________________________________________________________________________________\n",
            "batch_normalization_28 (BatchNo (None, 35, 35, 96)   288         conv2d_28[0][0]                  \n",
            "__________________________________________________________________________________________________\n",
            "activation_28 (Activation)      (None, 35, 35, 96)   0           batch_normalization_28[0][0]     \n",
            "__________________________________________________________________________________________________\n",
            "conv2d_26 (Conv2D)              (None, 17, 17, 384)  995328      mixed2[0][0]                     \n",
            "__________________________________________________________________________________________________\n",
            "conv2d_29 (Conv2D)              (None, 17, 17, 96)   82944       activation_28[0][0]              \n",
            "__________________________________________________________________________________________________\n",
            "batch_normalization_26 (BatchNo (None, 17, 17, 384)  1152        conv2d_26[0][0]                  \n",
            "__________________________________________________________________________________________________\n",
            "batch_normalization_29 (BatchNo (None, 17, 17, 96)   288         conv2d_29[0][0]                  \n",
            "__________________________________________________________________________________________________\n",
            "activation_26 (Activation)      (None, 17, 17, 384)  0           batch_normalization_26[0][0]     \n",
            "__________________________________________________________________________________________________\n",
            "activation_29 (Activation)      (None, 17, 17, 96)   0           batch_normalization_29[0][0]     \n",
            "__________________________________________________________________________________________________\n",
            "max_pooling2d_2 (MaxPooling2D)  (None, 17, 17, 288)  0           mixed2[0][0]                     \n",
            "__________________________________________________________________________________________________\n",
            "mixed3 (Concatenate)            (None, 17, 17, 768)  0           activation_26[0][0]              \n",
            "                                                                 activation_29[0][0]              \n",
            "                                                                 max_pooling2d_2[0][0]            \n",
            "__________________________________________________________________________________________________\n",
            "conv2d_34 (Conv2D)              (None, 17, 17, 128)  98304       mixed3[0][0]                     \n",
            "__________________________________________________________________________________________________\n",
            "batch_normalization_34 (BatchNo (None, 17, 17, 128)  384         conv2d_34[0][0]                  \n",
            "__________________________________________________________________________________________________\n",
            "activation_34 (Activation)      (None, 17, 17, 128)  0           batch_normalization_34[0][0]     \n",
            "__________________________________________________________________________________________________\n",
            "conv2d_35 (Conv2D)              (None, 17, 17, 128)  114688      activation_34[0][0]              \n",
            "__________________________________________________________________________________________________\n",
            "batch_normalization_35 (BatchNo (None, 17, 17, 128)  384         conv2d_35[0][0]                  \n",
            "__________________________________________________________________________________________________\n",
            "activation_35 (Activation)      (None, 17, 17, 128)  0           batch_normalization_35[0][0]     \n",
            "__________________________________________________________________________________________________\n",
            "conv2d_31 (Conv2D)              (None, 17, 17, 128)  98304       mixed3[0][0]                     \n",
            "__________________________________________________________________________________________________\n",
            "conv2d_36 (Conv2D)              (None, 17, 17, 128)  114688      activation_35[0][0]              \n",
            "__________________________________________________________________________________________________\n",
            "batch_normalization_31 (BatchNo (None, 17, 17, 128)  384         conv2d_31[0][0]                  \n",
            "__________________________________________________________________________________________________\n",
            "batch_normalization_36 (BatchNo (None, 17, 17, 128)  384         conv2d_36[0][0]                  \n",
            "__________________________________________________________________________________________________\n",
            "activation_31 (Activation)      (None, 17, 17, 128)  0           batch_normalization_31[0][0]     \n",
            "__________________________________________________________________________________________________\n",
            "activation_36 (Activation)      (None, 17, 17, 128)  0           batch_normalization_36[0][0]     \n",
            "__________________________________________________________________________________________________\n",
            "conv2d_32 (Conv2D)              (None, 17, 17, 128)  114688      activation_31[0][0]              \n",
            "__________________________________________________________________________________________________\n",
            "conv2d_37 (Conv2D)              (None, 17, 17, 128)  114688      activation_36[0][0]              \n",
            "__________________________________________________________________________________________________\n",
            "batch_normalization_32 (BatchNo (None, 17, 17, 128)  384         conv2d_32[0][0]                  \n",
            "__________________________________________________________________________________________________\n",
            "batch_normalization_37 (BatchNo (None, 17, 17, 128)  384         conv2d_37[0][0]                  \n",
            "__________________________________________________________________________________________________\n",
            "activation_32 (Activation)      (None, 17, 17, 128)  0           batch_normalization_32[0][0]     \n",
            "__________________________________________________________________________________________________\n",
            "activation_37 (Activation)      (None, 17, 17, 128)  0           batch_normalization_37[0][0]     \n",
            "__________________________________________________________________________________________________\n",
            "average_pooling2d_3 (AveragePoo (None, 17, 17, 768)  0           mixed3[0][0]                     \n",
            "__________________________________________________________________________________________________\n",
            "conv2d_30 (Conv2D)              (None, 17, 17, 192)  147456      mixed3[0][0]                     \n",
            "__________________________________________________________________________________________________\n",
            "conv2d_33 (Conv2D)              (None, 17, 17, 192)  172032      activation_32[0][0]              \n",
            "__________________________________________________________________________________________________\n",
            "conv2d_38 (Conv2D)              (None, 17, 17, 192)  172032      activation_37[0][0]              \n",
            "__________________________________________________________________________________________________\n",
            "conv2d_39 (Conv2D)              (None, 17, 17, 192)  147456      average_pooling2d_3[0][0]        \n",
            "__________________________________________________________________________________________________\n",
            "batch_normalization_30 (BatchNo (None, 17, 17, 192)  576         conv2d_30[0][0]                  \n",
            "__________________________________________________________________________________________________\n",
            "batch_normalization_33 (BatchNo (None, 17, 17, 192)  576         conv2d_33[0][0]                  \n",
            "__________________________________________________________________________________________________\n",
            "batch_normalization_38 (BatchNo (None, 17, 17, 192)  576         conv2d_38[0][0]                  \n",
            "__________________________________________________________________________________________________\n",
            "batch_normalization_39 (BatchNo (None, 17, 17, 192)  576         conv2d_39[0][0]                  \n",
            "__________________________________________________________________________________________________\n",
            "activation_30 (Activation)      (None, 17, 17, 192)  0           batch_normalization_30[0][0]     \n",
            "__________________________________________________________________________________________________\n",
            "activation_33 (Activation)      (None, 17, 17, 192)  0           batch_normalization_33[0][0]     \n",
            "__________________________________________________________________________________________________\n",
            "activation_38 (Activation)      (None, 17, 17, 192)  0           batch_normalization_38[0][0]     \n",
            "__________________________________________________________________________________________________\n",
            "activation_39 (Activation)      (None, 17, 17, 192)  0           batch_normalization_39[0][0]     \n",
            "__________________________________________________________________________________________________\n",
            "mixed4 (Concatenate)            (None, 17, 17, 768)  0           activation_30[0][0]              \n",
            "                                                                 activation_33[0][0]              \n",
            "                                                                 activation_38[0][0]              \n",
            "                                                                 activation_39[0][0]              \n",
            "__________________________________________________________________________________________________\n",
            "conv2d_44 (Conv2D)              (None, 17, 17, 160)  122880      mixed4[0][0]                     \n",
            "__________________________________________________________________________________________________\n",
            "batch_normalization_44 (BatchNo (None, 17, 17, 160)  480         conv2d_44[0][0]                  \n",
            "__________________________________________________________________________________________________\n",
            "activation_44 (Activation)      (None, 17, 17, 160)  0           batch_normalization_44[0][0]     \n",
            "__________________________________________________________________________________________________\n",
            "conv2d_45 (Conv2D)              (None, 17, 17, 160)  179200      activation_44[0][0]              \n",
            "__________________________________________________________________________________________________\n",
            "batch_normalization_45 (BatchNo (None, 17, 17, 160)  480         conv2d_45[0][0]                  \n",
            "__________________________________________________________________________________________________\n",
            "activation_45 (Activation)      (None, 17, 17, 160)  0           batch_normalization_45[0][0]     \n",
            "__________________________________________________________________________________________________\n",
            "conv2d_41 (Conv2D)              (None, 17, 17, 160)  122880      mixed4[0][0]                     \n",
            "__________________________________________________________________________________________________\n",
            "conv2d_46 (Conv2D)              (None, 17, 17, 160)  179200      activation_45[0][0]              \n",
            "__________________________________________________________________________________________________\n",
            "batch_normalization_41 (BatchNo (None, 17, 17, 160)  480         conv2d_41[0][0]                  \n",
            "__________________________________________________________________________________________________\n",
            "batch_normalization_46 (BatchNo (None, 17, 17, 160)  480         conv2d_46[0][0]                  \n",
            "__________________________________________________________________________________________________\n",
            "activation_41 (Activation)      (None, 17, 17, 160)  0           batch_normalization_41[0][0]     \n",
            "__________________________________________________________________________________________________\n",
            "activation_46 (Activation)      (None, 17, 17, 160)  0           batch_normalization_46[0][0]     \n",
            "__________________________________________________________________________________________________\n",
            "conv2d_42 (Conv2D)              (None, 17, 17, 160)  179200      activation_41[0][0]              \n",
            "__________________________________________________________________________________________________\n",
            "conv2d_47 (Conv2D)              (None, 17, 17, 160)  179200      activation_46[0][0]              \n",
            "__________________________________________________________________________________________________\n",
            "batch_normalization_42 (BatchNo (None, 17, 17, 160)  480         conv2d_42[0][0]                  \n",
            "__________________________________________________________________________________________________\n",
            "batch_normalization_47 (BatchNo (None, 17, 17, 160)  480         conv2d_47[0][0]                  \n",
            "__________________________________________________________________________________________________\n",
            "activation_42 (Activation)      (None, 17, 17, 160)  0           batch_normalization_42[0][0]     \n",
            "__________________________________________________________________________________________________\n",
            "activation_47 (Activation)      (None, 17, 17, 160)  0           batch_normalization_47[0][0]     \n",
            "__________________________________________________________________________________________________\n",
            "average_pooling2d_4 (AveragePoo (None, 17, 17, 768)  0           mixed4[0][0]                     \n",
            "__________________________________________________________________________________________________\n",
            "conv2d_40 (Conv2D)              (None, 17, 17, 192)  147456      mixed4[0][0]                     \n",
            "__________________________________________________________________________________________________\n",
            "conv2d_43 (Conv2D)              (None, 17, 17, 192)  215040      activation_42[0][0]              \n",
            "__________________________________________________________________________________________________\n",
            "conv2d_48 (Conv2D)              (None, 17, 17, 192)  215040      activation_47[0][0]              \n",
            "__________________________________________________________________________________________________\n",
            "conv2d_49 (Conv2D)              (None, 17, 17, 192)  147456      average_pooling2d_4[0][0]        \n",
            "__________________________________________________________________________________________________\n",
            "batch_normalization_40 (BatchNo (None, 17, 17, 192)  576         conv2d_40[0][0]                  \n",
            "__________________________________________________________________________________________________\n",
            "batch_normalization_43 (BatchNo (None, 17, 17, 192)  576         conv2d_43[0][0]                  \n",
            "__________________________________________________________________________________________________\n",
            "batch_normalization_48 (BatchNo (None, 17, 17, 192)  576         conv2d_48[0][0]                  \n",
            "__________________________________________________________________________________________________\n",
            "batch_normalization_49 (BatchNo (None, 17, 17, 192)  576         conv2d_49[0][0]                  \n",
            "__________________________________________________________________________________________________\n",
            "activation_40 (Activation)      (None, 17, 17, 192)  0           batch_normalization_40[0][0]     \n",
            "__________________________________________________________________________________________________\n",
            "activation_43 (Activation)      (None, 17, 17, 192)  0           batch_normalization_43[0][0]     \n",
            "__________________________________________________________________________________________________\n",
            "activation_48 (Activation)      (None, 17, 17, 192)  0           batch_normalization_48[0][0]     \n",
            "__________________________________________________________________________________________________\n",
            "activation_49 (Activation)      (None, 17, 17, 192)  0           batch_normalization_49[0][0]     \n",
            "__________________________________________________________________________________________________\n",
            "mixed5 (Concatenate)            (None, 17, 17, 768)  0           activation_40[0][0]              \n",
            "                                                                 activation_43[0][0]              \n",
            "                                                                 activation_48[0][0]              \n",
            "                                                                 activation_49[0][0]              \n",
            "__________________________________________________________________________________________________\n",
            "conv2d_54 (Conv2D)              (None, 17, 17, 160)  122880      mixed5[0][0]                     \n",
            "__________________________________________________________________________________________________\n",
            "batch_normalization_54 (BatchNo (None, 17, 17, 160)  480         conv2d_54[0][0]                  \n",
            "__________________________________________________________________________________________________\n",
            "activation_54 (Activation)      (None, 17, 17, 160)  0           batch_normalization_54[0][0]     \n",
            "__________________________________________________________________________________________________\n",
            "conv2d_55 (Conv2D)              (None, 17, 17, 160)  179200      activation_54[0][0]              \n",
            "__________________________________________________________________________________________________\n",
            "batch_normalization_55 (BatchNo (None, 17, 17, 160)  480         conv2d_55[0][0]                  \n",
            "__________________________________________________________________________________________________\n",
            "activation_55 (Activation)      (None, 17, 17, 160)  0           batch_normalization_55[0][0]     \n",
            "__________________________________________________________________________________________________\n",
            "conv2d_51 (Conv2D)              (None, 17, 17, 160)  122880      mixed5[0][0]                     \n",
            "__________________________________________________________________________________________________\n",
            "conv2d_56 (Conv2D)              (None, 17, 17, 160)  179200      activation_55[0][0]              \n",
            "__________________________________________________________________________________________________\n",
            "batch_normalization_51 (BatchNo (None, 17, 17, 160)  480         conv2d_51[0][0]                  \n",
            "__________________________________________________________________________________________________\n",
            "batch_normalization_56 (BatchNo (None, 17, 17, 160)  480         conv2d_56[0][0]                  \n",
            "__________________________________________________________________________________________________\n",
            "activation_51 (Activation)      (None, 17, 17, 160)  0           batch_normalization_51[0][0]     \n",
            "__________________________________________________________________________________________________\n",
            "activation_56 (Activation)      (None, 17, 17, 160)  0           batch_normalization_56[0][0]     \n",
            "__________________________________________________________________________________________________\n",
            "conv2d_52 (Conv2D)              (None, 17, 17, 160)  179200      activation_51[0][0]              \n",
            "__________________________________________________________________________________________________\n",
            "conv2d_57 (Conv2D)              (None, 17, 17, 160)  179200      activation_56[0][0]              \n",
            "__________________________________________________________________________________________________\n",
            "batch_normalization_52 (BatchNo (None, 17, 17, 160)  480         conv2d_52[0][0]                  \n",
            "__________________________________________________________________________________________________\n",
            "batch_normalization_57 (BatchNo (None, 17, 17, 160)  480         conv2d_57[0][0]                  \n",
            "__________________________________________________________________________________________________\n",
            "activation_52 (Activation)      (None, 17, 17, 160)  0           batch_normalization_52[0][0]     \n",
            "__________________________________________________________________________________________________\n",
            "activation_57 (Activation)      (None, 17, 17, 160)  0           batch_normalization_57[0][0]     \n",
            "__________________________________________________________________________________________________\n",
            "average_pooling2d_5 (AveragePoo (None, 17, 17, 768)  0           mixed5[0][0]                     \n",
            "__________________________________________________________________________________________________\n",
            "conv2d_50 (Conv2D)              (None, 17, 17, 192)  147456      mixed5[0][0]                     \n",
            "__________________________________________________________________________________________________\n",
            "conv2d_53 (Conv2D)              (None, 17, 17, 192)  215040      activation_52[0][0]              \n",
            "__________________________________________________________________________________________________\n",
            "conv2d_58 (Conv2D)              (None, 17, 17, 192)  215040      activation_57[0][0]              \n",
            "__________________________________________________________________________________________________\n",
            "conv2d_59 (Conv2D)              (None, 17, 17, 192)  147456      average_pooling2d_5[0][0]        \n",
            "__________________________________________________________________________________________________\n",
            "batch_normalization_50 (BatchNo (None, 17, 17, 192)  576         conv2d_50[0][0]                  \n",
            "__________________________________________________________________________________________________\n",
            "batch_normalization_53 (BatchNo (None, 17, 17, 192)  576         conv2d_53[0][0]                  \n",
            "__________________________________________________________________________________________________\n",
            "batch_normalization_58 (BatchNo (None, 17, 17, 192)  576         conv2d_58[0][0]                  \n",
            "__________________________________________________________________________________________________\n",
            "batch_normalization_59 (BatchNo (None, 17, 17, 192)  576         conv2d_59[0][0]                  \n",
            "__________________________________________________________________________________________________\n",
            "activation_50 (Activation)      (None, 17, 17, 192)  0           batch_normalization_50[0][0]     \n",
            "__________________________________________________________________________________________________\n",
            "activation_53 (Activation)      (None, 17, 17, 192)  0           batch_normalization_53[0][0]     \n",
            "__________________________________________________________________________________________________\n",
            "activation_58 (Activation)      (None, 17, 17, 192)  0           batch_normalization_58[0][0]     \n",
            "__________________________________________________________________________________________________\n",
            "activation_59 (Activation)      (None, 17, 17, 192)  0           batch_normalization_59[0][0]     \n",
            "__________________________________________________________________________________________________\n",
            "mixed6 (Concatenate)            (None, 17, 17, 768)  0           activation_50[0][0]              \n",
            "                                                                 activation_53[0][0]              \n",
            "                                                                 activation_58[0][0]              \n",
            "                                                                 activation_59[0][0]              \n",
            "__________________________________________________________________________________________________\n",
            "conv2d_64 (Conv2D)              (None, 17, 17, 192)  147456      mixed6[0][0]                     \n",
            "__________________________________________________________________________________________________\n",
            "batch_normalization_64 (BatchNo (None, 17, 17, 192)  576         conv2d_64[0][0]                  \n",
            "__________________________________________________________________________________________________\n",
            "activation_64 (Activation)      (None, 17, 17, 192)  0           batch_normalization_64[0][0]     \n",
            "__________________________________________________________________________________________________\n",
            "conv2d_65 (Conv2D)              (None, 17, 17, 192)  258048      activation_64[0][0]              \n",
            "__________________________________________________________________________________________________\n",
            "batch_normalization_65 (BatchNo (None, 17, 17, 192)  576         conv2d_65[0][0]                  \n",
            "__________________________________________________________________________________________________\n",
            "activation_65 (Activation)      (None, 17, 17, 192)  0           batch_normalization_65[0][0]     \n",
            "__________________________________________________________________________________________________\n",
            "conv2d_61 (Conv2D)              (None, 17, 17, 192)  147456      mixed6[0][0]                     \n",
            "__________________________________________________________________________________________________\n",
            "conv2d_66 (Conv2D)              (None, 17, 17, 192)  258048      activation_65[0][0]              \n",
            "__________________________________________________________________________________________________\n",
            "batch_normalization_61 (BatchNo (None, 17, 17, 192)  576         conv2d_61[0][0]                  \n",
            "__________________________________________________________________________________________________\n",
            "batch_normalization_66 (BatchNo (None, 17, 17, 192)  576         conv2d_66[0][0]                  \n",
            "__________________________________________________________________________________________________\n",
            "activation_61 (Activation)      (None, 17, 17, 192)  0           batch_normalization_61[0][0]     \n",
            "__________________________________________________________________________________________________\n",
            "activation_66 (Activation)      (None, 17, 17, 192)  0           batch_normalization_66[0][0]     \n",
            "__________________________________________________________________________________________________\n",
            "conv2d_62 (Conv2D)              (None, 17, 17, 192)  258048      activation_61[0][0]              \n",
            "__________________________________________________________________________________________________\n",
            "conv2d_67 (Conv2D)              (None, 17, 17, 192)  258048      activation_66[0][0]              \n",
            "__________________________________________________________________________________________________\n",
            "batch_normalization_62 (BatchNo (None, 17, 17, 192)  576         conv2d_62[0][0]                  \n",
            "__________________________________________________________________________________________________\n",
            "batch_normalization_67 (BatchNo (None, 17, 17, 192)  576         conv2d_67[0][0]                  \n",
            "__________________________________________________________________________________________________\n",
            "activation_62 (Activation)      (None, 17, 17, 192)  0           batch_normalization_62[0][0]     \n",
            "__________________________________________________________________________________________________\n",
            "activation_67 (Activation)      (None, 17, 17, 192)  0           batch_normalization_67[0][0]     \n",
            "__________________________________________________________________________________________________\n",
            "average_pooling2d_6 (AveragePoo (None, 17, 17, 768)  0           mixed6[0][0]                     \n",
            "__________________________________________________________________________________________________\n",
            "conv2d_60 (Conv2D)              (None, 17, 17, 192)  147456      mixed6[0][0]                     \n",
            "__________________________________________________________________________________________________\n",
            "conv2d_63 (Conv2D)              (None, 17, 17, 192)  258048      activation_62[0][0]              \n",
            "__________________________________________________________________________________________________\n",
            "conv2d_68 (Conv2D)              (None, 17, 17, 192)  258048      activation_67[0][0]              \n",
            "__________________________________________________________________________________________________\n",
            "conv2d_69 (Conv2D)              (None, 17, 17, 192)  147456      average_pooling2d_6[0][0]        \n",
            "__________________________________________________________________________________________________\n",
            "batch_normalization_60 (BatchNo (None, 17, 17, 192)  576         conv2d_60[0][0]                  \n",
            "__________________________________________________________________________________________________\n",
            "batch_normalization_63 (BatchNo (None, 17, 17, 192)  576         conv2d_63[0][0]                  \n",
            "__________________________________________________________________________________________________\n",
            "batch_normalization_68 (BatchNo (None, 17, 17, 192)  576         conv2d_68[0][0]                  \n",
            "__________________________________________________________________________________________________\n",
            "batch_normalization_69 (BatchNo (None, 17, 17, 192)  576         conv2d_69[0][0]                  \n",
            "__________________________________________________________________________________________________\n",
            "activation_60 (Activation)      (None, 17, 17, 192)  0           batch_normalization_60[0][0]     \n",
            "__________________________________________________________________________________________________\n",
            "activation_63 (Activation)      (None, 17, 17, 192)  0           batch_normalization_63[0][0]     \n",
            "__________________________________________________________________________________________________\n",
            "activation_68 (Activation)      (None, 17, 17, 192)  0           batch_normalization_68[0][0]     \n",
            "__________________________________________________________________________________________________\n",
            "activation_69 (Activation)      (None, 17, 17, 192)  0           batch_normalization_69[0][0]     \n",
            "__________________________________________________________________________________________________\n",
            "mixed7 (Concatenate)            (None, 17, 17, 768)  0           activation_60[0][0]              \n",
            "                                                                 activation_63[0][0]              \n",
            "                                                                 activation_68[0][0]              \n",
            "                                                                 activation_69[0][0]              \n",
            "__________________________________________________________________________________________________\n",
            "conv2d_72 (Conv2D)              (None, 17, 17, 192)  147456      mixed7[0][0]                     \n",
            "__________________________________________________________________________________________________\n",
            "batch_normalization_72 (BatchNo (None, 17, 17, 192)  576         conv2d_72[0][0]                  \n",
            "__________________________________________________________________________________________________\n",
            "activation_72 (Activation)      (None, 17, 17, 192)  0           batch_normalization_72[0][0]     \n",
            "__________________________________________________________________________________________________\n",
            "conv2d_73 (Conv2D)              (None, 17, 17, 192)  258048      activation_72[0][0]              \n",
            "__________________________________________________________________________________________________\n",
            "batch_normalization_73 (BatchNo (None, 17, 17, 192)  576         conv2d_73[0][0]                  \n",
            "__________________________________________________________________________________________________\n",
            "activation_73 (Activation)      (None, 17, 17, 192)  0           batch_normalization_73[0][0]     \n",
            "__________________________________________________________________________________________________\n",
            "conv2d_70 (Conv2D)              (None, 17, 17, 192)  147456      mixed7[0][0]                     \n",
            "__________________________________________________________________________________________________\n",
            "conv2d_74 (Conv2D)              (None, 17, 17, 192)  258048      activation_73[0][0]              \n",
            "__________________________________________________________________________________________________\n",
            "batch_normalization_70 (BatchNo (None, 17, 17, 192)  576         conv2d_70[0][0]                  \n",
            "__________________________________________________________________________________________________\n",
            "batch_normalization_74 (BatchNo (None, 17, 17, 192)  576         conv2d_74[0][0]                  \n",
            "__________________________________________________________________________________________________\n",
            "activation_70 (Activation)      (None, 17, 17, 192)  0           batch_normalization_70[0][0]     \n",
            "__________________________________________________________________________________________________\n",
            "activation_74 (Activation)      (None, 17, 17, 192)  0           batch_normalization_74[0][0]     \n",
            "__________________________________________________________________________________________________\n",
            "conv2d_71 (Conv2D)              (None, 8, 8, 320)    552960      activation_70[0][0]              \n",
            "__________________________________________________________________________________________________\n",
            "conv2d_75 (Conv2D)              (None, 8, 8, 192)    331776      activation_74[0][0]              \n",
            "__________________________________________________________________________________________________\n",
            "batch_normalization_71 (BatchNo (None, 8, 8, 320)    960         conv2d_71[0][0]                  \n",
            "__________________________________________________________________________________________________\n",
            "batch_normalization_75 (BatchNo (None, 8, 8, 192)    576         conv2d_75[0][0]                  \n",
            "__________________________________________________________________________________________________\n",
            "activation_71 (Activation)      (None, 8, 8, 320)    0           batch_normalization_71[0][0]     \n",
            "__________________________________________________________________________________________________\n",
            "activation_75 (Activation)      (None, 8, 8, 192)    0           batch_normalization_75[0][0]     \n",
            "__________________________________________________________________________________________________\n",
            "max_pooling2d_3 (MaxPooling2D)  (None, 8, 8, 768)    0           mixed7[0][0]                     \n",
            "__________________________________________________________________________________________________\n",
            "mixed8 (Concatenate)            (None, 8, 8, 1280)   0           activation_71[0][0]              \n",
            "                                                                 activation_75[0][0]              \n",
            "                                                                 max_pooling2d_3[0][0]            \n",
            "__________________________________________________________________________________________________\n",
            "conv2d_80 (Conv2D)              (None, 8, 8, 448)    573440      mixed8[0][0]                     \n",
            "__________________________________________________________________________________________________\n",
            "batch_normalization_80 (BatchNo (None, 8, 8, 448)    1344        conv2d_80[0][0]                  \n",
            "__________________________________________________________________________________________________\n",
            "activation_80 (Activation)      (None, 8, 8, 448)    0           batch_normalization_80[0][0]     \n",
            "__________________________________________________________________________________________________\n",
            "conv2d_77 (Conv2D)              (None, 8, 8, 384)    491520      mixed8[0][0]                     \n",
            "__________________________________________________________________________________________________\n",
            "conv2d_81 (Conv2D)              (None, 8, 8, 384)    1548288     activation_80[0][0]              \n",
            "__________________________________________________________________________________________________\n",
            "batch_normalization_77 (BatchNo (None, 8, 8, 384)    1152        conv2d_77[0][0]                  \n",
            "__________________________________________________________________________________________________\n",
            "batch_normalization_81 (BatchNo (None, 8, 8, 384)    1152        conv2d_81[0][0]                  \n",
            "__________________________________________________________________________________________________\n",
            "activation_77 (Activation)      (None, 8, 8, 384)    0           batch_normalization_77[0][0]     \n",
            "__________________________________________________________________________________________________\n",
            "activation_81 (Activation)      (None, 8, 8, 384)    0           batch_normalization_81[0][0]     \n",
            "__________________________________________________________________________________________________\n",
            "conv2d_78 (Conv2D)              (None, 8, 8, 384)    442368      activation_77[0][0]              \n",
            "__________________________________________________________________________________________________\n",
            "conv2d_79 (Conv2D)              (None, 8, 8, 384)    442368      activation_77[0][0]              \n",
            "__________________________________________________________________________________________________\n",
            "conv2d_82 (Conv2D)              (None, 8, 8, 384)    442368      activation_81[0][0]              \n",
            "__________________________________________________________________________________________________\n",
            "conv2d_83 (Conv2D)              (None, 8, 8, 384)    442368      activation_81[0][0]              \n",
            "__________________________________________________________________________________________________\n",
            "average_pooling2d_7 (AveragePoo (None, 8, 8, 1280)   0           mixed8[0][0]                     \n",
            "__________________________________________________________________________________________________\n",
            "conv2d_76 (Conv2D)              (None, 8, 8, 320)    409600      mixed8[0][0]                     \n",
            "__________________________________________________________________________________________________\n",
            "batch_normalization_78 (BatchNo (None, 8, 8, 384)    1152        conv2d_78[0][0]                  \n",
            "__________________________________________________________________________________________________\n",
            "batch_normalization_79 (BatchNo (None, 8, 8, 384)    1152        conv2d_79[0][0]                  \n",
            "__________________________________________________________________________________________________\n",
            "batch_normalization_82 (BatchNo (None, 8, 8, 384)    1152        conv2d_82[0][0]                  \n",
            "__________________________________________________________________________________________________\n",
            "batch_normalization_83 (BatchNo (None, 8, 8, 384)    1152        conv2d_83[0][0]                  \n",
            "__________________________________________________________________________________________________\n",
            "conv2d_84 (Conv2D)              (None, 8, 8, 192)    245760      average_pooling2d_7[0][0]        \n",
            "__________________________________________________________________________________________________\n",
            "batch_normalization_76 (BatchNo (None, 8, 8, 320)    960         conv2d_76[0][0]                  \n",
            "__________________________________________________________________________________________________\n",
            "activation_78 (Activation)      (None, 8, 8, 384)    0           batch_normalization_78[0][0]     \n",
            "__________________________________________________________________________________________________\n",
            "activation_79 (Activation)      (None, 8, 8, 384)    0           batch_normalization_79[0][0]     \n",
            "__________________________________________________________________________________________________\n",
            "activation_82 (Activation)      (None, 8, 8, 384)    0           batch_normalization_82[0][0]     \n",
            "__________________________________________________________________________________________________\n",
            "activation_83 (Activation)      (None, 8, 8, 384)    0           batch_normalization_83[0][0]     \n",
            "__________________________________________________________________________________________________\n",
            "batch_normalization_84 (BatchNo (None, 8, 8, 192)    576         conv2d_84[0][0]                  \n",
            "__________________________________________________________________________________________________\n",
            "activation_76 (Activation)      (None, 8, 8, 320)    0           batch_normalization_76[0][0]     \n",
            "__________________________________________________________________________________________________\n",
            "mixed9_0 (Concatenate)          (None, 8, 8, 768)    0           activation_78[0][0]              \n",
            "                                                                 activation_79[0][0]              \n",
            "__________________________________________________________________________________________________\n",
            "concatenate (Concatenate)       (None, 8, 8, 768)    0           activation_82[0][0]              \n",
            "                                                                 activation_83[0][0]              \n",
            "__________________________________________________________________________________________________\n",
            "activation_84 (Activation)      (None, 8, 8, 192)    0           batch_normalization_84[0][0]     \n",
            "__________________________________________________________________________________________________\n",
            "mixed9 (Concatenate)            (None, 8, 8, 2048)   0           activation_76[0][0]              \n",
            "                                                                 mixed9_0[0][0]                   \n",
            "                                                                 concatenate[0][0]                \n",
            "                                                                 activation_84[0][0]              \n",
            "__________________________________________________________________________________________________\n",
            "conv2d_89 (Conv2D)              (None, 8, 8, 448)    917504      mixed9[0][0]                     \n",
            "__________________________________________________________________________________________________\n",
            "batch_normalization_89 (BatchNo (None, 8, 8, 448)    1344        conv2d_89[0][0]                  \n",
            "__________________________________________________________________________________________________\n",
            "activation_89 (Activation)      (None, 8, 8, 448)    0           batch_normalization_89[0][0]     \n",
            "__________________________________________________________________________________________________\n",
            "conv2d_86 (Conv2D)              (None, 8, 8, 384)    786432      mixed9[0][0]                     \n",
            "__________________________________________________________________________________________________\n",
            "conv2d_90 (Conv2D)              (None, 8, 8, 384)    1548288     activation_89[0][0]              \n",
            "__________________________________________________________________________________________________\n",
            "batch_normalization_86 (BatchNo (None, 8, 8, 384)    1152        conv2d_86[0][0]                  \n",
            "__________________________________________________________________________________________________\n",
            "batch_normalization_90 (BatchNo (None, 8, 8, 384)    1152        conv2d_90[0][0]                  \n",
            "__________________________________________________________________________________________________\n",
            "activation_86 (Activation)      (None, 8, 8, 384)    0           batch_normalization_86[0][0]     \n",
            "__________________________________________________________________________________________________\n",
            "activation_90 (Activation)      (None, 8, 8, 384)    0           batch_normalization_90[0][0]     \n",
            "__________________________________________________________________________________________________\n",
            "conv2d_87 (Conv2D)              (None, 8, 8, 384)    442368      activation_86[0][0]              \n",
            "__________________________________________________________________________________________________\n",
            "conv2d_88 (Conv2D)              (None, 8, 8, 384)    442368      activation_86[0][0]              \n",
            "__________________________________________________________________________________________________\n",
            "conv2d_91 (Conv2D)              (None, 8, 8, 384)    442368      activation_90[0][0]              \n",
            "__________________________________________________________________________________________________\n",
            "conv2d_92 (Conv2D)              (None, 8, 8, 384)    442368      activation_90[0][0]              \n",
            "__________________________________________________________________________________________________\n",
            "average_pooling2d_8 (AveragePoo (None, 8, 8, 2048)   0           mixed9[0][0]                     \n",
            "__________________________________________________________________________________________________\n",
            "conv2d_85 (Conv2D)              (None, 8, 8, 320)    655360      mixed9[0][0]                     \n",
            "__________________________________________________________________________________________________\n",
            "batch_normalization_87 (BatchNo (None, 8, 8, 384)    1152        conv2d_87[0][0]                  \n",
            "__________________________________________________________________________________________________\n",
            "batch_normalization_88 (BatchNo (None, 8, 8, 384)    1152        conv2d_88[0][0]                  \n",
            "__________________________________________________________________________________________________\n",
            "batch_normalization_91 (BatchNo (None, 8, 8, 384)    1152        conv2d_91[0][0]                  \n",
            "__________________________________________________________________________________________________\n",
            "batch_normalization_92 (BatchNo (None, 8, 8, 384)    1152        conv2d_92[0][0]                  \n",
            "__________________________________________________________________________________________________\n",
            "conv2d_93 (Conv2D)              (None, 8, 8, 192)    393216      average_pooling2d_8[0][0]        \n",
            "__________________________________________________________________________________________________\n",
            "batch_normalization_85 (BatchNo (None, 8, 8, 320)    960         conv2d_85[0][0]                  \n",
            "__________________________________________________________________________________________________\n",
            "activation_87 (Activation)      (None, 8, 8, 384)    0           batch_normalization_87[0][0]     \n",
            "__________________________________________________________________________________________________\n",
            "activation_88 (Activation)      (None, 8, 8, 384)    0           batch_normalization_88[0][0]     \n",
            "__________________________________________________________________________________________________\n",
            "activation_91 (Activation)      (None, 8, 8, 384)    0           batch_normalization_91[0][0]     \n",
            "__________________________________________________________________________________________________\n",
            "activation_92 (Activation)      (None, 8, 8, 384)    0           batch_normalization_92[0][0]     \n",
            "__________________________________________________________________________________________________\n",
            "batch_normalization_93 (BatchNo (None, 8, 8, 192)    576         conv2d_93[0][0]                  \n",
            "__________________________________________________________________________________________________\n",
            "activation_85 (Activation)      (None, 8, 8, 320)    0           batch_normalization_85[0][0]     \n",
            "__________________________________________________________________________________________________\n",
            "mixed9_1 (Concatenate)          (None, 8, 8, 768)    0           activation_87[0][0]              \n",
            "                                                                 activation_88[0][0]              \n",
            "__________________________________________________________________________________________________\n",
            "concatenate_1 (Concatenate)     (None, 8, 8, 768)    0           activation_91[0][0]              \n",
            "                                                                 activation_92[0][0]              \n",
            "__________________________________________________________________________________________________\n",
            "activation_93 (Activation)      (None, 8, 8, 192)    0           batch_normalization_93[0][0]     \n",
            "__________________________________________________________________________________________________\n",
            "mixed10 (Concatenate)           (None, 8, 8, 2048)   0           activation_85[0][0]              \n",
            "                                                                 mixed9_1[0][0]                   \n",
            "                                                                 concatenate_1[0][0]              \n",
            "                                                                 activation_93[0][0]              \n",
            "__________________________________________________________________________________________________\n",
            "flatten (Flatten)               (None, 131072)       0           mixed10[0][0]                    \n",
            "__________________________________________________________________________________________________\n",
            "dense (Dense)                   (None, 4)            524292      flatten[0][0]                    \n",
            "==================================================================================================\n",
            "Total params: 22,327,076\n",
            "Trainable params: 524,292\n",
            "Non-trainable params: 21,802,784\n",
            "__________________________________________________________________________________________________\n"
          ]
        }
      ],
      "execution_count": 17,
      "metadata": {
        "collapsed": true,
        "jupyter": {
          "source_hidden": false,
          "outputs_hidden": false
        },
        "nteract": {
          "transient": {
            "deleting": false
          }
        },
        "gather": {
          "logged": 1621788075715
        }
      }
    },
    {
      "cell_type": "code",
      "source": [
        "datagen = ImageDataGenerator(\r\n",
        "        rotation_range=20,\r\n",
        "        zoom_range = 0.20,\r\n",
        "        width_shift_range=0.3,\r\n",
        "        height_shift_range=0.3,\r\n",
        "        horizontal_flip=True,\r\n",
        "        vertical_flip=True)\r\n",
        "\r\n",
        "datagen.fit(X_train)"
      ],
      "outputs": [],
      "execution_count": 18,
      "metadata": {
        "collapsed": true,
        "jupyter": {
          "source_hidden": false,
          "outputs_hidden": false
        },
        "nteract": {
          "transient": {
            "deleting": false
          }
        },
        "gather": {
          "logged": 1621788091921
        }
      }
    },
    {
      "cell_type": "code",
      "source": [
        "# tell the model what cost and optimization method to use\r\n",
        "model.compile(\r\n",
        "  loss='categorical_crossentropy',\r\n",
        "  optimizer='adam',\r\n",
        "  metrics=['accuracy']\r\n",
        ")\r\n"
      ],
      "outputs": [],
      "execution_count": 19,
      "metadata": {
        "collapsed": true,
        "jupyter": {
          "source_hidden": false,
          "outputs_hidden": false
        },
        "nteract": {
          "transient": {
            "deleting": false
          }
        },
        "gather": {
          "logged": 1621788092869
        }
      }
    },
    {
      "cell_type": "code",
      "source": [
        "batch_size=64\r\n",
        "epochs=64\r\n",
        "history = model.fit(\r\n",
        "    datagen.flow(X_train,y_train, batch_size=batch_size),\r\n",
        "    epochs = epochs,\r\n",
        "    validation_data = (X_test,y_test),\r\n",
        "    verbose=1\r\n",
        ")"
      ],
      "outputs": [
        {
          "output_type": "stream",
          "name": "stdout",
          "text": [
            "WARNING:tensorflow:sample_weight modes were coerced from\n",
            "  ...\n",
            "    to  \n",
            "  ['...']\n",
            "Train for 54 steps, validate on 770 samples\n",
            "Epoch 1/64\n",
            "54/54 [==============================] - 79s 1s/step - loss: 3.0290 - accuracy: 0.7155 - val_loss: 2.7217 - val_accuracy: 0.7286\b\b\b\b\b\b\b\b\b\b\b\b\b\b\b\b\b\b\b\b\b\b\b\b\b\b\b\b\b\b\b\b\b\b\b\b\b\b\b\b\b\b\n",
            "Epoch 2/64\n",
            "54/54 [==============================] - 62s 1s/step - loss: 1.1692 - accuracy: 0.8387 - val_loss: 1.5326 - val_accuracy: 0.8156\b\b\b\b\b\b\b\b\b\b\b\b\b\b\b\b\b\b\b\b\b\b\b\b\b\b\b\b\b\b\b\b\b\b\b\b\b\b\b\b\n",
            "Epoch 3/64\n",
            "54/54 [==============================] - 63s 1s/step - loss: 1.2228 - accuracy: 0.8466 - val_loss: 2.9929 - val_accuracy: 0.7519\b\b\b\b\b\b\b\b\b\b\b\b\b\b\b\b\b\b\b\b\b\b\b\b\b\b\b\b\b\b\b\b\b\b\b\b\b\b\b\b\n",
            "Epoch 4/64\n",
            "54/54 [==============================] - 63s 1s/step - loss: 1.1169 - accuracy: 0.8586 - val_loss: 2.6832 - val_accuracy: 0.7818\b\b\b\b\b\b\b\b\b\b\b\b\b\b\b\b\b\b\b\b\b\b\b\b\b\b\b\b\b\b\b\b\b\b\b\b\b\b\b\b\n",
            "Epoch 5/64\n",
            "54/54 [==============================] - 63s 1s/step - loss: 1.3218 - accuracy: 0.8595 - val_loss: 1.9736 - val_accuracy: 0.8039\b\b\b\b\b\b\b\b\b\b\b\b\b\b\b\b\b\b\b\b\b\b\b\b\b\b\b\b\b\b\b\b\b\b\b\b\b\b\b\b\n",
            "Epoch 6/64\n",
            "54/54 [==============================] - 63s 1s/step - loss: 1.3755 - accuracy: 0.8633 - val_loss: 2.6146 - val_accuracy: 0.8065\b\b\b\b\b\b\b\b\b\b\b\b\b\b\b\b\b\b\b\b\b\b\b\b\b\b\b\b\b\b\b\b\b\b\b\b\b\b\b\b\n",
            "Epoch 7/64\n",
            "54/54 [==============================] - 63s 1s/step - loss: 1.5439 - accuracy: 0.8654 - val_loss: 2.6694 - val_accuracy: 0.8065\b\b\b\b\b\b\b\b\b\b\b\b\b\b\b\b\b\b\b\b\b\b\b\b\b\b\b\b\b\b\b\b\b\b\b\b\b\b\b\b\n",
            "Epoch 8/64\n",
            "54/54 [==============================] - 63s 1s/step - loss: 1.3852 - accuracy: 0.8736 - val_loss: 3.6310 - val_accuracy: 0.7792\b\b\b\b\b\b\b\b\b\b\b\b\b\b\b\b\b\b\b\b\b\b\b\b\b\b\b\b\b\b\b\b\b\b\b\b\b\b\b\b\n",
            "Epoch 9/64\n",
            "54/54 [==============================] - 63s 1s/step - loss: 1.4210 - accuracy: 0.8788 - val_loss: 3.6969 - val_accuracy: 0.8000\b\b\b\b\b\b\b\b\b\b\b\b\b\b\b\b\b\b\b\b\b\b\b\b\b\b\b\b\b\b\b\b\b\b\b\b\b\b\b\b\n",
            "Epoch 10/64\n",
            "54/54 [==============================] - 63s 1s/step - loss: 1.5629 - accuracy: 0.8721 - val_loss: 3.9344 - val_accuracy: 0.8195\b\b\b\b\b\b\b\b\b\b\b\b\b\b\b\b\b\b\b\b\b\b\b\b\b\b\b\b\b\b\b\b\b\b\b\b\b\b\b\b\n",
            "Epoch 11/64\n",
            "54/54 [==============================] - 63s 1s/step - loss: 1.5358 - accuracy: 0.8841 - val_loss: 3.7764 - val_accuracy: 0.7935\b\b\b\b\b\b\b\b\b\b\b\b\b\b\b\b\b\b\b\b\b\b\b\b\b\b\b\b\b\b\b\b\b\b\b\b\b\b\b\b\n",
            "Epoch 12/64\n",
            "54/54 [==============================] - 63s 1s/step - loss: 1.4846 - accuracy: 0.8832 - val_loss: 3.0757 - val_accuracy: 0.8260\b\b\b\b\b\b\b\b\b\b\b\b\b\b\b\b\b\b\b\b\b\b\b\b\b\b\b\b\b\b\b\b\b\b\b\b\b\b\b\b\n",
            "Epoch 13/64\n",
            "54/54 [==============================] - 63s 1s/step - loss: 2.0169 - accuracy: 0.8727 - val_loss: 3.3396 - val_accuracy: 0.8195\b\b\b\b\b\b\b\b\b\b\b\b\b\b\b\b\b\b\b\b\b\b\b\b\b\b\b\b\b\b\b\b\b\b\b\b\b\b\b\b\n",
            "Epoch 14/64\n",
            "54/54 [==============================] - 63s 1s/step - loss: 1.7126 - accuracy: 0.8873 - val_loss: 2.3469 - val_accuracy: 0.8377\b\b\b\b\b\b\b\b\b\b\b\b\b\b\b\b\b\b\b\b\b\b\b\b\b\b\b\b\b\b\b\b\b\b\b\b\b\b\b\b\n",
            "Epoch 15/64\n",
            "54/54 [==============================] - 63s 1s/step - loss: 1.5121 - accuracy: 0.8879 - val_loss: 4.1247 - val_accuracy: 0.7922\b\b\b\b\b\b\b\b\b\b\b\b\b\b\b\b\b\b\b\b\b\b\b\b\b\b\b\b\b\b\b\b\b\b\b\b\b\b\b\b\n",
            "Epoch 16/64\n",
            "54/54 [==============================] - 63s 1s/step - loss: 1.5064 - accuracy: 0.8870 - val_loss: 2.7706 - val_accuracy: 0.8338\b\b\b\b\b\b\b\b\b\b\b\b\b\b\b\b\b\b\b\b\b\b\b\b\b\b\b\b\b\b\b\b\b\b\b\b\b\b\b\b\n",
            "Epoch 17/64\n",
            "54/54 [==============================] - 63s 1s/step - loss: 2.1215 - accuracy: 0.8633 - val_loss: 9.8166 - val_accuracy: 0.7792\b\b\b\b\b\b\b\b\b\b\b\b\b\b\b\b\b\b\b\b\b\b\b\b\b\b\b\b\b\b\b\b\b\b\b\b\b\b\b\b\n",
            "Epoch 18/64\n",
            "54/54 [==============================] - 63s 1s/step - loss: 1.7084 - accuracy: 0.8964 - val_loss: 5.7177 - val_accuracy: 0.7909\b\b\b\b\b\b\b\b\b\b\b\b\b\b\b\b\b\b\b\b\b\b\b\b\b\b\b\b\b\b\b\b\b\b\b\b\b\b\b\b\n",
            "Epoch 19/64\n",
            "54/54 [==============================] - 64s 1s/step - loss: 1.5554 - accuracy: 0.8946 - val_loss: 6.5566 - val_accuracy: 0.7974\b\b\b\b\b\b\b\b\b\b\b\b\b\b\b\b\b\b\b\b\b\b\b\b\b\b\b\b\b\b\b\b\b\b\b\b\b\b\n",
            "Epoch 20/64\n",
            "54/54 [==============================] - 64s 1s/step - loss: 1.7042 - accuracy: 0.8911 - val_loss: 6.2345 - val_accuracy: 0.7805\b\b\b\b\b\b\b\b\b\b\b\b\b\b\b\b\b\b\b\b\b\b\b\b\b\b\b\b\b\b\b\b\b\b\b\b\b\b\b\b\n",
            "Epoch 21/64\n",
            "54/54 [==============================] - 64s 1s/step - loss: 1.6682 - accuracy: 0.8917 - val_loss: 7.2999 - val_accuracy: 0.7948\b\b\b\b\b\b\b\b\b\b\b\b\b\b\b\b\b\b\b\b\b\b\b\b\b\b\b\b\b\b\b\b\b\b\b\b\b\b\b\b\n",
            "Epoch 22/64\n",
            "54/54 [==============================] - 63s 1s/step - loss: 1.7075 - accuracy: 0.8984 - val_loss: 3.5677 - val_accuracy: 0.8195\b\b\b\b\b\b\b\b\b\b\b\b\b\b\b\b\b\b\b\b\b\b\b\b\b\b\b\b\b\b\b\b\b\b\b\b\b\b\b\b\n",
            "Epoch 23/64\n",
            "54/54 [==============================] - 63s 1s/step - loss: 1.6273 - accuracy: 0.8987 - val_loss: 6.0914 - val_accuracy: 0.7974\b\b\b\b\b\b\b\b\b\b\b\b\b\b\b\b\b\b\b\b\b\b\b\b\b\b\b\b\b\b\b\b\b\b\b\b\b\b\b\b\n",
            "Epoch 24/64\n",
            "54/54 [==============================] - 63s 1s/step - loss: 1.6701 - accuracy: 0.8999 - val_loss: 3.8587 - val_accuracy: 0.8247\b\b\b\b\b\b\b\b\b\b\b\b\b\b\b\b\b\b\b\b\b\b\b\b\b\b\b\b\b\b\b\b\b\b\b\b\b\b\b\b\n",
            "Epoch 25/64\n",
            "54/54 [==============================] - 63s 1s/step - loss: 1.5466 - accuracy: 0.8979 - val_loss: 4.0228 - val_accuracy: 0.8234\b\b\b\b\b\b\b\b\b\b\b\b\b\b\b\b\b\b\b\b\b\b\b\b\b\b\b\b\b\b\b\b\b\b\b\b\b\b\b\b\n",
            "Epoch 26/64\n",
            "54/54 [==============================] - 63s 1s/step - loss: 1.8835 - accuracy: 0.8946 - val_loss: 4.8400 - val_accuracy: 0.8260\b\b\b\b\b\b\b\b\b\b\b\b\b\b\b\b\b\b\b\b\b\b\b\b\b\b\b\b\b\b\b\b\b\b\b\b\b\b\b\b\n",
            "Epoch 27/64\n",
            "54/54 [==============================] - 62s 1s/step - loss: 2.3032 - accuracy: 0.8762 - val_loss: 4.3650 - val_accuracy: 0.8117\b\b\b\b\b\b\b\b\b\b\b\b\b\b\b\b\b\b\b\b\b\b\b\b\b\b\b\b\b\b\b\b\b\b\b\b\b\b\b\b\n",
            "Epoch 28/64\n",
            "54/54 [==============================] - 62s 1s/step - loss: 1.7594 - accuracy: 0.8996 - val_loss: 3.5158 - val_accuracy: 0.8299\b\b\b\b\b\b\b\b\b\b\b\b\b\b\b\b\b\b\b\b\b\b\b\b\b\b\b\b\b\b\b\b\b\b\b\b\b\b\b\b\n",
            "Epoch 29/64\n",
            "54/54 [==============================] - 63s 1s/step - loss: 1.7563 - accuracy: 0.8996 - val_loss: 6.3608 - val_accuracy: 0.8000\b\b\b\b\b\b\b\b\b\b\b\b\b\b\b\b\b\b\b\b\b\b\b\b\b\b\b\b\b\b\b\b\b\b\b\b\b\b\b\b\n",
            "Epoch 30/64\n",
            "54/54 [==============================] - 63s 1s/step - loss: 1.6691 - accuracy: 0.9049 - val_loss: 5.1217 - val_accuracy: 0.8143\b\b\b\b\b\b\b\b\b\b\b\b\b\b\b\b\b\b\b\b\b\b\b\b\b\b\b\b\b\b\b\b\b\b\b\b\b\b\b\b\n",
            "Epoch 31/64\n",
            "54/54 [==============================] - 63s 1s/step - loss: 1.7060 - accuracy: 0.8961 - val_loss: 9.4693 - val_accuracy: 0.7610\b\b\b\b\b\b\b\b\b\b\b\b\b\b\b\b\b\b\b\b\b\b\b\b\b\b\b\b\b\b\b\b\b\b\b\b\b\b\b\b\n",
            "Epoch 32/64\n",
            "54/54 [==============================] - 63s 1s/step - loss: 1.8179 - accuracy: 0.8941 - val_loss: 4.9480 - val_accuracy: 0.8130\b\b\b\b\b\b\b\b\b\b\b\b\b\b\b\b\b\b\b\b\b\b\b\b\b\b\b\b\b\b\b\b\b\b\b\b\b\b\b\b\n",
            "Epoch 33/64\n",
            "54/54 [==============================] - 62s 1s/step - loss: 1.5893 - accuracy: 0.9052 - val_loss: 3.5222 - val_accuracy: 0.8455\b\b\b\b\b\b\b\b\b\b\b\b\b\b\b\b\b\b\b\b\b\b\b\b\b\b\b\b\b\b\b\b\b\b\b\b\b\b\b\b\n",
            "Epoch 34/64\n",
            "54/54 [==============================] - 63s 1s/step - loss: 1.6877 - accuracy: 0.9028 - val_loss: 7.8142 - val_accuracy: 0.8117\b\b\b\b\b\b\b\b\b\b\b\b\b\b\b\b\b\b\b\b\b\b\b\b\b\b\b\b\b\b\b\b\b\b\b\b\b\b\b\b\n",
            "Epoch 35/64\n",
            "54/54 [==============================] - 62s 1s/step - loss: 2.1743 - accuracy: 0.8911 - val_loss: 5.1231 - val_accuracy: 0.8221\b\b\b\b\b\b\b\b\b\b\b\b\b\b\b\b\b\b\b\b\b\b\b\b\b\b\b\b\b\b\b\b\b\b\b\b\b\b\b\b\n",
            "Epoch 36/64\n",
            "54/54 [==============================] - 63s 1s/step - loss: 2.1499 - accuracy: 0.8911 - val_loss: 4.7247 - val_accuracy: 0.8195\b\b\b\b\b\b\b\b\b\b\b\b\b\b\b\b\b\b\b\b\b\b\b\b\b\b\b\b\b\b\b\b\b\b\b\b\b\b\b\b\n",
            "Epoch 37/64\n",
            "54/54 [==============================] - 63s 1s/step - loss: 2.1885 - accuracy: 0.8979 - val_loss: 4.7250 - val_accuracy: 0.8390\b\b\b\b\b\b\b\b\b\b\b\b\b\b\b\b\b\b\b\b\b\b\b\b\b\b\b\b\b\b\b\b\b\b\b\b\b\b\b\b\n",
            "Epoch 38/64\n",
            "54/54 [==============================] - 63s 1s/step - loss: 2.2515 - accuracy: 0.8941 - val_loss: 4.2398 - val_accuracy: 0.8286\b\b\b\b\b\b\b\b\b\b\b\b\b\b\b\b\b\b\b\b\b\b\b\b\b\b\b\b\b\b\b\b\b\b\b\b\b\b\b\b\n",
            "Epoch 39/64\n",
            "54/54 [==============================] - 63s 1s/step - loss: 1.6953 - accuracy: 0.9078 - val_loss: 3.5122 - val_accuracy: 0.8429\b\b\b\b\b\b\b\b\b\b\b\b\b\b\b\b\b\b\b\b\b\b\b\b\b\b\b\b\b\b\b\b\b\b\b\b\b\b\b\b\n",
            "Epoch 40/64\n",
            "54/54 [==============================] - 62s 1s/step - loss: 1.6316 - accuracy: 0.9102 - val_loss: 4.6476 - val_accuracy: 0.8247\b\b\b\b\b\b\b\b\b\b\b\b\b\b\b\b\b\b\b\b\b\b\b\b\b\b\b\b\b\b\b\b\b\b\b\b\b\b\b\b\n",
            "Epoch 41/64\n",
            "54/54 [==============================] - 62s 1s/step - loss: 1.7717 - accuracy: 0.9090 - val_loss: 3.2762 - val_accuracy: 0.8558\b\b\b\b\b\b\b\b\b\b\b\b\b\b\b\b\b\b\b\b\b\b\b\b\b\b\b\b\b\b\b\b\b\b\b\b\b\b\b\b\n",
            "Epoch 42/64\n",
            "54/54 [==============================] - 62s 1s/step - loss: 1.8397 - accuracy: 0.9061 - val_loss: 5.9588 - val_accuracy: 0.8351\b\b\b\b\b\b\b\b\b\b\b\b\b\b\b\b\b\b\b\b\b\b\b\b\b\b\b\b\b\b\b\b\b\b\b\b\b\b\b\b\n",
            "Epoch 43/64\n",
            "54/54 [==============================] - 63s 1s/step - loss: 1.7544 - accuracy: 0.9043 - val_loss: 3.7135 - val_accuracy: 0.8494\b\b\b\b\b\b\b\b\b\b\b\b\b\b\b\b\b\b\b\b\b\b\b\b\b\b\b\b\b\b\b\b\b\b\b\b\b\b\b\b\n",
            "Epoch 44/64\n",
            "54/54 [==============================] - 63s 1s/step - loss: 1.4738 - accuracy: 0.9210 - val_loss: 4.4078 - val_accuracy: 0.8377\b\b\b\b\b\b\b\b\b\b\b\b\b\b\b\b\b\b\b\b\b\b\b\b\b\b\b\b\b\b\b\b\b\b\b\b\b\b\b\b\n",
            "Epoch 45/64\n",
            "54/54 [==============================] - 63s 1s/step - loss: 1.5685 - accuracy: 0.9145 - val_loss: 4.5132 - val_accuracy: 0.8364\b\b\b\b\b\b\b\b\b\b\b\b\b\b\b\b\b\b\b\b\b\b\b\b\b\b\b\b\b\b\b\b\b\b\b\b\b\b\b\b\n",
            "Epoch 46/64\n",
            "54/54 [==============================] - 63s 1s/step - loss: 1.8109 - accuracy: 0.9058 - val_loss: 5.4642 - val_accuracy: 0.8052\b\b\b\b\b\b\b\b\b\b\b\b\b\b\b\b\b\b\b\b\b\b\b\b\b\b\b\b\b\b\b\b\b\b\b\b\b\b\b\b\n",
            "Epoch 47/64\n",
            "54/54 [==============================] - 62s 1s/step - loss: 1.9762 - accuracy: 0.9081 - val_loss: 4.8266 - val_accuracy: 0.8156\b\b\b\b\b\b\b\b\b\b\b\b\b\b\b\b\b\b\b\b\b\b\b\b\b\b\b\b\b\b\b\b\b\b\b\b\b\b\b\b\n",
            "Epoch 48/64\n",
            "54/54 [==============================] - 63s 1s/step - loss: 2.2591 - accuracy: 0.8944 - val_loss: 6.8525 - val_accuracy: 0.8195\b\b\b\b\b\b\b\b\b\b\b\b\b\b\b\b\b\b\b\b\b\b\b\b\b\b\b\b\b\b\b\b\b\b\b\b\b\b\b\b\n",
            "Epoch 49/64\n",
            "54/54 [==============================] - 63s 1s/step - loss: 1.9462 - accuracy: 0.9075 - val_loss: 4.3423 - val_accuracy: 0.8455\b\b\b\b\b\b\b\b\b\b\b\b\b\b\b\b\b\b\b\b\b\b\b\b\b\b\b\b\b\b\b\b\b\b\b\b\b\b\b\b\n",
            "Epoch 50/64\n",
            "54/54 [==============================] - 63s 1s/step - loss: 1.8085 - accuracy: 0.9049 - val_loss: 8.3610 - val_accuracy: 0.8117\b\b\b\b\b\b\b\b\b\b\b\b\b\b\b\b\b\b\b\b\b\b\b\b\b\b\b\b\b\b\b\b\b\b\b\b\b\b\b\b\n",
            "Epoch 51/64\n",
            "54/54 [==============================] - 62s 1s/step - loss: 1.8870 - accuracy: 0.9078 - val_loss: 4.5759 - val_accuracy: 0.8442\b\b\b\b\b\b\b\b\b\b\b\b\b\b\b\b\b\b\b\b\b\b\b\b\b\b\b\b\b\b\b\b\b\b\b\b\b\b\b\b\n",
            "Epoch 52/64\n",
            "54/54 [==============================] - 62s 1s/step - loss: 1.7123 - accuracy: 0.9110 - val_loss: 4.9304 - val_accuracy: 0.8260\b\b\b\b\b\b\b\b\b\b\b\b\b\b\b\b\b\b\b\b\b\b\b\b\b\b\b\b\b\b\b\b\b\b\b\b\b\b\b\b\n",
            "Epoch 53/64\n",
            "54/54 [==============================] - 63s 1s/step - loss: 1.7372 - accuracy: 0.9172 - val_loss: 5.0359 - val_accuracy: 0.8117\b\b\b\b\b\b\b\b\b\b\b\b\b\b\b\b\b\b\b\b\b\b\b\b\b\b\b\b\b\b\b\b\b\b\b\b\b\b\b\b\n",
            "Epoch 54/64\n",
            "54/54 [==============================] - 63s 1s/step - loss: 1.9001 - accuracy: 0.9046 - val_loss: 6.6199 - val_accuracy: 0.8143\b\b\b\b\b\b\b\b\b\b\b\b\b\b\b\b\b\b\b\b\b\b\b\b\b\b\b\b\b\b\b\b\b\b\b\b\b\b\b\b\n",
            "Epoch 55/64\n",
            "54/54 [==============================] - 63s 1s/step - loss: 1.7866 - accuracy: 0.9140 - val_loss: 6.3619 - val_accuracy: 0.7974\b\b\b\b\b\b\b\b\b\b\b\b\b\b\b\b\b\b\b\b\b\b\b\b\b\b\b\b\b\b\b\b\b\b\b\b\b\b\b\b\n",
            "Epoch 56/64\n",
            "54/54 [==============================] - 63s 1s/step - loss: 2.1217 - accuracy: 0.8976 - val_loss: 8.1644 - val_accuracy: 0.7688\b\b\b\b\b\b\b\b\b\b\b\b\b\b\b\b\b\b\b\b\b\b\b\b\b\b\b\b\b\b\b\b\b\b\b\b\b\b\b\b\n",
            "Epoch 57/64\n",
            "54/54 [==============================] - 63s 1s/step - loss: 1.9015 - accuracy: 0.9157 - val_loss: 6.4647 - val_accuracy: 0.8169\b\b\b\b\b\b\b\b\b\b\b\b\b\b\b\b\b\b\b\b\b\b\b\b\b\b\b\b\b\b\b\b\b\b\b\b\b\b\b\b\n",
            "Epoch 58/64\n",
            "54/54 [==============================] - 63s 1s/step - loss: 2.4669 - accuracy: 0.8938 - val_loss: 4.8010 - val_accuracy: 0.8390\b\b\b\b\b\b\b\b\b\b\b\b\b\b\b\b\b\b\b\b\b\b\b\b\b\b\b\b\b\b\b\b\b\b\b\b\b\b\b\b\n",
            "Epoch 59/64\n",
            "54/54 [==============================] - 63s 1s/step - loss: 2.0150 - accuracy: 0.9049 - val_loss: 3.9439 - val_accuracy: 0.8429\b\b\b\b\b\b\b\b\b\b\b\b\b\b\b\b\b\b\b\b\b\b\b\b\b\b\b\b\b\b\b\b\b\b\b\b\b\b\b\b\n",
            "Epoch 60/64\n",
            "54/54 [==============================] - 63s 1s/step - loss: 2.0184 - accuracy: 0.9093 - val_loss: 5.0747 - val_accuracy: 0.8312\b\b\b\b\b\b\b\b\b\b\b\b\b\b\b\b\b\b\b\b\b\b\b\b\b\b\b\b\b\b\b\b\b\b\b\b\b\b\b\b\n",
            "Epoch 61/64\n",
            "54/54 [==============================] - 63s 1s/step - loss: 2.0054 - accuracy: 0.9104 - val_loss: 4.7209 - val_accuracy: 0.8416\b\b\b\b\b\b\b\b\b\b\b\b\b\b\b\b\b\b\b\b\b\b\b\b\b\b\b\b\b\b\b\b\b\b\b\b\b\b\b\b\n",
            "Epoch 62/64\n",
            "54/54 [==============================] - 63s 1s/step - loss: 1.6377 - accuracy: 0.9157 - val_loss: 4.6256 - val_accuracy: 0.8169\b\b\b\b\b\b\b\b\b\b\b\b\b\b\b\b\b\b\b\b\b\b\b\b\b\b\b\b\b\b\b\b\b\b\b\b\b\b\b\b\n",
            "Epoch 63/64\n",
            "54/54 [==============================] - 62s 1s/step - loss: 1.8399 - accuracy: 0.9119 - val_loss: 5.0284 - val_accuracy: 0.8234\b\b\b\b\b\b\b\b\b\b\b\b\b\b\b\b\b\b\b\b\b\b\b\b\b\b\b\b\b\b\b\b\b\b\b\b\b\b\b\b\n",
            "Epoch 64/64\n",
            "54/54 [==============================] - 63s 1s/step - loss: 2.2597 - accuracy: 0.9043 - val_loss: 4.8888 - val_accuracy: 0.8260\b\b\b\b\b\b\b\b\b\b\b\b\b\b\b\b\b\b\b\b\b\b\b\b\b\b\b\b\b\b\b\b\b\b\b\b\b\b\b\b\n"
          ]
        }
      ],
      "execution_count": 20,
      "metadata": {
        "collapsed": true,
        "jupyter": {
          "source_hidden": false,
          "outputs_hidden": false
        },
        "nteract": {
          "transient": {
            "deleting": false
          }
        },
        "gather": {
          "logged": 1621792126303
        }
      }
    },
    {
      "cell_type": "code",
      "source": [
        "model.save('version1_Xception.h5')"
      ],
      "outputs": [],
      "execution_count": 21,
      "metadata": {
        "collapsed": true,
        "jupyter": {
          "source_hidden": false,
          "outputs_hidden": false
        },
        "nteract": {
          "transient": {
            "deleting": false
          }
        },
        "gather": {
          "logged": 1621792925539
        }
      }
    },
    {
      "cell_type": "code",
      "source": [
        "r=history\r\n",
        "import matplotlib.pyplot as plt\r\n",
        "# plot the loss\r\n",
        "plt.plot(r.history['loss'], label='train loss')\r\n",
        "plt.plot(r.history['val_loss'], label='val loss')\r\n",
        "plt.legend()\r\n",
        "plt.show()\r\n",
        "plt.savefig('LossVal_loss')\r\n",
        "\r\n",
        "# plot the accuracy\r\n",
        "plt.plot(r.history['accuracy'], label='train acc')\r\n",
        "plt.plot(r.history['val_accuracy'], label='val acc')\r\n",
        "plt.legend()\r\n",
        "plt.show()\r\n",
        "plt.savefig('AccVal_acc')"
      ],
      "outputs": [
        {
          "output_type": "display_data",
          "data": {
            "text/plain": "<Figure size 432x288 with 1 Axes>",
            "image/png": "[encoded data removed]"
          },
          "metadata": {
            "needs_background": "light"
          }
        },
        {
          "output_type": "display_data",
          "data": {
            "text/plain": "<Figure size 432x288 with 1 Axes>",
            "image/png": "[encoded data removed]"
          },
          "metadata": {
            "needs_background": "light"
          }
        },
        {
          "output_type": "display_data",
          "data": {
            "text/plain": "<Figure size 432x288 with 0 Axes>"
          },
          "metadata": {}
        }
      ],
      "execution_count": 22,
      "metadata": {
        "collapsed": true,
        "jupyter": {
          "source_hidden": false,
          "outputs_hidden": false
        },
        "nteract": {
          "transient": {
            "deleting": false
          }
        },
        "gather": {
          "logged": 1621792946237
        }
      }
    },
    {
      "cell_type": "code",
      "source": [
        "prediction = model.predict(X_test)"
      ],
      "outputs": [],
      "execution_count": 23,
      "metadata": {
        "collapsed": true,
        "jupyter": {
          "source_hidden": false,
          "outputs_hidden": false
        },
        "nteract": {
          "transient": {
            "deleting": false
          }
        },
        "gather": {
          "logged": 1621792970748
        }
      }
    },
    {
      "cell_type": "code",
      "source": [
        "predict=[]\r\n",
        "import numpy as np \r\n",
        "i=0\r\n",
        "\r\n",
        "for i in range(len(prediction)):\r\n",
        "    \r\n",
        "    maxElement = np.amax(prediction[i])\r\n",
        "    if(prediction[i][0]==maxElement):\r\n",
        "        predict.append('Blight')\r\n",
        "        \r\n",
        "    elif(prediction[i][1]==maxElement):\r\n",
        "        predict.append('Common_Rust')\r\n",
        "        \r\n",
        "    elif(prediction[i][2]==maxElement):\r\n",
        "        predict.append('Gray_Leaf_Spot')\r\n",
        "    else:\r\n",
        "      predict.append('Healthy')\r\n",
        "predict = np.array(predict)\r\n",
        "predict.shape"
      ],
      "outputs": [
        {
          "output_type": "execute_result",
          "execution_count": 24,
          "data": {
            "text/plain": "(770,)"
          },
          "metadata": {}
        }
      ],
      "execution_count": 24,
      "metadata": {
        "collapsed": true,
        "jupyter": {
          "source_hidden": false,
          "outputs_hidden": false
        },
        "nteract": {
          "transient": {
            "deleting": false
          }
        },
        "gather": {
          "logged": 1621792990811
        }
      }
    },
    {
      "cell_type": "code",
      "source": [
        "original=[]\r\n",
        "import numpy as np \r\n",
        "\r\n",
        "for i in range(len(y_test)):\r\n",
        "    \r\n",
        "    maxElement = np.amax(y_test[i])\r\n",
        "    if(y_test[i][0]==maxElement):\r\n",
        "        original.append('Blight')\r\n",
        "        \r\n",
        "    elif(y_test[i][1]==maxElement):\r\n",
        "        original.append('Common_Rust')\r\n",
        "        \r\n",
        "    elif(y_test[i][2]==maxElement):\r\n",
        "        original.append('Gray_Leaf_Spot')\r\n",
        "    else:\r\n",
        "      original.append('Healthy')\r\n",
        "original = np.array(original)\r\n",
        "original.shape"
      ],
      "outputs": [
        {
          "output_type": "execute_result",
          "execution_count": 25,
          "data": {
            "text/plain": "(770,)"
          },
          "metadata": {}
        }
      ],
      "execution_count": 25,
      "metadata": {
        "collapsed": true,
        "jupyter": {
          "source_hidden": false,
          "outputs_hidden": false
        },
        "nteract": {
          "transient": {
            "deleting": false
          }
        },
        "gather": {
          "logged": 1621793000741
        }
      }
    },
    {
      "cell_type": "code",
      "source": [
        "true = 0\r\n",
        "false = 0\r\n",
        "for i in range(len(y_test)):\r\n",
        "    if(predict[i]==original[i]):\r\n",
        "        true=true+1\r\n",
        "    else:\r\n",
        "        false=false+1\r\n",
        "        \r\n",
        "print('true =',true)\r\n",
        "print('false=',false)"
      ],
      "outputs": [
        {
          "output_type": "stream",
          "name": "stdout",
          "text": [
            "true = 636\n",
            "false= 134\n"
          ]
        }
      ],
      "execution_count": 26,
      "metadata": {
        "collapsed": true,
        "jupyter": {
          "source_hidden": false,
          "outputs_hidden": false
        },
        "nteract": {
          "transient": {
            "deleting": false
          }
        },
        "gather": {
          "logged": 1621793009623
        }
      }
    },
    {
      "cell_type": "code",
      "source": [
        "#Print overall accuracy\r\n",
        "from sklearn import metrics\r\n",
        "print (\"Accuracy = \", metrics.accuracy_score(original, predict))"
      ],
      "outputs": [
        {
          "output_type": "stream",
          "name": "stdout",
          "text": [
            "Accuracy =  0.825974025974026\n"
          ]
        }
      ],
      "execution_count": 27,
      "metadata": {
        "collapsed": true,
        "jupyter": {
          "source_hidden": false,
          "outputs_hidden": false
        },
        "nteract": {
          "transient": {
            "deleting": false
          }
        },
        "gather": {
          "logged": 1621793026049
        }
      }
    },
    {
      "cell_type": "code",
      "source": [
        "import seaborn as sns\r\n",
        "#Confusion Matrix - verify accuracy of each class\r\n",
        "from sklearn.metrics import confusion_matrix\r\n",
        "cm = confusion_matrix(original, predict)\r\n",
        "#print(cm)\r\n",
        "sns.heatmap(cm, annot=True)"
      ],
      "outputs": [
        {
          "output_type": "execute_result",
          "execution_count": 28,
          "data": {
            "text/plain": "<matplotlib.axes._subplots.AxesSubplot at 0x7f6dac58b748>"
          },
          "metadata": {}
        },
        {
          "output_type": "display_data",
          "data": {
            "text/plain": "<Figure size 432x288 with 2 Axes>",
            "image/png": "[encoded data removed]"
          },
          "metadata": {
            "needs_background": "light"
          }
        }
      ],
      "execution_count": 28,
      "metadata": {
        "collapsed": true,
        "jupyter": {
          "source_hidden": false,
          "outputs_hidden": false
        },
        "nteract": {
          "transient": {
            "deleting": false
          }
        },
        "gather": {
          "logged": 1621793035723
        }
      }
    },
    {
      "cell_type": "code",
      "source": [
        "from sklearn.metrics import confusion_matrix , classification_report\r\n",
        "import numpy as np\r\n",
        "target_names = ['Blight', 'Common_Rust', 'Gray_Leaf_Spot', 'Healthy']\r\n",
        "print(\"Classification Report: \\n\",classification_report(original, predict, target_names=target_names))"
      ],
      "outputs": [
        {
          "output_type": "stream",
          "name": "stdout",
          "text": [
            "Classification Report: \n",
            "                 precision    recall  f1-score   support\n",
            "\n",
            "        Blight       0.64      0.67      0.66       163\n",
            "   Common_Rust       0.85      0.96      0.90       261\n",
            "Gray_Leaf_Spot       0.68      0.50      0.58       114\n",
            "       Healthy       1.00      0.94      0.97       232\n",
            "\n",
            "      accuracy                           0.83       770\n",
            "     macro avg       0.79      0.77      0.78       770\n",
            "  weighted avg       0.82      0.83      0.82       770\n",
            "\n"
          ]
        }
      ],
      "execution_count": 29,
      "metadata": {
        "collapsed": true,
        "jupyter": {
          "source_hidden": false,
          "outputs_hidden": false
        },
        "nteract": {
          "transient": {
            "deleting": false
          }
        },
        "gather": {
          "logged": 1621793045445
        }
      }
    },
    {
      "cell_type": "code",
      "source": [
        "\r\n",
        "print('[')\r\n",
        "\r\n",
        "for i in range(770):\r\n",
        "\tprint(\"[%f,%f,%f,%f],\" % (prediction[i][0],prediction[i][1],prediction[i][2],prediction[i][3]))\r\n",
        " \r\n",
        "\r\n",
        "print(']')"
      ],
      "outputs": [
        {
          "output_type": "stream",
          "name": "stdout",
          "text": [
            "[\n",
            "[1.000000,0.000000,0.000000,0.000000],\n",
            "[1.000000,0.000000,0.000000,0.000000],\n",
            "[1.000000,0.000000,0.000000,0.000000],\n",
            "[1.000000,0.000000,0.000000,0.000000],\n",
            "[0.997226,0.002774,0.000000,0.000000],\n",
            "[1.000000,0.000000,0.000000,0.000000],\n",
            "[1.000000,0.000000,0.000000,0.000000],\n",
            "[0.000000,1.000000,0.000000,0.000000],\n",
            "[0.722447,0.000000,0.277553,0.000000],\n",
            "[1.000000,0.000000,0.000000,0.000000],\n",
            "[1.000000,0.000000,0.000000,0.000000],\n",
            "[1.000000,0.000000,0.000000,0.000000],\n",
            "[1.000000,0.000000,0.000000,0.000000],\n",
            "[1.000000,0.000000,0.000000,0.000000],\n",
            "[0.000000,0.000000,1.000000,0.000000],\n",
            "[0.000000,1.000000,0.000000,0.000000],\n",
            "[1.000000,0.000000,0.000000,0.000000],\n",
            "[0.993143,0.000000,0.006857,0.000000],\n",
            "[1.000000,0.000000,0.000000,0.000000],\n",
            "[1.000000,0.000000,0.000000,0.000000],\n",
            "[1.000000,0.000000,0.000000,0.000000],\n",
            "[0.000000,1.000000,0.000000,0.000000],\n",
            "[1.000000,0.000000,0.000000,0.000000],\n",
            "[0.999292,0.000708,0.000000,0.000000],\n",
            "[0.000000,1.000000,0.000000,0.000000],\n",
            "[0.000000,1.000000,0.000000,0.000000],\n",
            "[1.000000,0.000000,0.000000,0.000000],\n",
            "[1.000000,0.000000,0.000000,0.000000],\n",
            "[0.000000,0.000000,1.000000,0.000000],\n",
            "[0.000003,0.000000,0.999997,0.000000],\n",
            "[1.000000,0.000000,0.000000,0.000000],\n",
            "[1.000000,0.000000,0.000000,0.000000],\n",
            "[0.000000,0.999999,0.000001,0.000000],\n",
            "[1.000000,0.000000,0.000000,0.000000],\n",
            "[0.999998,0.000000,0.000002,0.000000],\n",
            "[0.000000,1.000000,0.000000,0.000000],\n",
            "[0.556379,0.000000,0.443621,0.000000],\n",
            "[1.000000,0.000000,0.000000,0.000000],\n",
            "[0.999997,0.000000,0.000003,0.000000],\n",
            "[1.000000,0.000000,0.000000,0.000000],\n",
            "[1.000000,0.000000,0.000000,0.000000],\n",
            "[1.000000,0.000000,0.000000,0.000000],\n",
            "[1.000000,0.000000,0.000000,0.000000],\n",
            "[1.000000,0.000000,0.000000,0.000000],\n",
            "[0.000000,1.000000,0.000000,0.000000],\n",
            "[1.000000,0.000000,0.000000,0.000000],\n",
            "[0.000000,1.000000,0.000000,0.000000],\n",
            "[1.000000,0.000000,0.000000,0.000000],\n",
            "[1.000000,0.000000,0.000000,0.000000],\n",
            "[0.000000,0.000000,1.000000,0.000000],\n",
            "[0.986233,0.013765,0.000002,0.000000],\n",
            "[0.111550,0.000000,0.888450,0.000000],\n",
            "[0.000000,1.000000,0.000000,0.000000],\n",
            "[1.000000,0.000000,0.000000,0.000000],\n",
            "[0.000000,0.000000,1.000000,0.000000],\n",
            "[0.986735,0.000000,0.013265,0.000000],\n",
            "[1.000000,0.000000,0.000000,0.000000],\n",
            "[0.994757,0.000000,0.005243,0.000000],\n",
            "[0.989157,0.000000,0.010843,0.000000],\n",
            "[0.993145,0.000000,0.006855,0.000000],\n",
            "[0.000000,1.000000,0.000000,0.000000],\n",
            "[1.000000,0.000000,0.000000,0.000000],\n",
            "[1.000000,0.000000,0.000000,0.000000],\n",
            "[1.000000,0.000000,0.000000,0.000000],\n",
            "[0.000071,0.000000,0.999929,0.000000],\n",
            "[0.999888,0.000000,0.000112,0.000000],\n",
            "[1.000000,0.000000,0.000000,0.000000],\n",
            "[0.410423,0.000000,0.589577,0.000000],\n",
            "[1.000000,0.000000,0.000000,0.000000],\n",
            "[1.000000,0.000000,0.000000,0.000000],\n",
            "[1.000000,0.000000,0.000000,0.000000],\n",
            "[1.000000,0.000000,0.000000,0.000000],\n",
            "[1.000000,0.000000,0.000000,0.000000],\n",
            "[0.025071,0.000000,0.974929,0.000000],\n",
            "[0.012638,0.987362,0.000000,0.000000],\n",
            "[0.999665,0.000334,0.000000,0.000000],\n",
            "[0.000016,0.000000,0.999984,0.000000],\n",
            "[0.000000,0.000000,1.000000,0.000000],\n",
            "[0.000000,1.000000,0.000000,0.000000],\n",
            "[0.000000,1.000000,0.000000,0.000000],\n",
            "[0.971013,0.028987,0.000000,0.000000],\n",
            "[1.000000,0.000000,0.000000,0.000000],\n",
            "[1.000000,0.000000,0.000000,0.000000],\n",
            "[0.000000,0.000023,0.999977,0.000000],\n",
            "[0.986263,0.000000,0.013737,0.000000],\n",
            "[1.000000,0.000000,0.000000,0.000000],\n",
            "[1.000000,0.000000,0.000000,0.000000],\n",
            "[0.000261,0.000000,0.999739,0.000000],\n",
            "[1.000000,0.000000,0.000000,0.000000],\n",
            "[1.000000,0.000000,0.000000,0.000000],\n",
            "[0.017060,0.000000,0.982940,0.000000],\n",
            "[1.000000,0.000000,0.000000,0.000000],\n",
            "[1.000000,0.000000,0.000000,0.000000],\n",
            "[0.000000,1.000000,0.000000,0.000000],\n",
            "[0.000000,1.000000,0.000000,0.000000],\n",
            "[0.000000,1.000000,0.000000,0.000000],\n",
            "[0.053651,0.946349,0.000000,0.000000],\n",
            "[1.000000,0.000000,0.000000,0.000000],\n",
            "[1.000000,0.000000,0.000000,0.000000],\n",
            "[0.000000,1.000000,0.000000,0.000000],\n",
            "[1.000000,0.000000,0.000000,0.000000],\n",
            "[1.000000,0.000000,0.000000,0.000000],\n",
            "[1.000000,0.000000,0.000000,0.000000],\n",
            "[1.000000,0.000000,0.000000,0.000000],\n",
            "[0.000000,0.000000,1.000000,0.000000],\n",
            "[1.000000,0.000000,0.000000,0.000000],\n",
            "[0.000000,0.000000,1.000000,0.000000],\n",
            "[1.000000,0.000000,0.000000,0.000000],\n",
            "[1.000000,0.000000,0.000000,0.000000],\n",
            "[0.332204,0.667793,0.000003,0.000000],\n",
            "[1.000000,0.000000,0.000000,0.000000],\n",
            "[0.000000,0.000000,1.000000,0.000000],\n",
            "[1.000000,0.000000,0.000000,0.000000],\n",
            "[0.455262,0.544738,0.000000,0.000000],\n",
            "[1.000000,0.000000,0.000000,0.000000],\n",
            "[0.000000,0.999977,0.000023,0.000000],\n",
            "[1.000000,0.000000,0.000000,0.000000],\n",
            "[1.000000,0.000000,0.000000,0.000000],\n",
            "[0.000000,1.000000,0.000000,0.000000],\n",
            "[1.000000,0.000000,0.000000,0.000000],\n",
            "[0.998387,0.001613,0.000000,0.000000],\n",
            "[0.350889,0.000000,0.649111,0.000000],\n",
            "[1.000000,0.000000,0.000000,0.000000],\n",
            "[0.000000,1.000000,0.000000,0.000000],\n",
            "[1.000000,0.000000,0.000000,0.000000],\n",
            "[0.977836,0.000000,0.022164,0.000000],\n",
            "[1.000000,0.000000,0.000000,0.000000],\n",
            "[1.000000,0.000000,0.000000,0.000000],\n",
            "[0.000000,0.073236,0.926764,0.000000],\n",
            "[1.000000,0.000000,0.000000,0.000000],\n",
            "[1.000000,0.000000,0.000000,0.000000],\n",
            "[1.000000,0.000000,0.000000,0.000000],\n",
            "[1.000000,0.000000,0.000000,0.000000],\n",
            "[0.000271,0.089652,0.910077,0.000000],\n",
            "[1.000000,0.000000,0.000000,0.000000],\n",
            "[1.000000,0.000000,0.000000,0.000000],\n",
            "[1.000000,0.000000,0.000000,0.000000],\n",
            "[1.000000,0.000000,0.000000,0.000000],\n",
            "[0.997148,0.000000,0.002853,0.000000],\n",
            "[0.000001,0.000000,0.999999,0.000000],\n",
            "[1.000000,0.000000,0.000000,0.000000],\n",
            "[1.000000,0.000000,0.000000,0.000000],\n",
            "[1.000000,0.000000,0.000000,0.000000],\n",
            "[1.000000,0.000000,0.000000,0.000000],\n",
            "[1.000000,0.000000,0.000000,0.000000],\n",
            "[1.000000,0.000000,0.000000,0.000000],\n",
            "[0.000000,1.000000,0.000000,0.000000],\n",
            "[0.000000,1.000000,0.000000,0.000000],\n",
            "[1.000000,0.000000,0.000000,0.000000],\n",
            "[1.000000,0.000000,0.000000,0.000000],\n",
            "[1.000000,0.000000,0.000000,0.000000],\n",
            "[0.000000,0.000000,1.000000,0.000000],\n",
            "[0.000000,1.000000,0.000000,0.000000],\n",
            "[0.000000,1.000000,0.000000,0.000000],\n",
            "[1.000000,0.000000,0.000000,0.000000],\n",
            "[1.000000,0.000000,0.000000,0.000000],\n",
            "[1.000000,0.000000,0.000001,0.000000],\n",
            "[1.000000,0.000000,0.000000,0.000000],\n",
            "[0.998366,0.000000,0.001634,0.000000],\n",
            "[1.000000,0.000000,0.000000,0.000000],\n",
            "[0.201547,0.798453,0.000000,0.000000],\n",
            "[0.000202,0.000000,0.999798,0.000000],\n",
            "[0.000000,0.000000,1.000000,0.000000],\n",
            "[0.000000,1.000000,0.000000,0.000000],\n",
            "[0.000000,1.000000,0.000000,0.000000],\n",
            "[0.000000,1.000000,0.000000,0.000000],\n",
            "[0.000000,1.000000,0.000000,0.000000],\n",
            "[0.000000,1.000000,0.000000,0.000000],\n",
            "[0.000000,1.000000,0.000000,0.000000],\n",
            "[0.000000,1.000000,0.000000,0.000000],\n",
            "[0.000000,1.000000,0.000000,0.000000],\n",
            "[0.000000,1.000000,0.000000,0.000000],\n",
            "[0.000000,1.000000,0.000000,0.000000],\n",
            "[0.000000,1.000000,0.000000,0.000000],\n",
            "[0.000000,1.000000,0.000000,0.000000],\n",
            "[0.000000,1.000000,0.000000,0.000000],\n",
            "[0.000000,1.000000,0.000000,0.000000],\n",
            "[0.000000,1.000000,0.000000,0.000000],\n",
            "[0.000000,1.000000,0.000000,0.000000],\n",
            "[0.000000,1.000000,0.000000,0.000000],\n",
            "[0.000000,1.000000,0.000000,0.000000],\n",
            "[0.000000,1.000000,0.000000,0.000000],\n",
            "[0.000000,1.000000,0.000000,0.000000],\n",
            "[0.000000,1.000000,0.000000,0.000000],\n",
            "[0.000000,1.000000,0.000000,0.000000],\n",
            "[0.000000,1.000000,0.000000,0.000000],\n",
            "[0.000000,1.000000,0.000000,0.000000],\n",
            "[0.000000,1.000000,0.000000,0.000000],\n",
            "[0.000000,1.000000,0.000000,0.000000],\n",
            "[0.000000,1.000000,0.000000,0.000000],\n",
            "[0.000000,1.000000,0.000000,0.000000],\n",
            "[0.000000,1.000000,0.000000,0.000000],\n",
            "[0.000000,1.000000,0.000000,0.000000],\n",
            "[0.000000,1.000000,0.000000,0.000000],\n",
            "[0.000000,1.000000,0.000000,0.000000],\n",
            "[0.000000,1.000000,0.000000,0.000000],\n",
            "[0.000000,1.000000,0.000000,0.000000],\n",
            "[0.000000,1.000000,0.000000,0.000000],\n",
            "[0.000000,1.000000,0.000000,0.000000],\n",
            "[0.000000,1.000000,0.000000,0.000000],\n",
            "[0.000000,1.000000,0.000000,0.000000],\n",
            "[0.000000,1.000000,0.000000,0.000000],\n",
            "[0.000000,1.000000,0.000000,0.000000],\n",
            "[0.000000,1.000000,0.000000,0.000000],\n",
            "[0.000000,1.000000,0.000000,0.000000],\n",
            "[0.000000,1.000000,0.000000,0.000000],\n",
            "[0.000000,1.000000,0.000000,0.000000],\n",
            "[0.000000,1.000000,0.000000,0.000000],\n",
            "[0.000000,1.000000,0.000000,0.000000],\n",
            "[0.000000,1.000000,0.000000,0.000000],\n",
            "[0.000000,1.000000,0.000000,0.000000],\n",
            "[0.000000,1.000000,0.000000,0.000000],\n",
            "[0.000000,1.000000,0.000000,0.000000],\n",
            "[0.000000,1.000000,0.000000,0.000000],\n",
            "[0.000000,1.000000,0.000000,0.000000],\n",
            "[0.000000,1.000000,0.000000,0.000000],\n",
            "[0.000000,1.000000,0.000000,0.000000],\n",
            "[0.000000,1.000000,0.000000,0.000000],\n",
            "[0.000000,1.000000,0.000000,0.000000],\n",
            "[0.000000,1.000000,0.000000,0.000000],\n",
            "[1.000000,0.000000,0.000000,0.000000],\n",
            "[0.048573,0.951427,0.000000,0.000000],\n",
            "[1.000000,0.000000,0.000000,0.000000],\n",
            "[0.000000,1.000000,0.000000,0.000000],\n",
            "[0.000000,1.000000,0.000000,0.000000],\n",
            "[0.000000,1.000000,0.000000,0.000000],\n",
            "[0.000000,1.000000,0.000000,0.000000],\n",
            "[0.000000,0.009986,0.990014,0.000000],\n",
            "[0.000000,1.000000,0.000000,0.000000],\n",
            "[0.000000,1.000000,0.000000,0.000000],\n",
            "[0.000000,1.000000,0.000000,0.000000],\n",
            "[1.000000,0.000000,0.000000,0.000000],\n",
            "[0.000000,1.000000,0.000000,0.000000],\n",
            "[0.000000,1.000000,0.000000,0.000000],\n",
            "[0.000000,1.000000,0.000000,0.000000],\n",
            "[0.000000,1.000000,0.000000,0.000000],\n",
            "[0.000000,1.000000,0.000000,0.000000],\n",
            "[0.000000,1.000000,0.000000,0.000000],\n",
            "[0.000000,1.000000,0.000000,0.000000],\n",
            "[1.000000,0.000000,0.000000,0.000000],\n",
            "[0.000000,1.000000,0.000000,0.000000],\n",
            "[0.000000,1.000000,0.000000,0.000000],\n",
            "[0.000000,1.000000,0.000000,0.000000],\n",
            "[0.000000,1.000000,0.000000,0.000000],\n",
            "[0.000000,1.000000,0.000000,0.000000],\n",
            "[0.000000,1.000000,0.000000,0.000000],\n",
            "[0.000000,1.000000,0.000000,0.000000],\n",
            "[0.000000,1.000000,0.000000,0.000000],\n",
            "[0.000000,1.000000,0.000000,0.000000],\n",
            "[0.000000,1.000000,0.000000,0.000000],\n",
            "[0.000000,1.000000,0.000000,0.000000],\n",
            "[0.000000,1.000000,0.000000,0.000000],\n",
            "[0.000000,1.000000,0.000000,0.000000],\n",
            "[0.000000,1.000000,0.000000,0.000000],\n",
            "[0.000000,1.000000,0.000000,0.000000],\n",
            "[0.000000,1.000000,0.000000,0.000000],\n",
            "[0.000000,1.000000,0.000000,0.000000],\n",
            "[0.000000,1.000000,0.000000,0.000000],\n",
            "[0.000000,1.000000,0.000000,0.000000],\n",
            "[0.000000,1.000000,0.000000,0.000000],\n",
            "[0.000000,1.000000,0.000000,0.000000],\n",
            "[0.000000,1.000000,0.000000,0.000000],\n",
            "[0.000000,1.000000,0.000000,0.000000],\n",
            "[0.000000,1.000000,0.000000,0.000000],\n",
            "[0.000000,1.000000,0.000000,0.000000],\n",
            "[0.000000,1.000000,0.000000,0.000000],\n",
            "[0.000000,1.000000,0.000000,0.000000],\n",
            "[0.000000,1.000000,0.000000,0.000000],\n",
            "[0.000013,0.996725,0.003262,0.000000],\n",
            "[0.000000,1.000000,0.000000,0.000000],\n",
            "[0.000000,1.000000,0.000000,0.000000],\n",
            "[0.000000,1.000000,0.000000,0.000000],\n",
            "[0.000000,1.000000,0.000000,0.000000],\n",
            "[0.000000,1.000000,0.000000,0.000000],\n",
            "[0.000000,1.000000,0.000000,0.000000],\n",
            "[0.000000,1.000000,0.000000,0.000000],\n",
            "[0.000000,1.000000,0.000000,0.000000],\n",
            "[0.000000,1.000000,0.000000,0.000000],\n",
            "[0.000000,1.000000,0.000000,0.000000],\n",
            "[0.000000,1.000000,0.000000,0.000000],\n",
            "[0.000000,1.000000,0.000000,0.000000],\n",
            "[0.000000,1.000000,0.000000,0.000000],\n",
            "[0.000000,1.000000,0.000000,0.000000],\n",
            "[0.000000,1.000000,0.000000,0.000000],\n",
            "[0.000000,1.000000,0.000000,0.000000],\n",
            "[1.000000,0.000000,0.000000,0.000000],\n",
            "[0.000000,1.000000,0.000000,0.000000],\n",
            "[0.000000,1.000000,0.000000,0.000000],\n",
            "[0.000000,1.000000,0.000000,0.000000],\n",
            "[0.000000,1.000000,0.000000,0.000000],\n",
            "[0.000000,1.000000,0.000000,0.000000],\n",
            "[0.000000,1.000000,0.000000,0.000000],\n",
            "[0.000000,1.000000,0.000000,0.000000],\n",
            "[0.000000,1.000000,0.000000,0.000000],\n",
            "[0.000000,1.000000,0.000000,0.000000],\n",
            "[0.000000,1.000000,0.000000,0.000000],\n",
            "[0.000000,1.000000,0.000000,0.000000],\n",
            "[0.000000,1.000000,0.000000,0.000000],\n",
            "[0.000000,1.000000,0.000000,0.000000],\n",
            "[0.000000,1.000000,0.000000,0.000000],\n",
            "[0.000000,1.000000,0.000000,0.000000],\n",
            "[0.000000,1.000000,0.000000,0.000000],\n",
            "[0.000000,1.000000,0.000000,0.000000],\n",
            "[0.000000,1.000000,0.000000,0.000000],\n",
            "[0.000000,1.000000,0.000000,0.000000],\n",
            "[0.000000,1.000000,0.000000,0.000000],\n",
            "[0.000000,1.000000,0.000000,0.000000],\n",
            "[0.000000,1.000000,0.000000,0.000000],\n",
            "[0.000000,1.000000,0.000000,0.000000],\n",
            "[0.000000,1.000000,0.000000,0.000000],\n",
            "[0.000000,1.000000,0.000000,0.000000],\n",
            "[0.000000,1.000000,0.000000,0.000000],\n",
            "[0.000000,1.000000,0.000000,0.000000],\n",
            "[0.000000,1.000000,0.000000,0.000000],\n",
            "[0.000000,1.000000,0.000000,0.000000],\n",
            "[0.000000,1.000000,0.000000,0.000000],\n",
            "[0.000000,1.000000,0.000000,0.000000],\n",
            "[0.000000,1.000000,0.000000,0.000000],\n",
            "[0.000000,1.000000,0.000000,0.000000],\n",
            "[0.000000,1.000000,0.000000,0.000000],\n",
            "[0.000000,1.000000,0.000000,0.000000],\n",
            "[0.000000,1.000000,0.000000,0.000000],\n",
            "[0.000000,1.000000,0.000000,0.000000],\n",
            "[0.000000,1.000000,0.000000,0.000000],\n",
            "[0.000000,1.000000,0.000000,0.000000],\n",
            "[0.000000,1.000000,0.000000,0.000000],\n",
            "[0.000000,1.000000,0.000000,0.000000],\n",
            "[0.000000,1.000000,0.000000,0.000000],\n",
            "[0.000000,1.000000,0.000000,0.000000],\n",
            "[0.000000,1.000000,0.000000,0.000000],\n",
            "[0.000000,1.000000,0.000000,0.000000],\n",
            "[0.000000,1.000000,0.000000,0.000000],\n",
            "[0.000000,1.000000,0.000000,0.000000],\n",
            "[1.000000,0.000000,0.000000,0.000000],\n",
            "[0.000000,1.000000,0.000000,0.000000],\n",
            "[0.000000,1.000000,0.000000,0.000000],\n",
            "[0.000000,1.000000,0.000000,0.000000],\n",
            "[0.000000,1.000000,0.000000,0.000000],\n",
            "[0.000000,1.000000,0.000000,0.000000],\n",
            "[0.000000,1.000000,0.000000,0.000000],\n",
            "[0.000000,1.000000,0.000000,0.000000],\n",
            "[0.000000,1.000000,0.000000,0.000000],\n",
            "[0.000000,1.000000,0.000000,0.000000],\n",
            "[0.000000,1.000000,0.000000,0.000000],\n",
            "[0.000000,1.000000,0.000000,0.000000],\n",
            "[0.000000,1.000000,0.000000,0.000000],\n",
            "[0.000000,1.000000,0.000000,0.000000],\n",
            "[0.000000,1.000000,0.000000,0.000000],\n",
            "[0.000000,1.000000,0.000000,0.000000],\n",
            "[0.000000,1.000000,0.000000,0.000000],\n",
            "[0.000000,1.000000,0.000000,0.000000],\n",
            "[0.000000,1.000000,0.000000,0.000000],\n",
            "[0.000000,1.000000,0.000000,0.000000],\n",
            "[0.000000,1.000000,0.000000,0.000000],\n",
            "[0.000000,0.997207,0.002793,0.000000],\n",
            "[0.000000,1.000000,0.000000,0.000000],\n",
            "[1.000000,0.000000,0.000000,0.000000],\n",
            "[0.000000,1.000000,0.000000,0.000000],\n",
            "[0.999994,0.000006,0.000000,0.000000],\n",
            "[0.000000,1.000000,0.000000,0.000000],\n",
            "[0.000000,1.000000,0.000000,0.000000],\n",
            "[0.000000,1.000000,0.000000,0.000000],\n",
            "[0.000000,1.000000,0.000000,0.000000],\n",
            "[0.000000,1.000000,0.000000,0.000000],\n",
            "[0.000000,1.000000,0.000000,0.000000],\n",
            "[0.000000,1.000000,0.000000,0.000000],\n",
            "[0.000000,1.000000,0.000000,0.000000],\n",
            "[0.000000,1.000000,0.000000,0.000000],\n",
            "[0.000000,1.000000,0.000000,0.000000],\n",
            "[0.000000,1.000000,0.000000,0.000000],\n",
            "[0.000000,1.000000,0.000000,0.000000],\n",
            "[0.000000,1.000000,0.000000,0.000000],\n",
            "[0.000000,1.000000,0.000000,0.000000],\n",
            "[0.000000,1.000000,0.000000,0.000000],\n",
            "[0.000000,1.000000,0.000000,0.000000],\n",
            "[0.000000,1.000000,0.000000,0.000000],\n",
            "[0.000000,1.000000,0.000000,0.000000],\n",
            "[0.000000,1.000000,0.000000,0.000000],\n",
            "[0.000000,1.000000,0.000000,0.000000],\n",
            "[0.000000,1.000000,0.000000,0.000000],\n",
            "[0.000000,1.000000,0.000000,0.000000],\n",
            "[0.000000,1.000000,0.000000,0.000000],\n",
            "[0.000000,1.000000,0.000000,0.000000],\n",
            "[0.000000,1.000000,0.000000,0.000000],\n",
            "[0.000000,1.000000,0.000000,0.000000],\n",
            "[0.000000,1.000000,0.000000,0.000000],\n",
            "[0.000000,1.000000,0.000000,0.000000],\n",
            "[0.000000,1.000000,0.000000,0.000000],\n",
            "[0.000000,1.000000,0.000000,0.000000],\n",
            "[0.000000,1.000000,0.000000,0.000000],\n",
            "[0.000000,1.000000,0.000000,0.000000],\n",
            "[0.000000,1.000000,0.000000,0.000000],\n",
            "[0.000000,1.000000,0.000000,0.000000],\n",
            "[0.000000,1.000000,0.000000,0.000000],\n",
            "[0.000000,1.000000,0.000000,0.000000],\n",
            "[0.000000,1.000000,0.000000,0.000000],\n",
            "[0.000000,1.000000,0.000000,0.000000],\n",
            "[0.000000,1.000000,0.000000,0.000000],\n",
            "[0.000000,1.000000,0.000000,0.000000],\n",
            "[0.000000,1.000000,0.000000,0.000000],\n",
            "[0.000000,1.000000,0.000000,0.000000],\n",
            "[0.000000,1.000000,0.000000,0.000000],\n",
            "[0.000000,0.000506,0.999493,0.000000],\n",
            "[0.000000,1.000000,0.000000,0.000000],\n",
            "[0.000000,1.000000,0.000000,0.000000],\n",
            "[0.000000,1.000000,0.000000,0.000000],\n",
            "[0.000000,1.000000,0.000000,0.000000],\n",
            "[0.000000,1.000000,0.000000,0.000000],\n",
            "[0.000000,1.000000,0.000000,0.000000],\n",
            "[0.000000,1.000000,0.000000,0.000000],\n",
            "[0.000000,1.000000,0.000000,0.000000],\n",
            "[0.000000,1.000000,0.000000,0.000000],\n",
            "[0.000000,1.000000,0.000000,0.000000],\n",
            "[0.000000,1.000000,0.000000,0.000000],\n",
            "[0.000000,1.000000,0.000000,0.000000],\n",
            "[0.000000,1.000000,0.000000,0.000000],\n",
            "[0.000000,1.000000,0.000000,0.000000],\n",
            "[0.000000,1.000000,0.000000,0.000000],\n",
            "[0.000000,1.000000,0.000000,0.000000],\n",
            "[0.000000,1.000000,0.000000,0.000000],\n",
            "[0.000000,1.000000,0.000000,0.000000],\n",
            "[0.000000,1.000000,0.000000,0.000000],\n",
            "[0.000000,1.000000,0.000000,0.000000],\n",
            "[0.000000,1.000000,0.000000,0.000000],\n",
            "[0.000000,1.000000,0.000000,0.000000],\n",
            "[0.000000,0.000000,1.000000,0.000000],\n",
            "[1.000000,0.000000,0.000000,0.000000],\n",
            "[1.000000,0.000000,0.000000,0.000000],\n",
            "[1.000000,0.000000,0.000000,0.000000],\n",
            "[1.000000,0.000000,0.000000,0.000000],\n",
            "[0.000000,1.000000,0.000000,0.000000],\n",
            "[0.000000,0.000000,1.000000,0.000000],\n",
            "[0.000171,0.000000,0.999829,0.000000],\n",
            "[0.000000,0.000000,1.000000,0.000000],\n",
            "[1.000000,0.000000,0.000000,0.000000],\n",
            "[1.000000,0.000000,0.000000,0.000000],\n",
            "[0.999939,0.000000,0.000061,0.000000],\n",
            "[1.000000,0.000000,0.000000,0.000000],\n",
            "[0.000000,0.000000,1.000000,0.000000],\n",
            "[0.000000,0.000000,1.000000,0.000000],\n",
            "[0.990575,0.000083,0.009342,0.000000],\n",
            "[0.000000,1.000000,0.000000,0.000000],\n",
            "[0.000000,0.000000,1.000000,0.000000],\n",
            "[1.000000,0.000000,0.000000,0.000000],\n",
            "[0.000000,0.000000,1.000000,0.000000],\n",
            "[0.001237,0.998763,0.000000,0.000000],\n",
            "[0.000000,0.000000,1.000000,0.000000],\n",
            "[1.000000,0.000000,0.000000,0.000000],\n",
            "[0.000000,0.000000,1.000000,0.000000],\n",
            "[0.000000,0.000000,1.000000,0.000000],\n",
            "[1.000000,0.000000,0.000000,0.000000],\n",
            "[0.000000,0.000000,1.000000,0.000000],\n",
            "[0.000000,0.000000,1.000000,0.000000],\n",
            "[0.999991,0.000000,0.000009,0.000000],\n",
            "[0.674926,0.067756,0.257319,0.000000],\n",
            "[0.000000,0.000000,1.000000,0.000000],\n",
            "[0.000000,1.000000,0.000000,0.000000],\n",
            "[0.000000,0.000000,1.000000,0.000000],\n",
            "[0.981338,0.018662,0.000000,0.000000],\n",
            "[0.000000,0.000000,1.000000,0.000000],\n",
            "[0.000443,0.000000,0.999557,0.000000],\n",
            "[0.148630,0.000000,0.851370,0.000000],\n",
            "[0.999983,0.000000,0.000017,0.000000],\n",
            "[0.000000,0.000000,1.000000,0.000000],\n",
            "[1.000000,0.000000,0.000000,0.000000],\n",
            "[0.000000,0.000000,1.000000,0.000000],\n",
            "[1.000000,0.000000,0.000000,0.000000],\n",
            "[0.000000,0.000176,0.999824,0.000000],\n",
            "[0.000000,1.000000,0.000000,0.000000],\n",
            "[0.000000,0.000000,1.000000,0.000000],\n",
            "[0.000000,1.000000,0.000000,0.000000],\n",
            "[0.000000,0.000000,1.000000,0.000000],\n",
            "[0.000000,1.000000,0.000000,0.000000],\n",
            "[1.000000,0.000000,0.000000,0.000000],\n",
            "[0.000000,0.000000,1.000000,0.000000],\n",
            "[0.000093,0.000000,0.999907,0.000000],\n",
            "[1.000000,0.000000,0.000000,0.000000],\n",
            "[0.000000,0.000000,1.000000,0.000000],\n",
            "[1.000000,0.000000,0.000000,0.000000],\n",
            "[0.000000,0.000000,1.000000,0.000000],\n",
            "[1.000000,0.000000,0.000000,0.000000],\n",
            "[0.999855,0.000145,0.000000,0.000000],\n",
            "[0.000000,0.011486,0.988514,0.000000],\n",
            "[0.000000,0.999988,0.000012,0.000000],\n",
            "[1.000000,0.000000,0.000000,0.000000],\n",
            "[1.000000,0.000000,0.000000,0.000000],\n",
            "[1.000000,0.000000,0.000000,0.000000],\n",
            "[0.000000,0.000004,0.999997,0.000000],\n",
            "[0.003964,0.996036,0.000000,0.000000],\n",
            "[0.000000,0.000000,1.000000,0.000000],\n",
            "[0.000000,0.000000,1.000000,0.000000],\n",
            "[1.000000,0.000000,0.000000,0.000000],\n",
            "[0.000000,1.000000,0.000000,0.000000],\n",
            "[0.000000,0.000000,1.000000,0.000000],\n",
            "[1.000000,0.000000,0.000000,0.000000],\n",
            "[0.000511,0.000000,0.999489,0.000000],\n",
            "[0.206318,0.000000,0.793683,0.000000],\n",
            "[0.000000,0.000000,1.000000,0.000000],\n",
            "[0.000009,0.998963,0.001027,0.000000],\n",
            "[0.000000,0.000000,1.000000,0.000000],\n",
            "[0.000141,0.010510,0.989349,0.000000],\n",
            "[0.000000,0.000000,1.000000,0.000000],\n",
            "[0.000046,0.000000,0.999954,0.000000],\n",
            "[0.999999,0.000000,0.000001,0.000000],\n",
            "[0.000004,0.000000,0.999996,0.000000],\n",
            "[0.000000,0.000000,1.000000,0.000000],\n",
            "[0.000000,0.000000,1.000000,0.000000],\n",
            "[0.000000,0.000000,1.000000,0.000000],\n",
            "[0.000000,0.000000,1.000000,0.000000],\n",
            "[0.000000,0.000000,1.000000,0.000000],\n",
            "[0.993845,0.000000,0.006155,0.000000],\n",
            "[1.000000,0.000000,0.000000,0.000000],\n",
            "[0.672259,0.000000,0.327741,0.000000],\n",
            "[0.000002,0.000000,0.999998,0.000000],\n",
            "[0.999999,0.000000,0.000001,0.000000],\n",
            "[0.000000,0.000000,1.000000,0.000000],\n",
            "[0.937721,0.062279,0.000000,0.000000],\n",
            "[0.000000,0.000000,1.000000,0.000000],\n",
            "[0.000000,0.000000,1.000000,0.000000],\n",
            "[0.000000,1.000000,0.000000,0.000000],\n",
            "[1.000000,0.000000,0.000000,0.000000],\n",
            "[0.844811,0.000000,0.155188,0.000000],\n",
            "[0.000000,1.000000,0.000000,0.000000],\n",
            "[0.999822,0.000000,0.000178,0.000000],\n",
            "[0.000000,1.000000,0.000000,0.000000],\n",
            "[0.000000,0.000000,1.000000,0.000000],\n",
            "[1.000000,0.000000,0.000000,0.000000],\n",
            "[0.999299,0.000000,0.000701,0.000000],\n",
            "[1.000000,0.000000,0.000000,0.000000],\n",
            "[0.000022,0.000000,0.999978,0.000000],\n",
            "[0.000000,0.000000,1.000000,0.000000],\n",
            "[0.000000,0.000000,1.000000,0.000000],\n",
            "[0.283375,0.000000,0.716625,0.000000],\n",
            "[1.000000,0.000000,0.000000,0.000000],\n",
            "[0.000000,0.000000,1.000000,0.000000],\n",
            "[0.881761,0.000000,0.118239,0.000000],\n",
            "[0.000000,0.000000,1.000000,0.000000],\n",
            "[0.000000,0.000000,1.000000,0.000000],\n",
            "[0.000000,0.000000,0.000000,1.000000],\n",
            "[0.000000,0.000000,0.000000,1.000000],\n",
            "[0.000000,0.000000,0.000000,1.000000],\n",
            "[0.000000,0.000000,0.000000,1.000000],\n",
            "[0.000000,0.000000,0.000000,1.000000],\n",
            "[0.000000,0.000000,0.000000,1.000000],\n",
            "[0.000000,0.000000,0.000000,1.000000],\n",
            "[0.000000,0.000000,0.000000,1.000000],\n",
            "[0.000000,0.000000,0.000000,1.000000],\n",
            "[0.000000,0.000000,0.000000,1.000000],\n",
            "[0.000000,0.000000,0.000000,1.000000],\n",
            "[0.000000,0.000000,0.000000,1.000000],\n",
            "[1.000000,0.000000,0.000000,0.000000],\n",
            "[0.000000,0.000000,0.000000,1.000000],\n",
            "[0.000000,0.000000,0.000000,1.000000],\n",
            "[0.000000,0.000000,0.000000,1.000000],\n",
            "[0.000000,0.000000,0.000000,1.000000],\n",
            "[0.000000,0.000000,0.000000,1.000000],\n",
            "[0.000000,0.000000,0.000000,1.000000],\n",
            "[0.000000,0.000000,0.000000,1.000000],\n",
            "[0.000000,0.000000,0.000000,1.000000],\n",
            "[0.000000,0.000000,0.000000,1.000000],\n",
            "[0.000000,0.000000,0.000000,1.000000],\n",
            "[0.000000,0.000000,0.000000,1.000000],\n",
            "[0.000000,0.000000,0.000000,1.000000],\n",
            "[0.000000,0.000000,0.000000,1.000000],\n",
            "[0.000000,0.000000,0.000000,1.000000],\n",
            "[0.000000,0.000000,0.000000,1.000000],\n",
            "[1.000000,0.000000,0.000000,0.000000],\n",
            "[0.000000,0.000000,0.000000,1.000000],\n",
            "[0.000000,0.000000,0.000000,1.000000],\n",
            "[0.000000,0.000000,0.000000,1.000000],\n",
            "[0.000000,0.000000,0.000000,1.000000],\n",
            "[0.000000,0.000000,0.000000,1.000000],\n",
            "[0.000000,0.000000,0.000000,1.000000],\n",
            "[0.000000,0.000000,0.000000,1.000000],\n",
            "[0.000000,0.000000,0.000000,1.000000],\n",
            "[0.000000,0.000000,0.000000,1.000000],\n",
            "[0.000000,0.000000,0.000000,1.000000],\n",
            "[0.000000,0.000000,0.000000,1.000000],\n",
            "[0.000000,0.000000,0.000000,1.000000],\n",
            "[0.000000,0.000000,0.000000,1.000000],\n",
            "[0.000000,0.000000,0.000000,1.000000],\n",
            "[0.000000,0.000000,0.000000,1.000000],\n",
            "[0.000000,0.000000,0.000000,1.000000],\n",
            "[0.000000,0.000000,0.000000,1.000000],\n",
            "[0.000000,0.000000,0.000000,1.000000],\n",
            "[0.000000,0.000000,0.000000,1.000000],\n",
            "[0.000000,0.000000,0.000000,1.000000],\n",
            "[0.000000,0.000000,0.000000,1.000000],\n",
            "[0.000000,0.000000,0.000000,1.000000],\n",
            "[0.000000,0.000000,0.000000,1.000000],\n",
            "[0.000000,0.000000,0.000000,1.000000],\n",
            "[0.000000,0.000000,0.000000,1.000000],\n",
            "[0.000000,0.000000,0.000000,1.000000],\n",
            "[0.000000,0.000000,0.000000,1.000000],\n",
            "[0.000000,0.000000,0.000000,1.000000],\n",
            "[0.000000,0.000000,0.000000,1.000000],\n",
            "[0.000000,0.000000,0.000000,1.000000],\n",
            "[0.000000,0.999583,0.000000,0.000417],\n",
            "[0.000000,0.000000,0.000000,1.000000],\n",
            "[0.999995,0.000000,0.000000,0.000005],\n",
            "[0.000000,0.000000,0.000000,1.000000],\n",
            "[0.000000,0.000000,0.000000,1.000000],\n",
            "[0.014530,0.000000,0.000000,0.985470],\n",
            "[0.999948,0.000000,0.000000,0.000052],\n",
            "[0.000000,0.000000,0.000000,1.000000],\n",
            "[0.000000,0.000000,0.000000,1.000000],\n",
            "[0.000000,0.000000,0.000000,1.000000],\n",
            "[0.000000,0.000000,0.000000,1.000000],\n",
            "[0.000000,0.000000,0.000000,1.000000],\n",
            "[0.000000,0.000000,0.000000,1.000000],\n",
            "[0.000000,0.000000,0.000000,1.000000],\n",
            "[0.000000,0.000000,0.000000,1.000000],\n",
            "[0.000000,0.000000,0.000000,1.000000],\n",
            "[0.000000,0.000000,0.000000,1.000000],\n",
            "[0.000000,0.000000,0.000000,1.000000],\n",
            "[0.000000,0.000000,0.000000,1.000000],\n",
            "[0.000000,0.000000,0.000000,1.000000],\n",
            "[0.000000,0.000000,0.000000,1.000000],\n",
            "[0.000000,0.000000,0.000000,1.000000],\n",
            "[0.000000,0.000000,0.000000,1.000000],\n",
            "[0.000000,0.000000,0.000000,1.000000],\n",
            "[0.005482,0.000000,0.000000,0.994518],\n",
            "[0.000000,0.000000,0.000000,1.000000],\n",
            "[0.000000,0.000000,0.000000,1.000000],\n",
            "[0.000000,0.000000,0.000120,0.999880],\n",
            "[0.000000,0.000000,0.000000,1.000000],\n",
            "[0.000000,0.000000,0.000000,1.000000],\n",
            "[0.000000,0.000000,0.000000,1.000000],\n",
            "[0.000000,0.000000,0.000000,1.000000],\n",
            "[0.000000,0.000000,0.000000,1.000000],\n",
            "[0.000000,0.000000,0.000000,1.000000],\n",
            "[0.000000,0.000000,0.000000,1.000000],\n",
            "[0.998769,0.000000,0.000000,0.001231],\n",
            "[0.000000,0.000000,0.000000,1.000000],\n",
            "[0.000000,0.000000,0.000000,1.000000],\n",
            "[0.000000,0.000000,0.000000,1.000000],\n",
            "[0.000000,0.000000,0.000000,1.000000],\n",
            "[0.000000,0.000000,0.000000,1.000000],\n",
            "[0.789177,0.000000,0.000631,0.210193],\n",
            "[0.000000,0.000000,0.000000,1.000000],\n",
            "[0.000000,0.000000,0.000000,1.000000],\n",
            "[0.000000,0.000000,0.000000,1.000000],\n",
            "[0.000000,0.000000,0.000000,1.000000],\n",
            "[0.000000,0.000000,0.000000,1.000000],\n",
            "[0.000000,0.000000,0.000000,1.000000],\n",
            "[0.000000,0.000000,0.000000,1.000000],\n",
            "[0.000000,0.000000,0.000000,1.000000],\n",
            "[0.000000,0.000000,0.000000,1.000000],\n",
            "[0.000000,0.000000,0.000000,1.000000],\n",
            "[0.000000,0.000000,0.000000,1.000000],\n",
            "[0.000000,0.000000,0.000000,1.000000],\n",
            "[0.000000,0.000000,0.000000,1.000000],\n",
            "[0.000000,0.000000,0.000000,1.000000],\n",
            "[0.000000,0.000000,0.000000,1.000000],\n",
            "[0.000000,0.000000,0.000000,1.000000],\n",
            "[0.054972,0.000000,0.940251,0.004776],\n",
            "[0.000000,0.000000,0.000000,1.000000],\n",
            "[0.000000,0.000000,0.000000,1.000000],\n",
            "[0.000000,0.000000,0.000000,1.000000],\n",
            "[0.000000,0.000000,0.000000,1.000000],\n",
            "[0.000000,0.000000,0.000000,1.000000],\n",
            "[0.000000,0.000000,0.000000,1.000000],\n",
            "[0.000000,0.000000,0.000000,1.000000],\n",
            "[0.000000,0.000000,0.000000,1.000000],\n",
            "[0.000000,0.000000,0.000000,1.000000],\n",
            "[0.000000,0.000000,0.000000,1.000000],\n",
            "[0.000000,0.000000,0.000000,1.000000],\n",
            "[0.000000,0.000000,0.000000,1.000000],\n",
            "[0.000000,0.000000,0.000000,1.000000],\n",
            "[0.000000,0.000000,0.000000,1.000000],\n",
            "[0.000000,0.000000,0.000000,1.000000],\n",
            "[0.000000,0.000000,0.000000,1.000000],\n",
            "[0.000000,0.000000,0.000000,1.000000],\n",
            "[0.000000,0.000000,0.000000,1.000000],\n",
            "[0.999940,0.000000,0.000000,0.000060],\n",
            "[0.000000,0.000000,0.000000,1.000000],\n",
            "[0.000000,0.000000,0.000000,1.000000],\n",
            "[0.000000,0.000000,0.000000,1.000000],\n",
            "[0.000000,0.000000,0.000000,1.000000],\n",
            "[0.000000,0.000000,0.000000,1.000000],\n",
            "[0.000000,0.000000,0.000000,1.000000],\n",
            "[0.000000,0.000000,0.000000,1.000000],\n",
            "[0.000000,0.000000,0.000000,1.000000],\n",
            "[0.000000,0.000000,0.000000,1.000000],\n",
            "[0.000000,0.000000,0.000000,1.000000],\n",
            "[0.000000,0.000000,0.000000,1.000000],\n",
            "[0.996253,0.000000,0.003083,0.000665],\n",
            "[0.000000,0.000000,0.000000,1.000000],\n",
            "[0.000000,0.000000,0.000000,1.000000],\n",
            "[0.000000,0.000000,0.000000,1.000000],\n",
            "[0.000000,0.000000,0.000000,1.000000],\n",
            "[0.000000,0.000000,0.000000,1.000000],\n",
            "[0.000000,0.000000,0.000000,1.000000],\n",
            "[0.000000,0.000000,0.000000,1.000000],\n",
            "[0.000000,0.000000,0.000000,1.000000],\n",
            "[0.000000,0.000000,0.000000,1.000000],\n",
            "[0.000000,0.000000,0.000000,1.000000],\n",
            "[0.000000,0.000000,0.000000,1.000000],\n",
            "[0.000000,0.000000,0.000000,1.000000],\n",
            "[0.000000,0.000000,0.000000,1.000000],\n",
            "[0.000000,0.000000,0.000000,1.000000],\n",
            "[0.000000,0.000000,0.000000,1.000000],\n",
            "[0.000000,0.000000,0.000000,1.000000],\n",
            "[0.000000,0.000000,0.000000,1.000000],\n",
            "[0.000064,0.999936,0.000000,0.000000],\n",
            "[0.000000,0.000000,0.000000,1.000000],\n",
            "[0.000000,0.000000,0.000000,1.000000],\n",
            "[0.000000,0.000000,0.000000,1.000000],\n",
            "[0.000000,0.000000,0.000000,1.000000],\n",
            "[0.000000,0.000000,0.000000,1.000000],\n",
            "[0.000000,0.000000,0.000000,1.000000],\n",
            "[0.000000,0.000000,0.000000,1.000000],\n",
            "[0.000000,0.000000,0.000000,1.000000],\n",
            "[0.000000,0.000000,0.000000,1.000000],\n",
            "[1.000000,0.000000,0.000000,0.000000],\n",
            "[0.000000,0.000000,0.000000,1.000000],\n",
            "[0.000000,0.000000,0.000000,1.000000],\n",
            "[0.000000,0.000000,0.000000,1.000000],\n",
            "[0.000000,0.000000,0.000000,1.000000],\n",
            "[0.000000,0.000000,0.000000,1.000000],\n",
            "[0.000000,0.000000,0.000000,1.000000],\n",
            "[0.000000,0.000000,0.000000,1.000000],\n",
            "[1.000000,0.000000,0.000000,0.000000],\n",
            "[0.000000,0.000000,0.000000,1.000000],\n",
            "[0.000000,0.000000,0.000000,1.000000],\n",
            "[0.000000,0.000000,0.000000,1.000000],\n",
            "[0.000000,0.000000,0.000000,1.000000],\n",
            "[0.000000,0.000000,0.000000,1.000000],\n",
            "[0.000000,0.000000,0.000000,1.000000],\n",
            "[0.000000,0.000000,0.000000,1.000000],\n",
            "[0.000000,0.000000,0.000000,1.000000],\n",
            "[0.000000,0.000000,0.000000,1.000000],\n",
            "[0.000000,0.000000,0.000000,1.000000],\n",
            "[0.000000,0.000000,0.000000,1.000000],\n",
            "[0.000000,0.000000,0.000000,1.000000],\n",
            "[0.000000,0.000000,0.000000,1.000000],\n",
            "[0.000000,0.000000,0.000000,1.000000],\n",
            "[0.000000,0.000000,0.000000,1.000000],\n",
            "[0.000000,0.000000,0.000000,1.000000],\n",
            "[0.000000,0.000000,0.000000,1.000000],\n",
            "[0.947209,0.052791,0.000000,0.000000],\n",
            "[0.000000,0.000000,0.000000,1.000000],\n",
            "[0.000000,0.000000,0.000000,1.000000],\n",
            "[0.000000,0.000000,0.000000,1.000000],\n",
            "[0.000000,0.000000,0.000000,1.000000],\n",
            "[0.000000,0.000000,0.000000,1.000000],\n",
            "[0.000000,0.000000,0.000000,1.000000],\n",
            "[0.000000,0.000000,0.000000,1.000000],\n",
            "[0.000000,0.000000,0.000000,1.000000],\n",
            "[0.000000,0.000000,0.000000,1.000000],\n",
            "[0.000000,0.000000,0.000000,1.000000],\n",
            "[0.000000,0.000000,0.000000,1.000000],\n",
            "[0.000000,0.000000,0.000000,1.000000],\n",
            "[0.000000,0.000000,0.000000,1.000000],\n",
            "[0.000000,0.000000,0.000000,1.000000],\n",
            "[0.000000,0.000000,0.000000,1.000000],\n",
            "[0.000000,0.000000,0.000000,1.000000],\n",
            "[0.000000,0.000000,0.000000,1.000000],\n",
            "[0.000000,0.000000,0.000000,1.000000],\n",
            "[0.000000,0.000000,0.000000,1.000000],\n",
            "[0.000000,0.000000,0.000000,1.000000],\n",
            "[0.000000,0.000000,0.000000,1.000000],\n",
            "[0.000000,0.000000,0.000000,1.000000],\n",
            "[0.000000,0.000000,0.000000,1.000000],\n",
            "[0.000000,0.000000,0.000000,1.000000],\n",
            "[0.000000,0.000000,0.000000,1.000000],\n",
            "[0.000000,0.000000,0.000000,1.000000],\n",
            "[0.000000,0.000000,0.000000,1.000000],\n",
            "[0.000000,0.000000,0.000000,1.000000],\n",
            "[0.000000,0.000000,0.000000,1.000000],\n",
            "]\n"
          ]
        }
      ],
      "execution_count": 30,
      "metadata": {
        "collapsed": true,
        "jupyter": {
          "source_hidden": false,
          "outputs_hidden": false
        },
        "nteract": {
          "transient": {
            "deleting": false
          }
        },
        "gather": {
          "logged": 1621793179347
        }
      }
    },
    {
      "cell_type": "code",
      "source": [],
      "outputs": [],
      "execution_count": null,
      "metadata": {
        "collapsed": true,
        "jupyter": {
          "source_hidden": false,
          "outputs_hidden": false
        },
        "nteract": {
          "transient": {
            "deleting": false
          }
        }
      }
    }
  ],
  "metadata": {
    "kernelspec": {
      "name": "python3-azureml",
      "language": "python",
      "display_name": "Python 3.6 - AzureML"
    },
    "language_info": {
      "name": "python",
      "version": "3.6.9",
      "mimetype": "text/x-python",
      "codemirror_mode": {
        "name": "ipython",
        "version": 3
      },
      "pygments_lexer": "ipython3",
      "nbconvert_exporter": "python",
      "file_extension": ".py"
    },
    "kernel_info": {
      "name": "python3-azureml"
    },
    "nteract": {
      "version": "nteract-front-end@1.0.0"
    }
  },
  "nbformat": 4,
  "nbformat_minor": 2
}