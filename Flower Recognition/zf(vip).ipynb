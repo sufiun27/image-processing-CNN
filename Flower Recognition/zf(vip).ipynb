{
 "cells": [
  {
   "cell_type": "markdown",
   "metadata": {},
   "source": [
    "### Import Modules & Packages"
   ]
  },
  {
   "cell_type": "code",
   "execution_count": 1,
   "metadata": {},
   "outputs": [],
   "source": [
    "import os\n",
    "import cv2\n",
    "import numpy as np\n",
    "import matplotlib.pyplot as plt\n",
    "from sklearn.preprocessing import LabelEncoder\n",
    "from tensorflow.keras.utils import to_categorical\n",
    "from sklearn.model_selection import train_test_split\n",
    "from tensorflow.keras.models import Sequential\n",
    "from tensorflow.keras.layers import Dense\n",
    "from tensorflow.keras.layers import Dropout\n",
    "from tensorflow.keras.layers import Flatten\n",
    "from tensorflow.keras.layers import Activation\n",
    "from tensorflow.keras.layers import Conv2D\n",
    "from tensorflow.keras.layers import MaxPooling2D\n",
    "from tensorflow.keras.optimizers import Adam\n",
    "from tensorflow.keras.optimizers import SGD\n",
    "from tensorflow.keras.optimizers import Adagrad\n",
    "from tensorflow.keras.optimizers import Adadelta\n",
    "from tensorflow.keras.optimizers import RMSprop\n",
    "from tensorflow.keras.preprocessing.image import ImageDataGenerator"
   ]
  },
  {
   "cell_type": "markdown",
   "metadata": {},
   "source": [
    "### Read Images and Create Label"
   ]
  },
  {
   "cell_type": "code",
   "execution_count": 2,
   "metadata": {},
   "outputs": [],
   "source": [
    "SIZE = 224  #Resize images"
   ]
  },
  {
   "cell_type": "code",
   "execution_count": 3,
   "metadata": {},
   "outputs": [],
   "source": [
    "#Capture training data and labels into respective lists\n",
    "train_images = []\n",
    "train_labels = [] \n",
    "\n",
    "for folder in os.listdir('train'):\n",
    "    for file in os.listdir(os.path.join('train', folder)):\n",
    "        if (file.endswith(\"JPG\") or file.endswith(\"jpg\")):\n",
    "            train_labels.append(folder)\n",
    "            img = cv2.imread(os.path.join('train', folder, file))\n",
    "            img_rgb = cv2.cvtColor(img, cv2.COLOR_BGR2RGB)\n",
    "            im = cv2.resize(img_rgb, (SIZE,SIZE))\n",
    "            train_images.append(im)\n",
    "        else:\n",
    "            continue\n",
    "\n",
    "        #Convert lists to arrays        \n",
    "train_images = np.array(train_images)\n",
    "train_labels = np.array(train_labels)"
   ]
  },
  {
   "cell_type": "code",
   "execution_count": 4,
   "metadata": {},
   "outputs": [
    {
     "name": "stdout",
     "output_type": "stream",
     "text": [
      "train images shape = (105, 224, 224, 3)\n",
      "train labels shape = (105,)\n"
     ]
    }
   ],
   "source": [
    "print('train images shape =',train_images.shape)\n",
    "print('train labels shape =',train_labels.shape)"
   ]
  },
  {
   "cell_type": "code",
   "execution_count": 5,
   "metadata": {},
   "outputs": [],
   "source": [
    "test_images = []\n",
    "test_labels = [] \n",
    "\n",
    "for folder in os.listdir('test'):\n",
    "    for file in os.listdir(os.path.join('test', folder)):\n",
    "        if (file.endswith(\"JPG\") or file.endswith(\"jpg\")):\n",
    "            test_labels.append(folder)\n",
    "            img = cv2.imread(os.path.join('test', folder, file))\n",
    "            img_rgb = cv2.cvtColor(img, cv2.COLOR_BGR2RGB)\n",
    "            im = cv2.resize(img_rgb, (SIZE,SIZE))\n",
    "            test_images.append(im)\n",
    "        else:\n",
    "            continue\n",
    "\n",
    "\n",
    "        #Convert lists to arrays                \n",
    "test_images = np.array(test_images)\n",
    "test_labels = np.array(test_labels)"
   ]
  },
  {
   "cell_type": "code",
   "execution_count": 6,
   "metadata": {},
   "outputs": [
    {
     "name": "stdout",
     "output_type": "stream",
     "text": [
      "test images shape = (15, 224, 224, 3)\n",
      "test labels shape = (15,)\n"
     ]
    }
   ],
   "source": [
    "print('test images shape =',test_images.shape)\n",
    "print('test labels shape =',test_labels.shape)"
   ]
  },
  {
   "cell_type": "markdown",
   "metadata": {},
   "source": [
    "### Conversion to numerical values"
   ]
  },
  {
   "cell_type": "code",
   "execution_count": 8,
   "metadata": {},
   "outputs": [],
   "source": [
    "encoder = LabelEncoder()\n",
    "y_train = encoder.fit_transform(train_labels)\n",
    "y_train = to_categorical(y_train,4)\n",
    "X_train = train_images/255"
   ]
  },
  {
   "cell_type": "code",
   "execution_count": 9,
   "metadata": {},
   "outputs": [],
   "source": [
    "encoder = LabelEncoder()\n",
    "y_test = encoder.fit_transform(test_labels)\n",
    "y_test = to_categorical(y_test ,4)\n",
    "X_test = test_images/255"
   ]
  },
  {
   "cell_type": "markdown",
   "metadata": {},
   "source": [
    "### Normalize Data"
   ]
  },
  {
   "cell_type": "markdown",
   "metadata": {},
   "source": [
    "### Train - Test Split"
   ]
  },
  {
   "cell_type": "code",
   "execution_count": 10,
   "metadata": {},
   "outputs": [],
   "source": [
    "X_train, X_test, y_train, y_test = X_train, X_test, y_train, y_test"
   ]
  },
  {
   "cell_type": "markdown",
   "metadata": {},
   "source": [
    "### Training Neural Networks"
   ]
  },
  {
   "cell_type": "code",
   "execution_count": 14,
   "metadata": {},
   "outputs": [],
   "source": [
    "from keras.models import Sequential  \n",
    "from keras.layers import Dense,Flatten,Dropout  \n",
    "from keras.layers.convolutional import Conv2D,MaxPooling2D  \n",
    "from keras.utils.np_utils import to_categorical  \n",
    "import numpy as np  \n",
    "seed = 7  \n",
    "np.random.seed(seed)  \n",
    "\n",
    "model = Sequential()  \n",
    "model.add(Conv2D(96,(7,7),strides=(2,2),input_shape=(224,224,3),padding='valid',activation='relu',kernel_initializer='uniform'))  \n",
    "model.add(MaxPooling2D(pool_size=(3,3),strides=(2,2)))  \n",
    "model.add(Conv2D(256,(5,5),strides=(2,2),padding='same',activation='relu',kernel_initializer='uniform'))  \n",
    "model.add(MaxPooling2D(pool_size=(3,3),strides=(2,2)))  \n",
    "model.add(Conv2D(384,(3,3),strides=(1,1),padding='same',activation='relu',kernel_initializer='uniform'))  \n",
    "model.add(Conv2D(384,(3,3),strides=(1,1),padding='same',activation='relu',kernel_initializer='uniform'))  \n",
    "model.add(Conv2D(256,(3,3),strides=(1,1),padding='same',activation='relu',kernel_initializer='uniform'))  \n",
    "model.add(MaxPooling2D(pool_size=(3,3),strides=(2,2)))  \n",
    "model.add(Flatten())  \n",
    "model.add(Dense(4096,activation='relu'))  \n",
    "model.add(Dropout(0.5))  \n",
    "model.add(Dense(4096,activation='relu'))  \n",
    "model.add(Dropout(0.5))  \n",
    "model.add(Dense(4,activation='softmax'))  "
   ]
  },
  {
   "cell_type": "markdown",
   "metadata": {},
   "source": [
    "### Creating more Training images (to prevent overfitting)"
   ]
  },
  {
   "cell_type": "code",
   "execution_count": 15,
   "metadata": {},
   "outputs": [],
   "source": [
    "datagen = ImageDataGenerator(\n",
    "        rotation_range=20,\n",
    "        zoom_range = 0.20,\n",
    "        width_shift_range=0.3,\n",
    "        height_shift_range=0.3,\n",
    "        horizontal_flip=True,\n",
    "        vertical_flip=True)\n",
    "\n",
    "datagen.fit(X_train)"
   ]
  },
  {
   "cell_type": "markdown",
   "metadata": {},
   "source": [
    "### Compile"
   ]
  },
  {
   "cell_type": "code",
   "execution_count": 16,
   "metadata": {},
   "outputs": [
    {
     "name": "stdout",
     "output_type": "stream",
     "text": [
      "Epoch 1/64\n",
      "4/4 [==============================] - 13s 3s/step - loss: 1.3911 - accuracy: 0.2814 - val_loss: 1.4344 - val_accuracy: 0.4000\n",
      "Epoch 2/64\n",
      "4/4 [==============================] - 3s 692ms/step - loss: 1.3229 - accuracy: 0.3178 - val_loss: 1.2483 - val_accuracy: 0.3333\n",
      "Epoch 3/64\n",
      "4/4 [==============================] - 3s 822ms/step - loss: 1.2124 - accuracy: 0.2373 - val_loss: 1.1102 - val_accuracy: 0.4000\n",
      "Epoch 4/64\n",
      "4/4 [==============================] - 3s 698ms/step - loss: 1.1590 - accuracy: 0.3607 - val_loss: 1.1051 - val_accuracy: 0.3333\n",
      "Epoch 5/64\n",
      "4/4 [==============================] - 3s 697ms/step - loss: 1.1120 - accuracy: 0.3451 - val_loss: 1.0867 - val_accuracy: 0.3333\n",
      "Epoch 6/64\n",
      "4/4 [==============================] - 3s 692ms/step - loss: 1.1491 - accuracy: 0.3108 - val_loss: 1.1175 - val_accuracy: 0.3333\n",
      "Epoch 7/64\n",
      "4/4 [==============================] - 3s 697ms/step - loss: 1.0846 - accuracy: 0.3718 - val_loss: 1.0724 - val_accuracy: 0.4000\n",
      "Epoch 8/64\n",
      "4/4 [==============================] - 3s 817ms/step - loss: 1.0499 - accuracy: 0.4624 - val_loss: 1.0611 - val_accuracy: 0.4000\n",
      "Epoch 9/64\n",
      "4/4 [==============================] - 3s 697ms/step - loss: 1.0249 - accuracy: 0.4691 - val_loss: 1.0512 - val_accuracy: 0.4000\n",
      "Epoch 10/64\n",
      "4/4 [==============================] - 3s 698ms/step - loss: 1.0764 - accuracy: 0.3571 - val_loss: 1.0522 - val_accuracy: 0.3333\n",
      "Epoch 11/64\n",
      "4/4 [==============================] - 3s 698ms/step - loss: 1.0671 - accuracy: 0.3902 - val_loss: 1.0592 - val_accuracy: 0.4000\n",
      "Epoch 12/64\n",
      "4/4 [==============================] - 3s 698ms/step - loss: 1.0705 - accuracy: 0.3923 - val_loss: 1.1198 - val_accuracy: 0.3333\n",
      "Epoch 13/64\n",
      "4/4 [==============================] - 3s 697ms/step - loss: 1.0132 - accuracy: 0.5003 - val_loss: 1.0902 - val_accuracy: 0.4000\n",
      "Epoch 14/64\n",
      "4/4 [==============================] - 3s 697ms/step - loss: 1.0128 - accuracy: 0.4738 - val_loss: 1.0879 - val_accuracy: 0.3333\n",
      "Epoch 15/64\n",
      "4/4 [==============================] - 3s 703ms/step - loss: 1.0088 - accuracy: 0.4874 - val_loss: 1.0652 - val_accuracy: 0.4000\n",
      "Epoch 16/64\n",
      "4/4 [==============================] - 3s 699ms/step - loss: 0.9980 - accuracy: 0.4429 - val_loss: 1.0764 - val_accuracy: 0.6000\n",
      "Epoch 17/64\n",
      "4/4 [==============================] - 3s 692ms/step - loss: 1.0559 - accuracy: 0.3716 - val_loss: 1.1399 - val_accuracy: 0.3333\n",
      "Epoch 18/64\n",
      "4/4 [==============================] - 3s 823ms/step - loss: 1.0178 - accuracy: 0.3744 - val_loss: 1.0497 - val_accuracy: 0.4000\n",
      "Epoch 19/64\n",
      "4/4 [==============================] - 3s 693ms/step - loss: 1.0020 - accuracy: 0.4558 - val_loss: 1.0465 - val_accuracy: 0.2667\n",
      "Epoch 20/64\n",
      "4/4 [==============================] - 3s 698ms/step - loss: 1.0177 - accuracy: 0.4263 - val_loss: 1.0250 - val_accuracy: 0.5333\n",
      "Epoch 21/64\n",
      "4/4 [==============================] - 3s 821ms/step - loss: 1.0100 - accuracy: 0.5181 - val_loss: 1.0271 - val_accuracy: 0.5333\n",
      "Epoch 22/64\n",
      "4/4 [==============================] - 3s 699ms/step - loss: 0.9464 - accuracy: 0.5130 - val_loss: 0.9813 - val_accuracy: 0.6000\n",
      "Epoch 23/64\n",
      "4/4 [==============================] - 3s 824ms/step - loss: 0.9521 - accuracy: 0.4648 - val_loss: 0.9794 - val_accuracy: 0.4667\n",
      "Epoch 24/64\n",
      "4/4 [==============================] - 3s 699ms/step - loss: 0.9223 - accuracy: 0.4836 - val_loss: 0.9643 - val_accuracy: 0.4000\n",
      "Epoch 25/64\n",
      "4/4 [==============================] - 3s 693ms/step - loss: 0.8913 - accuracy: 0.5516 - val_loss: 0.8963 - val_accuracy: 0.6667\n",
      "Epoch 26/64\n",
      "4/4 [==============================] - 3s 695ms/step - loss: 0.8385 - accuracy: 0.6289 - val_loss: 0.9675 - val_accuracy: 0.4667\n",
      "Epoch 27/64\n",
      "4/4 [==============================] - 3s 710ms/step - loss: 0.9579 - accuracy: 0.5058 - val_loss: 1.0319 - val_accuracy: 0.6000\n",
      "Epoch 28/64\n",
      "4/4 [==============================] - 3s 710ms/step - loss: 0.9324 - accuracy: 0.6173 - val_loss: 0.9909 - val_accuracy: 0.4000\n",
      "Epoch 29/64\n",
      "4/4 [==============================] - 3s 702ms/step - loss: 0.8553 - accuracy: 0.5519 - val_loss: 0.8551 - val_accuracy: 0.6000\n",
      "Epoch 30/64\n",
      "4/4 [==============================] - 3s 698ms/step - loss: 0.8477 - accuracy: 0.5854 - val_loss: 0.7755 - val_accuracy: 0.6667\n",
      "Epoch 31/64\n",
      "4/4 [==============================] - 3s 711ms/step - loss: 0.8106 - accuracy: 0.6738 - val_loss: 0.7398 - val_accuracy: 0.6667\n",
      "Epoch 32/64\n",
      "4/4 [==============================] - 3s 704ms/step - loss: 0.7899 - accuracy: 0.6230 - val_loss: 0.7953 - val_accuracy: 0.6000\n",
      "Epoch 33/64\n",
      "4/4 [==============================] - 3s 827ms/step - loss: 0.9988 - accuracy: 0.5437 - val_loss: 0.8247 - val_accuracy: 0.6000\n",
      "Epoch 34/64\n",
      "4/4 [==============================] - 3s 693ms/step - loss: 0.9120 - accuracy: 0.5341 - val_loss: 0.8306 - val_accuracy: 0.6667\n",
      "Epoch 35/64\n",
      "4/4 [==============================] - 3s 834ms/step - loss: 0.8344 - accuracy: 0.5861 - val_loss: 0.7602 - val_accuracy: 0.6000\n",
      "Epoch 36/64\n",
      "4/4 [==============================] - 3s 704ms/step - loss: 0.8304 - accuracy: 0.6879 - val_loss: 0.7984 - val_accuracy: 0.6667\n",
      "Epoch 37/64\n",
      "4/4 [==============================] - 3s 710ms/step - loss: 0.7357 - accuracy: 0.7022 - val_loss: 0.7791 - val_accuracy: 0.7333\n",
      "Epoch 38/64\n",
      "4/4 [==============================] - 3s 699ms/step - loss: 0.7205 - accuracy: 0.7211 - val_loss: 0.5634 - val_accuracy: 0.7333\n",
      "Epoch 39/64\n",
      "4/4 [==============================] - 3s 700ms/step - loss: 0.5984 - accuracy: 0.6531 - val_loss: 0.6281 - val_accuracy: 0.6667\n",
      "Epoch 40/64\n",
      "4/4 [==============================] - 3s 818ms/step - loss: 0.6441 - accuracy: 0.7449 - val_loss: 0.4673 - val_accuracy: 0.7333\n",
      "Epoch 41/64\n",
      "4/4 [==============================] - 3s 710ms/step - loss: 0.6999 - accuracy: 0.7250 - val_loss: 0.7409 - val_accuracy: 0.6000\n",
      "Epoch 42/64\n",
      "4/4 [==============================] - 3s 700ms/step - loss: 1.0095 - accuracy: 0.5599 - val_loss: 0.4867 - val_accuracy: 0.8000\n",
      "Epoch 43/64\n",
      "4/4 [==============================] - 3s 711ms/step - loss: 0.7536 - accuracy: 0.6339 - val_loss: 0.5644 - val_accuracy: 0.7333\n",
      "Epoch 44/64\n",
      "4/4 [==============================] - 3s 715ms/step - loss: 0.5994 - accuracy: 0.7572 - val_loss: 0.6165 - val_accuracy: 0.6667\n",
      "Epoch 45/64\n",
      "4/4 [==============================] - 3s 693ms/step - loss: 0.6050 - accuracy: 0.7448 - val_loss: 0.6157 - val_accuracy: 0.7333\n",
      "Epoch 46/64\n",
      "4/4 [==============================] - 3s 704ms/step - loss: 0.4831 - accuracy: 0.8032 - val_loss: 0.6663 - val_accuracy: 0.6667\n",
      "Epoch 47/64\n",
      "4/4 [==============================] - 3s 840ms/step - loss: 0.5713 - accuracy: 0.7790 - val_loss: 0.4075 - val_accuracy: 0.8667\n",
      "Epoch 48/64\n",
      "4/4 [==============================] - 3s 700ms/step - loss: 0.5268 - accuracy: 0.7412 - val_loss: 0.5271 - val_accuracy: 0.7333\n",
      "Epoch 49/64\n",
      "4/4 [==============================] - 3s 704ms/step - loss: 0.4003 - accuracy: 0.8445 - val_loss: 0.5119 - val_accuracy: 0.8667\n",
      "Epoch 50/64\n",
      "4/4 [==============================] - 3s 715ms/step - loss: 0.4854 - accuracy: 0.7842 - val_loss: 0.6189 - val_accuracy: 0.7333\n",
      "Epoch 51/64\n",
      "4/4 [==============================] - 3s 699ms/step - loss: 0.5085 - accuracy: 0.7875 - val_loss: 0.5553 - val_accuracy: 0.8000\n",
      "Epoch 52/64\n",
      "4/4 [==============================] - 3s 699ms/step - loss: 0.4802 - accuracy: 0.7444 - val_loss: 0.5546 - val_accuracy: 0.8000\n",
      "Epoch 53/64\n",
      "4/4 [==============================] - 3s 706ms/step - loss: 0.5989 - accuracy: 0.8083 - val_loss: 0.5094 - val_accuracy: 0.8000\n",
      "Epoch 54/64\n",
      "4/4 [==============================] - 3s 695ms/step - loss: 0.5196 - accuracy: 0.8235 - val_loss: 0.5252 - val_accuracy: 0.8000\n",
      "Epoch 55/64\n",
      "4/4 [==============================] - 3s 710ms/step - loss: 0.4943 - accuracy: 0.8197 - val_loss: 0.8083 - val_accuracy: 0.6667\n",
      "Epoch 56/64\n",
      "4/4 [==============================] - 3s 817ms/step - loss: 0.6058 - accuracy: 0.7502 - val_loss: 0.5166 - val_accuracy: 0.8000\n",
      "Epoch 57/64\n",
      "4/4 [==============================] - 3s 845ms/step - loss: 0.5836 - accuracy: 0.7242 - val_loss: 0.8048 - val_accuracy: 0.6000\n",
      "Epoch 58/64\n",
      "4/4 [==============================] - 3s 846ms/step - loss: 0.4635 - accuracy: 0.7982 - val_loss: 0.6206 - val_accuracy: 0.6667\n",
      "Epoch 59/64\n",
      "4/4 [==============================] - 3s 711ms/step - loss: 0.5843 - accuracy: 0.7669 - val_loss: 0.5414 - val_accuracy: 0.7333\n",
      "Epoch 60/64\n",
      "4/4 [==============================] - 3s 723ms/step - loss: 0.3947 - accuracy: 0.8706 - val_loss: 0.5643 - val_accuracy: 0.7333\n",
      "Epoch 61/64\n",
      "4/4 [==============================] - 3s 834ms/step - loss: 0.3092 - accuracy: 0.8949 - val_loss: 0.4745 - val_accuracy: 0.8000\n",
      "Epoch 62/64\n",
      "4/4 [==============================] - 3s 727ms/step - loss: 0.3881 - accuracy: 0.8396 - val_loss: 0.4004 - val_accuracy: 0.8667\n",
      "Epoch 63/64\n",
      "4/4 [==============================] - 3s 722ms/step - loss: 0.3167 - accuracy: 0.8525 - val_loss: 0.4514 - val_accuracy: 0.8667\n",
      "Epoch 64/64\n",
      "4/4 [==============================] - 3s 703ms/step - loss: 0.3422 - accuracy: 0.8726 - val_loss: 0.3976 - val_accuracy: 0.8667\n"
     ]
    }
   ],
   "source": [
    "model.compile(optimizer=Adam(lr=0.0001),loss='categorical_crossentropy',metrics=['accuracy'])\n",
    "batch_size=32\n",
    "epochs=64\n",
    "history = model.fit(\n",
    "    datagen.flow(X_train,y_train, batch_size=batch_size),\n",
    "    epochs = epochs,\n",
    "    validation_data = (X_test,y_test),\n",
    "    verbose = 1\n",
    ")"
   ]
  },
  {
   "cell_type": "markdown",
   "metadata": {
    "tags": []
   },
   "source": [
    "### Outcome"
   ]
  },
  {
   "cell_type": "code",
   "execution_count": 102,
   "metadata": {},
   "outputs": [
    {
     "name": "stdout",
     "output_type": "stream",
     "text": [
      "[[1. 0. 0. 0.]\n",
      " [1. 0. 0. 0.]\n",
      " [1. 0. 0. 0.]\n",
      " [1. 0. 0. 0.]\n",
      " [1. 0. 0. 0.]\n",
      " [0. 1. 0. 0.]\n",
      " [0. 1. 0. 0.]\n",
      " [0. 1. 0. 0.]\n",
      " [0. 1. 0. 0.]\n",
      " [0. 1. 0. 0.]\n",
      " [0. 0. 1. 0.]\n",
      " [0. 0. 1. 0.]\n",
      " [0. 0. 1. 0.]\n",
      " [0. 0. 1. 0.]\n",
      " [0. 0. 1. 0.]]\n"
     ]
    }
   ],
   "source": [
    "print(y_test)"
   ]
  },
  {
   "cell_type": "code",
   "execution_count": 103,
   "metadata": {},
   "outputs": [],
   "source": [
    "original=[]"
   ]
  },
  {
   "cell_type": "code",
   "execution_count": 107,
   "metadata": {},
   "outputs": [],
   "source": [
    "import numpy as np \n",
    "\n",
    "for i in range(len(y_test)):\n",
    "    \n",
    "    maxElement = np.amax(y_test[i])\n",
    "    if(y_test[i][0]==maxElement):\n",
    "        original.append('Blight')\n",
    "        \n",
    "    elif(y_test[i][1]==maxElement):\n",
    "        original.append('Common_Rust')\n",
    "        \n",
    "    elif(y_test[i][2]==maxElement):\n",
    "        original.append('Gray_Leaf_Spot')\n",
    "           \n",
    " "
   ]
  },
  {
   "cell_type": "code",
   "execution_count": 108,
   "metadata": {},
   "outputs": [],
   "source": [
    "original = np.array(original)"
   ]
  },
  {
   "cell_type": "code",
   "execution_count": 109,
   "metadata": {},
   "outputs": [
    {
     "name": "stdout",
     "output_type": "stream",
     "text": [
      "['Blight' 'Blight' 'Blight' 'Blight' 'Blight' 'Common_Rust' 'Common_Rust'\n",
      " 'Common_Rust' 'Common_Rust' 'Common_Rust' 'Gray_Leaf_Spot'\n",
      " 'Gray_Leaf_Spot' 'Gray_Leaf_Spot' 'Gray_Leaf_Spot' 'Gray_Leaf_Spot']\n"
     ]
    }
   ],
   "source": [
    "print(original)"
   ]
  },
  {
   "cell_type": "code",
   "execution_count": null,
   "metadata": {},
   "outputs": [],
   "source": []
  },
  {
   "cell_type": "code",
   "execution_count": 111,
   "metadata": {},
   "outputs": [],
   "source": [
    "prediction = model.predict(X_test)"
   ]
  },
  {
   "cell_type": "code",
   "execution_count": 112,
   "metadata": {},
   "outputs": [
    {
     "name": "stdout",
     "output_type": "stream",
     "text": [
      "[[7.25981414e-01 2.73977965e-01 3.96429095e-05 9.76157480e-07]\n",
      " [9.86916542e-01 1.29873296e-02 9.22406543e-05 3.87772570e-06]\n",
      " [6.41277671e-01 3.58631968e-01 8.80987645e-05 2.23126244e-06]\n",
      " [9.82708395e-01 1.72772445e-02 1.40254633e-05 3.73081832e-07]\n",
      " [9.33885932e-01 6.51335493e-02 9.30935901e-04 4.95764543e-05]\n",
      " [1.06899817e-04 9.60214317e-01 3.96776907e-02 1.09206337e-06]\n",
      " [3.76832722e-05 9.58694637e-01 4.12669219e-02 7.44170222e-07]\n",
      " [3.85340117e-03 2.19815284e-01 7.76272714e-01 5.85814414e-05]\n",
      " [6.47414997e-02 9.24365520e-01 1.07588638e-02 1.34142887e-04]\n",
      " [3.63433398e-02 9.60814834e-01 2.80853081e-03 3.32724157e-05]\n",
      " [6.45167966e-05 8.47582668e-02 9.15173352e-01 3.86322972e-06]\n",
      " [1.13270245e-04 1.51065066e-01 8.48815560e-01 6.06210642e-06]\n",
      " [1.43740948e-08 4.35239449e-03 9.95647609e-01 1.72667791e-09]\n",
      " [8.20270419e-01 1.34705886e-01 4.38637137e-02 1.15994201e-03]\n",
      " [1.10260800e-09 1.31658249e-04 9.99868274e-01 2.25117217e-11]]\n"
     ]
    }
   ],
   "source": [
    "print(prediction)"
   ]
  },
  {
   "cell_type": "code",
   "execution_count": null,
   "metadata": {},
   "outputs": [],
   "source": []
  },
  {
   "cell_type": "code",
   "execution_count": 114,
   "metadata": {},
   "outputs": [],
   "source": [
    "predict=[]"
   ]
  },
  {
   "cell_type": "code",
   "execution_count": 115,
   "metadata": {},
   "outputs": [],
   "source": [
    "import numpy as np \n",
    "i=0\n",
    "\n",
    "for i in range(len(prediction)):\n",
    "    \n",
    "    maxElement = np.amax(prediction[i])\n",
    "    if(prediction[i][0]==maxElement):\n",
    "        predict.append('Blight')\n",
    "        \n",
    "    elif(prediction[i][1]==maxElement):\n",
    "        predict.append('Common_Rust')\n",
    "        \n",
    "    elif(prediction[i][2]==maxElement):\n",
    "        predict.append('Gray_Leaf_Spot')\n",
    "           \n"
   ]
  },
  {
   "cell_type": "code",
   "execution_count": 116,
   "metadata": {},
   "outputs": [],
   "source": [
    "predict = np.array(predict)"
   ]
  },
  {
   "cell_type": "code",
   "execution_count": 117,
   "metadata": {},
   "outputs": [
    {
     "data": {
      "text/plain": [
       "(15,)"
      ]
     },
     "execution_count": 117,
     "metadata": {},
     "output_type": "execute_result"
    }
   ],
   "source": [
    "predict.shape"
   ]
  },
  {
   "cell_type": "code",
   "execution_count": 118,
   "metadata": {},
   "outputs": [
    {
     "name": "stdout",
     "output_type": "stream",
     "text": [
      "['Blight' 'Blight' 'Blight' 'Blight' 'Blight' 'Common_Rust' 'Common_Rust'\n",
      " 'Gray_Leaf_Spot' 'Common_Rust' 'Common_Rust' 'Gray_Leaf_Spot'\n",
      " 'Gray_Leaf_Spot' 'Gray_Leaf_Spot' 'Blight' 'Gray_Leaf_Spot']\n"
     ]
    }
   ],
   "source": [
    "print(predict)"
   ]
  },
  {
   "cell_type": "code",
   "execution_count": 122,
   "metadata": {},
   "outputs": [
    {
     "name": "stdout",
     "output_type": "stream",
     "text": [
      "true = 13\n",
      "false= 2\n"
     ]
    }
   ],
   "source": [
    "true = 0\n",
    "false = 0\n",
    "for i in range(len(y_test)):\n",
    "    if(predict[i]==original[i]):\n",
    "        true=true+1\n",
    "    else:\n",
    "        false=false+1\n",
    "        \n",
    "print('true =',true)\n",
    "print('false=',false)"
   ]
  },
  {
   "cell_type": "code",
   "execution_count": 123,
   "metadata": {},
   "outputs": [
    {
     "name": "stdout",
     "output_type": "stream",
     "text": [
      "Accuracy =  0.8666666666666667\n"
     ]
    }
   ],
   "source": [
    "#Print overall accuracy\n",
    "from sklearn import metrics\n",
    "print (\"Accuracy = \", metrics.accuracy_score(original, predict))"
   ]
  },
  {
   "cell_type": "code",
   "execution_count": 125,
   "metadata": {},
   "outputs": [],
   "source": [
    "import seaborn as sns"
   ]
  },
  {
   "cell_type": "code",
   "execution_count": 126,
   "metadata": {},
   "outputs": [
    {
     "data": {
      "text/plain": [
       "<AxesSubplot:>"
      ]
     },
     "execution_count": 126,
     "metadata": {},
     "output_type": "execute_result"
    },
    {
     "data": {
      "image/png": "[encoded data removed]",
      "text/plain": [
       "<Figure size 432x288 with 2 Axes>"
      ]
     },
     "metadata": {
      "needs_background": "light"
     },
     "output_type": "display_data"
    }
   ],
   "source": [
    "#Confusion Matrix - verify accuracy of each class\n",
    "from sklearn.metrics import confusion_matrix\n",
    "cm = confusion_matrix(original, predict)\n",
    "#print(cm)\n",
    "sns.heatmap(cm, annot=True)"
   ]
  },
  {
   "cell_type": "code",
   "execution_count": 127,
   "metadata": {},
   "outputs": [
    {
     "name": "stdout",
     "output_type": "stream",
     "text": [
      "Classification Report: \n",
      "                 precision    recall  f1-score   support\n",
      "\n",
      "        Blight       0.83      1.00      0.91         5\n",
      "   Common_Rust       1.00      0.80      0.89         5\n",
      "Gray_Leaf_Spot       0.80      0.80      0.80         5\n",
      "\n",
      "      accuracy                           0.87        15\n",
      "     macro avg       0.88      0.87      0.87        15\n",
      "  weighted avg       0.88      0.87      0.87        15\n",
      "\n"
     ]
    }
   ],
   "source": [
    "from sklearn.metrics import confusion_matrix , classification_report\n",
    "import numpy as np\n",
    "target_names = ['Blight', 'Common_Rust', 'Gray_Leaf_Spot']\n",
    "print(\"Classification Report: \\n\",classification_report(original, predict, target_names=target_names))"
   ]
  },
  {
   "cell_type": "code",
   "execution_count": 128,
   "metadata": {
    "tags": []
   },
   "outputs": [],
   "source": [
    "##now connect zf net with random forst (train sector)"
   ]
  },
  {
   "cell_type": "code",
   "execution_count": 150,
   "metadata": {},
   "outputs": [
    {
     "name": "stdout",
     "output_type": "stream",
     "text": [
      "(105, 4)\n"
     ]
    }
   ],
   "source": [
    "print(y_train.shape)"
   ]
  },
  {
   "cell_type": "code",
   "execution_count": 151,
   "metadata": {},
   "outputs": [
    {
     "name": "stdout",
     "output_type": "stream",
     "text": [
      "(105,)\n"
     ]
    }
   ],
   "source": [
    "y_train_rf=[]\n",
    "\n",
    "\n",
    "import numpy as np \n",
    "\n",
    "for i in range(len(y_train)):\n",
    "    \n",
    "    maxElement = np.amax(y_train[i])\n",
    "    if(y_train[i][0]==maxElement):\n",
    "        y_train_rf.append('Blight')\n",
    "        \n",
    "    elif(y_train[i][1]==maxElement):\n",
    "        y_train_rf.append('Common_Rust')\n",
    "        \n",
    "    elif(y_train[i][2]==maxElement):\n",
    "        y_train_rf.append('Gray_Leaf_Spot')\n",
    "        \n",
    "        \n",
    "y_train_rf = np.array(y_train_rf)\n",
    "print(y_train_rf.shape)"
   ]
  },
  {
   "cell_type": "code",
   "execution_count": 152,
   "metadata": {},
   "outputs": [],
   "source": [
    "#Encode labels from text to integers.\n",
    "from sklearn import preprocessing\n",
    "le = preprocessing.LabelEncoder()\n",
    "\n",
    "le.fit(y_train_rf)\n",
    "train_labels_encoded = le.transform(y_train_rf)\n",
    "#it make the data calass name to numerical formate like 1,2,3,4 for calculation purpose"
   ]
  },
  {
   "cell_type": "code",
   "execution_count": 153,
   "metadata": {},
   "outputs": [
    {
     "name": "stdout",
     "output_type": "stream",
     "text": [
      "[0 0 0 0 0 0 0 0 0 0 0 0 0 0 0 0 0 0 0 0 0 0 0 0 0 0 0 0 0 0 0 0 0 0 0 1 1\n",
      " 1 1 1 1 1 1 1 1 1 1 1 1 1 1 1 1 1 1 1 1 1 1 1 1 1 1 1 1 1 1 1 1 1 2 2 2 2\n",
      " 2 2 2 2 2 2 2 2 2 2 2 2 2 2 2 2 2 2 2 2 2 2 2 2 2 2 2 2 2 2 2]\n"
     ]
    }
   ],
   "source": [
    "print(train_labels_encoded)"
   ]
  },
  {
   "cell_type": "code",
   "execution_count": 154,
   "metadata": {},
   "outputs": [],
   "source": [
    "#Now, let us use features from convolutional network for RF( we send oure input deta throw this feature extracture)\n",
    "feature_extractor=model.predict(X_train)"
   ]
  },
  {
   "cell_type": "code",
   "execution_count": 155,
   "metadata": {},
   "outputs": [],
   "source": [
    "features = feature_extractor.reshape(feature_extractor.shape[0], -1) #reshape is for random forest it will be 2d arry\n",
    "X_for_RF = features #This is our X input to RF (random forest)"
   ]
  },
  {
   "cell_type": "code",
   "execution_count": 156,
   "metadata": {},
   "outputs": [],
   "source": [
    "X_train_RF, y_train_RF = X_for_RF, train_labels_encoded"
   ]
  },
  {
   "cell_type": "code",
   "execution_count": 157,
   "metadata": {},
   "outputs": [],
   "source": [
    "#############################################################################################################################################\n",
    "#RANDOM FOREST (it is classifiare problem not a regrassion problem nost use random forest regrassion) # n_estimators 50 mens it will generate 50 tree\n",
    "# you can use another classifire module there like decition tree svm etc\n",
    "from sklearn.ensemble import RandomForestClassifier \n",
    "RF_model = RandomForestClassifier(n_estimators = 50, random_state = 40)\n",
    "###############################################################################################################################################"
   ]
  },
  {
   "cell_type": "code",
   "execution_count": 158,
   "metadata": {},
   "outputs": [
    {
     "data": {
      "text/plain": [
       "RandomForestClassifier(n_estimators=50, random_state=40)"
      ]
     },
     "execution_count": 158,
     "metadata": {},
     "output_type": "execute_result"
    }
   ],
   "source": [
    "# Train the model on training data\n",
    "#For sklearn no one hot encoding x_for_rf random forest y_train (are level value)\n",
    "RF_model.fit(X_train_RF, train_labels_encoded) "
   ]
  },
  {
   "cell_type": "code",
   "execution_count": 159,
   "metadata": {},
   "outputs": [],
   "source": [
    "##now connect zf net with random forst (test sector)\n",
    "#here X_test_features (x_test)#########and####### original(y_test)"
   ]
  },
  {
   "cell_type": "code",
   "execution_count": 161,
   "metadata": {},
   "outputs": [],
   "source": [
    "X_test_feature = model.predict(X_test)\n",
    "X_test_features = X_test_feature.reshape(X_test_feature.shape[0], -1)"
   ]
  },
  {
   "cell_type": "code",
   "execution_count": 162,
   "metadata": {},
   "outputs": [
    {
     "data": {
      "text/plain": [
       "(15, 4)"
      ]
     },
     "execution_count": 162,
     "metadata": {},
     "output_type": "execute_result"
    }
   ],
   "source": [
    "X_test_features.shape"
   ]
  },
  {
   "cell_type": "code",
   "execution_count": 163,
   "metadata": {},
   "outputs": [
    {
     "name": "stdout",
     "output_type": "stream",
     "text": [
      "[[7.25981414e-01 2.73977965e-01 3.96429095e-05 9.76157480e-07]\n",
      " [9.86916542e-01 1.29873296e-02 9.22406543e-05 3.87772570e-06]\n",
      " [6.41277671e-01 3.58631968e-01 8.80987645e-05 2.23126244e-06]\n",
      " [9.82708395e-01 1.72772445e-02 1.40254633e-05 3.73081832e-07]\n",
      " [9.33885932e-01 6.51335493e-02 9.30935901e-04 4.95764543e-05]\n",
      " [1.06899817e-04 9.60214317e-01 3.96776907e-02 1.09206337e-06]\n",
      " [3.76832722e-05 9.58694637e-01 4.12669219e-02 7.44170222e-07]\n",
      " [3.85340117e-03 2.19815284e-01 7.76272714e-01 5.85814414e-05]\n",
      " [6.47414997e-02 9.24365520e-01 1.07588638e-02 1.34142887e-04]\n",
      " [3.63433398e-02 9.60814834e-01 2.80853081e-03 3.32724157e-05]\n",
      " [6.45167966e-05 8.47582668e-02 9.15173352e-01 3.86322972e-06]\n",
      " [1.13270245e-04 1.51065066e-01 8.48815560e-01 6.06210642e-06]\n",
      " [1.43740948e-08 4.35239449e-03 9.95647609e-01 1.72667791e-09]\n",
      " [8.20270419e-01 1.34705886e-01 4.38637137e-02 1.15994201e-03]\n",
      " [1.10260800e-09 1.31658249e-04 9.99868274e-01 2.25117217e-11]]\n"
     ]
    }
   ],
   "source": [
    "print(X_test_features)"
   ]
  },
  {
   "cell_type": "code",
   "execution_count": 164,
   "metadata": {},
   "outputs": [],
   "source": [
    "prediction_RF = RF_model.predict(X_test_features)"
   ]
  },
  {
   "cell_type": "code",
   "execution_count": 165,
   "metadata": {},
   "outputs": [
    {
     "data": {
      "text/plain": [
       "(15,)"
      ]
     },
     "execution_count": 165,
     "metadata": {},
     "output_type": "execute_result"
    }
   ],
   "source": [
    "prediction_RF.shape"
   ]
  },
  {
   "cell_type": "code",
   "execution_count": 166,
   "metadata": {},
   "outputs": [
    {
     "name": "stdout",
     "output_type": "stream",
     "text": [
      "[0 0 0 0 0 1 1 2 1 1 2 2 2 0 2]\n"
     ]
    }
   ],
   "source": [
    "print(prediction_RF)"
   ]
  },
  {
   "cell_type": "code",
   "execution_count": 167,
   "metadata": {},
   "outputs": [],
   "source": [
    "prediction_RF = le.inverse_transform(prediction_RF)"
   ]
  },
  {
   "cell_type": "code",
   "execution_count": 168,
   "metadata": {},
   "outputs": [
    {
     "name": "stdout",
     "output_type": "stream",
     "text": [
      "['Blight' 'Blight' 'Blight' 'Blight' 'Blight' 'Common_Rust' 'Common_Rust'\n",
      " 'Gray_Leaf_Spot' 'Common_Rust' 'Common_Rust' 'Gray_Leaf_Spot'\n",
      " 'Gray_Leaf_Spot' 'Gray_Leaf_Spot' 'Blight' 'Gray_Leaf_Spot']\n"
     ]
    }
   ],
   "source": [
    "print(prediction_RF)"
   ]
  },
  {
   "cell_type": "code",
   "execution_count": 169,
   "metadata": {},
   "outputs": [
    {
     "name": "stdout",
     "output_type": "stream",
     "text": [
      "Accuracy =  0.8666666666666667\n"
     ]
    }
   ],
   "source": [
    "#Print overall accuracy\n",
    "from sklearn import metrics\n",
    "print (\"Accuracy = \", metrics.accuracy_score(original, prediction_RF)) #provide test and prediction data to measure that"
   ]
  },
  {
   "cell_type": "code",
   "execution_count": 170,
   "metadata": {},
   "outputs": [
    {
     "data": {
      "text/plain": [
       "<AxesSubplot:>"
      ]
     },
     "execution_count": 170,
     "metadata": {},
     "output_type": "execute_result"
    },
    {
     "data": {
      "image/png": "[encoded data removed]",
      "text/plain": [
       "<Figure size 432x288 with 2 Axes>"
      ]
     },
     "metadata": {
      "needs_background": "light"
     },
     "output_type": "display_data"
    }
   ],
   "source": [
    "#Confusion Matrix - verify accuracy of each class\n",
    "from sklearn.metrics import confusion_matrix\n",
    "cm = confusion_matrix(original, prediction_RF)\n",
    "#print(cm)\n",
    "sns.heatmap(cm, annot=True)"
   ]
  },
  {
   "cell_type": "code",
   "execution_count": 172,
   "metadata": {},
   "outputs": [
    {
     "name": "stdout",
     "output_type": "stream",
     "text": [
      "Classification Report: \n",
      "                 precision    recall  f1-score   support\n",
      "\n",
      "        Blight       0.83      1.00      0.91         5\n",
      "   Common_Rust       1.00      0.80      0.89         5\n",
      "Gray_Leaf_Spot       0.80      0.80      0.80         5\n",
      "\n",
      "      accuracy                           0.87        15\n",
      "     macro avg       0.88      0.87      0.87        15\n",
      "  weighted avg       0.88      0.87      0.87        15\n",
      "\n"
     ]
    }
   ],
   "source": [
    "from sklearn.metrics import confusion_matrix , classification_report\n",
    "import numpy as np\n",
    "target_names = ['Blight', 'Common_Rust', 'Gray_Leaf_Spot']\n",
    "print(\"Classification Report: \\n\",classification_report(original, prediction_RF, target_names=target_names))"
   ]
  },
  {
   "cell_type": "code",
   "execution_count": 173,
   "metadata": {},
   "outputs": [
    {
     "name": "stdout",
     "output_type": "stream",
     "text": [
      "true = 13\n",
      "false= 2\n"
     ]
    }
   ],
   "source": [
    "true = 0\n",
    "false = 0\n",
    "for i in range(len(y_test)):\n",
    "    if(predict[i]==original[i]):\n",
    "        true=true+1\n",
    "    else:\n",
    "        false=false+1\n",
    "        \n",
    "print('true =',true)\n",
    "print('false=',false)"
   ]
  },
  {
   "cell_type": "code",
   "execution_count": null,
   "metadata": {},
   "outputs": [],
   "source": []
  }
 ],
 "metadata": {
  "kernelspec": {
   "display_name": "Python 3",
   "language": "python",
   "name": "python3"
  },
  "language_info": {
   "codemirror_mode": {
    "name": "ipython",
    "version": 3
   },
   "file_extension": ".py",
   "mimetype": "text/x-python",
   "name": "python",
   "nbconvert_exporter": "python",
   "pygments_lexer": "ipython3",
   "version": "3.8.5"
  }
 },
 "nbformat": 4,
 "nbformat_minor": 5
}
