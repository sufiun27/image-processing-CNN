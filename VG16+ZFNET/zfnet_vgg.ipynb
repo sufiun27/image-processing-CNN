{
 "cells": [
  {
   "cell_type": "code",
   "execution_count": 1,
   "metadata": {},
   "outputs": [
    {
     "name": "stdout",
     "output_type": "stream",
     "text": [
      "[[1.45962194e-03 1.41461665e-09 9.98540401e-01 9.64855230e-15]\n",
      " [1.31064479e-03 2.86992788e-01 7.11696565e-01 2.29098540e-09]\n",
      " [1.51576591e-03 2.18369777e-07 9.98484075e-01 9.84824879e-15]\n",
      " ...\n",
      " [9.14337761e-06 2.60842086e-08 1.24964909e-05 9.99978304e-01]\n",
      " [1.18556754e-05 2.43693739e-06 9.99015128e-07 9.99984741e-01]\n",
      " [9.61103375e-09 4.83501132e-08 2.07551722e-07 9.99999762e-01]]\n"
     ]
    }
   ],
   "source": [
    "# save numpy array as csv file\n",
    "from numpy import asarray\n",
    "from numpy import savetxt\n",
    "# define data\n",
    "#data = asarray([[0, 1, 2, 3, 4, 5, 6, 7, 8, 9]])\n",
    "# save to csv file\n",
    "#savetxt('data.csv', data, delimiter=',')\n",
    "# load numpy array from csv file\n",
    "from numpy import loadtxt\n",
    "# load array\n",
    "X_train_vgg = loadtxt('X_train_prediction_VGG16.csv', delimiter=',')\n",
    "# print the array\n",
    "print(X_train_vgg)"
   ]
  },
  {
   "cell_type": "code",
   "execution_count": 2,
   "metadata": {},
   "outputs": [
    {
     "name": "stdout",
     "output_type": "stream",
     "text": [
      "[[2.48151571e-01 1.65416612e-04 7.51682580e-01 3.74640081e-07]\n",
      " [2.33636782e-01 9.88643840e-02 5.92605054e-01 7.48937503e-02]\n",
      " [7.69452900e-02 1.58777533e-04 9.22895789e-01 8.72899264e-08]\n",
      " ...\n",
      " [1.57516370e-05 1.53188303e-05 1.46343666e-06 9.99967456e-01]\n",
      " [8.46940293e-06 8.22026414e-06 6.30271643e-07 9.99982715e-01]\n",
      " [2.51856977e-06 2.50524363e-06 1.36864443e-07 9.99994874e-01]]\n"
     ]
    }
   ],
   "source": [
    "from numpy import loadtxt\n",
    "# load array\n",
    "X_train_zfnet = loadtxt('X_train_prediction_zfnet.csv', delimiter=',')\n",
    "# print the array\n",
    "print(X_train_zfnet)"
   ]
  },
  {
   "cell_type": "code",
   "execution_count": 3,
   "metadata": {},
   "outputs": [],
   "source": [
    "X_test_vgg = loadtxt('X_test_prediction_VGG16.csv', delimiter=',')"
   ]
  },
  {
   "cell_type": "code",
   "execution_count": 4,
   "metadata": {},
   "outputs": [],
   "source": [
    "X_test_zfnet = loadtxt('X_test_prediction_zfnet.csv', delimiter=',')"
   ]
  },
  {
   "cell_type": "code",
   "execution_count": 5,
   "metadata": {},
   "outputs": [
    {
     "data": {
      "text/plain": [
       "(770, 4)"
      ]
     },
     "execution_count": 5,
     "metadata": {},
     "output_type": "execute_result"
    }
   ],
   "source": [
    "X_test_vgg.shape"
   ]
  },
  {
   "cell_type": "code",
   "execution_count": 6,
   "metadata": {},
   "outputs": [
    {
     "data": {
      "text/plain": [
       "(770, 4)"
      ]
     },
     "execution_count": 6,
     "metadata": {},
     "output_type": "execute_result"
    }
   ],
   "source": [
    "X_test_zfnet.shape"
   ]
  },
  {
   "cell_type": "code",
   "execution_count": 7,
   "metadata": {},
   "outputs": [
    {
     "data": {
      "text/plain": [
       "(3417, 4)"
      ]
     },
     "execution_count": 7,
     "metadata": {},
     "output_type": "execute_result"
    }
   ],
   "source": [
    "X_train_zfnet.shape"
   ]
  },
  {
   "cell_type": "code",
   "execution_count": 8,
   "metadata": {},
   "outputs": [
    {
     "data": {
      "text/plain": [
       "(3417, 4)"
      ]
     },
     "execution_count": 8,
     "metadata": {},
     "output_type": "execute_result"
    }
   ],
   "source": [
    "X_train_vgg.shape"
   ]
  },
  {
   "cell_type": "code",
   "execution_count": 9,
   "metadata": {},
   "outputs": [],
   "source": [
    "a=X_train_vgg\n",
    "b=X_train_zfnet\n"
   ]
  },
  {
   "cell_type": "code",
   "execution_count": 10,
   "metadata": {
    "tags": []
   },
   "outputs": [],
   "source": [
    " import numpy as np\n",
    "ab=(np.array(a) + np.array(b)) / 2.0"
   ]
  },
  {
   "cell_type": "code",
   "execution_count": 11,
   "metadata": {},
   "outputs": [
    {
     "name": "stdout",
     "output_type": "stream",
     "text": [
      "0.12480559624964371\n"
     ]
    }
   ],
   "source": [
    "print(ab[0][0])"
   ]
  },
  {
   "cell_type": "code",
   "execution_count": 12,
   "metadata": {},
   "outputs": [
    {
     "data": {
      "text/plain": [
       "(3417, 4)"
      ]
     },
     "execution_count": 12,
     "metadata": {},
     "output_type": "execute_result"
    }
   ],
   "source": [
    "ab.shape"
   ]
  },
  {
   "cell_type": "code",
   "execution_count": 13,
   "metadata": {},
   "outputs": [
    {
     "name": "stdout",
     "output_type": "stream",
     "text": [
      "0.0014596219407394528\n"
     ]
    }
   ],
   "source": [
    "print(a[0][0])"
   ]
  },
  {
   "cell_type": "code",
   "execution_count": 14,
   "metadata": {},
   "outputs": [
    {
     "name": "stdout",
     "output_type": "stream",
     "text": [
      "0.24815157055854797\n"
     ]
    }
   ],
   "source": [
    "print(b[0][0])"
   ]
  },
  {
   "cell_type": "code",
   "execution_count": 15,
   "metadata": {},
   "outputs": [],
   "source": [
    "c=X_test_vgg\n",
    "d=X_test_zfnet\n"
   ]
  },
  {
   "cell_type": "code",
   "execution_count": 16,
   "metadata": {},
   "outputs": [],
   "source": [
    "cd=(np.array(c) + np.array(d)) / 2.0"
   ]
  },
  {
   "cell_type": "code",
   "execution_count": 17,
   "metadata": {},
   "outputs": [
    {
     "name": "stdout",
     "output_type": "stream",
     "text": [
      "0.0034479049500077963\n"
     ]
    }
   ],
   "source": [
    "print(c[0][0])"
   ]
  },
  {
   "cell_type": "code",
   "execution_count": 18,
   "metadata": {},
   "outputs": [
    {
     "name": "stdout",
     "output_type": "stream",
     "text": [
      "0.17816010117530823\n"
     ]
    }
   ],
   "source": [
    "print(d[0][0])"
   ]
  },
  {
   "cell_type": "code",
   "execution_count": 19,
   "metadata": {},
   "outputs": [
    {
     "name": "stdout",
     "output_type": "stream",
     "text": [
      "0.09080400306265801\n"
     ]
    }
   ],
   "source": [
    "print(cd[0][0])"
   ]
  },
  {
   "cell_type": "code",
   "execution_count": 20,
   "metadata": {},
   "outputs": [
    {
     "data": {
      "text/plain": [
       "(770, 4)"
      ]
     },
     "execution_count": 20,
     "metadata": {},
     "output_type": "execute_result"
    }
   ],
   "source": [
    "cd.shape"
   ]
  },
  {
   "cell_type": "code",
   "execution_count": 21,
   "metadata": {},
   "outputs": [],
   "source": [
    "import numpy as np \n",
    "import matplotlib.pyplot as plt\n",
    "import glob\n",
    "import cv2\n",
    "\n",
    "from keras.models import Model, Sequential\n",
    "from keras.layers import Dense, Flatten, Conv2D, MaxPooling2D\n",
    "from keras.layers.normalization import BatchNormalization\n",
    "import os\n",
    "import seaborn as sns\n",
    "\n",
    "from tensorflow.keras.preprocessing import image\n",
    "from tensorflow.keras.models import Model\n",
    "from tensorflow.keras.layers import Dense, GlobalAveragePooling2D"
   ]
  },
  {
   "cell_type": "code",
   "execution_count": 22,
   "metadata": {},
   "outputs": [],
   "source": [
    "SIZE = 224  #Resize images"
   ]
  },
  {
   "cell_type": "code",
   "execution_count": 23,
   "metadata": {},
   "outputs": [],
   "source": [
    "#Capture training data and labels into respective lists\n",
    "train_images = []\n",
    "train_labels = [] \n",
    "\n",
    "for folder in os.listdir('train'):\n",
    "    for file in os.listdir(os.path.join('train', folder)):\n",
    "        if (file.endswith(\"JPG\") or file.endswith(\"jpg\")):\n",
    "            train_labels.append(folder)\n",
    "            img = cv2.imread(os.path.join('train', folder, file))\n",
    "            img_rgb = cv2.cvtColor(img, cv2.COLOR_BGR2RGB)\n",
    "            im = cv2.resize(img_rgb, (SIZE,SIZE))\n",
    "            train_images.append(im)\n",
    "        else:\n",
    "            continue\n",
    "\n",
    "        #Convert lists to arrays        \n",
    "train_images = np.array(train_images)\n",
    "train_labels = np.array(train_labels)"
   ]
  },
  {
   "cell_type": "code",
   "execution_count": 24,
   "metadata": {},
   "outputs": [
    {
     "name": "stdout",
     "output_type": "stream",
     "text": [
      "train images shape = (3417, 224, 224, 3)\n",
      "train labels shape = (3417,)\n"
     ]
    }
   ],
   "source": [
    "print('train images shape =',train_images.shape)\n",
    "print('train labels shape =',train_labels.shape)"
   ]
  },
  {
   "cell_type": "code",
   "execution_count": 25,
   "metadata": {},
   "outputs": [],
   "source": [
    "test_images = []\n",
    "test_labels = [] \n",
    "\n",
    "for folder in os.listdir('test'):\n",
    "    for file in os.listdir(os.path.join('test', folder)):\n",
    "        if (file.endswith(\"JPG\") or file.endswith(\"jpg\")):\n",
    "            test_labels.append(folder)\n",
    "            img = cv2.imread(os.path.join('test', folder, file))\n",
    "            img_rgb = cv2.cvtColor(img, cv2.COLOR_BGR2RGB)\n",
    "            im = cv2.resize(img_rgb, (SIZE,SIZE))\n",
    "            test_images.append(im)\n",
    "        else:\n",
    "            continue\n",
    "\n",
    "\n",
    "        #Convert lists to arrays                \n",
    "test_images = np.array(test_images)\n",
    "test_labels = np.array(test_labels)"
   ]
  },
  {
   "cell_type": "code",
   "execution_count": 26,
   "metadata": {},
   "outputs": [
    {
     "name": "stdout",
     "output_type": "stream",
     "text": [
      "test images shape = (770, 224, 224, 3)\n",
      "test labels shape = (770,)\n"
     ]
    }
   ],
   "source": [
    "print('test images shape =',test_images.shape)\n",
    "print('test labels shape =',test_labels.shape)"
   ]
  },
  {
   "cell_type": "code",
   "execution_count": 27,
   "metadata": {},
   "outputs": [],
   "source": [
    "#Encode labels from text to integers.\n",
    "from sklearn import preprocessing\n",
    "le = preprocessing.LabelEncoder()\n",
    "le.fit(test_labels)\n",
    "test_labels_encoded = le.transform(test_labels)\n",
    "le.fit(train_labels)\n",
    "train_labels_encoded = le.transform(train_labels)\n",
    "#it make the data calass name to numerical formate like 1,2,3,4 for calculation purpose"
   ]
  },
  {
   "cell_type": "code",
   "execution_count": 28,
   "metadata": {},
   "outputs": [],
   "source": [
    "#Split data into test and train datasets (already split but assigning to meaningful convention)\n",
    "x_train, y_train, x_test, y_test = train_images, train_labels_encoded, test_images, test_labels_encoded"
   ]
  },
  {
   "cell_type": "code",
   "execution_count": 29,
   "metadata": {},
   "outputs": [],
   "source": [
    "# Normalize pixel values to between 0 and 1\n",
    "x_train, x_test = x_train / 255.0, x_test / 255.0"
   ]
  },
  {
   "cell_type": "code",
   "execution_count": 30,
   "metadata": {},
   "outputs": [],
   "source": [
    "#One hot encode y values for neural network. make tahe numamic class in a matrix\n",
    "from keras.utils.np_utils import to_categorical\n",
    "y_train_one_hot = to_categorical(y_train)\n",
    "y_test_one_hot = to_categorical(y_test)"
   ]
  },
  {
   "cell_type": "code",
   "execution_count": 31,
   "metadata": {},
   "outputs": [],
   "source": [
    "X_train_RF, y_train_RF,X_test_RF,y_test_RF = ab, train_labels_encoded, cd, test_labels_encoded"
   ]
  },
  {
   "cell_type": "code",
   "execution_count": 32,
   "metadata": {},
   "outputs": [],
   "source": [
    "#############################################################################################################################################\n",
    "#RANDOM FOREST (it is classifiare problem not a regrassion problem nost use random forest regrassion) # n_estimators 50 mens it will generate 50 tree\n",
    "# you can use another classifire module there like decition tree svm etc\n",
    "from sklearn.ensemble import RandomForestClassifier \n",
    "RF_model = RandomForestClassifier(n_estimators = 550, random_state = 500)\n",
    "###############################################################################################################################################"
   ]
  },
  {
   "cell_type": "code",
   "execution_count": 37,
   "metadata": {},
   "outputs": [
    {
     "data": {
      "text/plain": [
       "(3417, 4)"
      ]
     },
     "execution_count": 37,
     "metadata": {},
     "output_type": "execute_result"
    }
   ],
   "source": [
    "X_train_RF.shape"
   ]
  },
  {
   "cell_type": "code",
   "execution_count": 38,
   "metadata": {},
   "outputs": [
    {
     "data": {
      "text/plain": [
       "(3417,)"
      ]
     },
     "execution_count": 38,
     "metadata": {},
     "output_type": "execute_result"
    }
   ],
   "source": [
    "y_train_RF.shape"
   ]
  },
  {
   "cell_type": "code",
   "execution_count": 33,
   "metadata": {},
   "outputs": [
    {
     "data": {
      "text/plain": [
       "RandomForestClassifier(n_estimators=550, random_state=500)"
      ]
     },
     "execution_count": 33,
     "metadata": {},
     "output_type": "execute_result"
    }
   ],
   "source": [
    "# Train the model on training data\n",
    "#For sklearn no one hot encoding x_for_rf random forest y_train (are level value)\n",
    "RF_model.fit(X_train_RF, y_train_RF) "
   ]
  },
  {
   "cell_type": "code",
   "execution_count": 35,
   "metadata": {},
   "outputs": [],
   "source": [
    "X_test_features = X_test_RF.reshape(X_test_RF.shape[0], -1)"
   ]
  },
  {
   "cell_type": "code",
   "execution_count": 36,
   "metadata": {},
   "outputs": [
    {
     "data": {
      "text/plain": [
       "(770, 4)"
      ]
     },
     "execution_count": 36,
     "metadata": {},
     "output_type": "execute_result"
    }
   ],
   "source": [
    "X_test_features.shape"
   ]
  },
  {
   "cell_type": "code",
   "execution_count": 39,
   "metadata": {},
   "outputs": [],
   "source": [
    "#Now predict using the trained RF model. \n",
    "prediction_RF = RF_model.predict(X_test_features) # out put will look like 1.2.3"
   ]
  },
  {
   "cell_type": "code",
   "execution_count": 40,
   "metadata": {},
   "outputs": [],
   "source": [
    "#Inverse le transform to get original label back. \n",
    "prediction_RF = le.inverse_transform(prediction_RF) #before we make the class value like 1,2,3 numeric its re build this"
   ]
  },
  {
   "cell_type": "code",
   "execution_count": 41,
   "metadata": {},
   "outputs": [
    {
     "name": "stdout",
     "output_type": "stream",
     "text": [
      "Accuracy =  0.625974025974026\n"
     ]
    }
   ],
   "source": [
    "#Print overall accuracy\n",
    "from sklearn import metrics\n",
    "print (\"Accuracy = \", metrics.accuracy_score(test_labels, prediction_RF)) #provide test and prediction data to measure that"
   ]
  },
  {
   "cell_type": "code",
   "execution_count": 42,
   "metadata": {},
   "outputs": [
    {
     "name": "stdout",
     "output_type": "stream",
     "text": [
      "['Blight' 'Blight' 'Blight' 'Blight' 'Blight' 'Blight' 'Blight' 'Blight'\n",
      " 'Blight' 'Blight' 'Common_Rust' 'Blight' 'Blight' 'Common_Rust'\n",
      " 'Common_Rust' 'Blight' 'Blight' 'Blight' 'Common_Rust' 'Blight' 'Blight'\n",
      " 'Blight' 'Blight' 'Gray_Leaf_Spot' 'Blight' 'Blight' 'Common_Rust'\n",
      " 'Blight' 'Common_Rust' 'Blight' 'Blight' 'Blight' 'Blight' 'Blight'\n",
      " 'Blight' 'Blight' 'Blight' 'Blight' 'Blight' 'Blight' 'Blight' 'Blight'\n",
      " 'Blight' 'Gray_Leaf_Spot' 'Common_Rust' 'Blight' 'Blight' 'Blight'\n",
      " 'Blight' 'Blight' 'Blight' 'Blight' 'Blight' 'Blight' 'Blight' 'Blight'\n",
      " 'Blight' 'Blight' 'Blight' 'Blight' 'Common_Rust' 'Blight' 'Blight'\n",
      " 'Blight' 'Blight' 'Blight' 'Blight' 'Gray_Leaf_Spot' 'Common_Rust'\n",
      " 'Blight' 'Blight' 'Blight' 'Blight' 'Common_Rust' 'Blight' 'Blight'\n",
      " 'Blight' 'Blight' 'Blight' 'Common_Rust' 'Blight' 'Blight'\n",
      " 'Gray_Leaf_Spot' 'Blight' 'Blight' 'Blight' 'Blight' 'Blight' 'Blight'\n",
      " 'Blight' 'Blight' 'Blight' 'Blight' 'Blight' 'Common_Rust' 'Blight'\n",
      " 'Blight' 'Blight' 'Common_Rust' 'Blight' 'Blight' 'Blight' 'Blight'\n",
      " 'Blight' 'Common_Rust' 'Blight' 'Blight' 'Blight' 'Blight'\n",
      " 'Gray_Leaf_Spot' 'Blight' 'Blight' 'Blight' 'Blight' 'Common_Rust'\n",
      " 'Blight' 'Common_Rust' 'Blight' 'Blight' 'Blight' 'Blight' 'Common_Rust'\n",
      " 'Blight' 'Blight' 'Blight' 'Blight' 'Blight' 'Blight' 'Blight'\n",
      " 'Common_Rust' 'Common_Rust' 'Common_Rust' 'Common_Rust' 'Common_Rust'\n",
      " 'Blight' 'Common_Rust' 'Common_Rust' 'Blight' 'Blight' 'Blight' 'Blight'\n",
      " 'Blight' 'Blight' 'Common_Rust' 'Blight' 'Blight' 'Blight' 'Blight'\n",
      " 'Blight' 'Blight' 'Common_Rust' 'Blight' 'Blight' 'Blight' 'Common_Rust'\n",
      " 'Common_Rust' 'Blight' 'Common_Rust' 'Blight' 'Blight' 'Common_Rust'\n",
      " 'Blight' 'Common_Rust' 'Blight' 'Blight' 'Common_Rust' 'Blight'\n",
      " 'Common_Rust' 'Blight' 'Blight' 'Blight' 'Common_Rust' 'Blight' 'Blight'\n",
      " 'Blight' 'Common_Rust' 'Common_Rust' 'Blight' 'Blight' 'Common_Rust'\n",
      " 'Blight' 'Blight' 'Blight' 'Common_Rust' 'Blight' 'Blight' 'Common_Rust'\n",
      " 'Blight' 'Blight' 'Common_Rust' 'Blight' 'Common_Rust' 'Common_Rust'\n",
      " 'Blight' 'Common_Rust' 'Blight' 'Common_Rust' 'Common_Rust' 'Blight'\n",
      " 'Blight' 'Blight' 'Common_Rust' 'Blight' 'Blight' 'Blight' 'Blight'\n",
      " 'Common_Rust' 'Common_Rust' 'Blight' 'Blight' 'Blight' 'Common_Rust'\n",
      " 'Common_Rust' 'Common_Rust' 'Blight' 'Blight' 'Blight' 'Blight' 'Blight'\n",
      " 'Blight' 'Common_Rust' 'Common_Rust' 'Blight' 'Blight' 'Blight' 'Blight'\n",
      " 'Common_Rust' 'Blight' 'Common_Rust' 'Blight' 'Common_Rust' 'Blight'\n",
      " 'Blight' 'Gray_Leaf_Spot' 'Blight' 'Blight' 'Blight' 'Common_Rust'\n",
      " 'Blight' 'Blight' 'Blight' 'Blight' 'Blight' 'Blight' 'Blight' 'Blight'\n",
      " 'Blight' 'Common_Rust' 'Blight' 'Blight' 'Blight' 'Blight' 'Blight'\n",
      " 'Blight' 'Blight' 'Blight' 'Blight' 'Blight' 'Blight' 'Blight' 'Blight'\n",
      " 'Blight' 'Blight' 'Blight' 'Blight' 'Blight' 'Blight' 'Blight'\n",
      " 'Common_Rust' 'Blight' 'Blight' 'Blight' 'Blight' 'Common_Rust'\n",
      " 'Common_Rust' 'Common_Rust' 'Common_Rust' 'Blight' 'Common_Rust'\n",
      " 'Common_Rust' 'Blight' 'Blight' 'Blight' 'Blight' 'Blight' 'Blight'\n",
      " 'Common_Rust' 'Blight' 'Blight' 'Blight' 'Common_Rust' 'Gray_Leaf_Spot'\n",
      " 'Common_Rust' 'Common_Rust' 'Blight' 'Common_Rust' 'Blight' 'Blight'\n",
      " 'Common_Rust' 'Blight' 'Common_Rust' 'Blight' 'Common_Rust' 'Common_Rust'\n",
      " 'Common_Rust' 'Blight' 'Blight' 'Blight' 'Common_Rust' 'Common_Rust'\n",
      " 'Blight' 'Blight' 'Blight' 'Blight' 'Blight' 'Common_Rust' 'Common_Rust'\n",
      " 'Blight' 'Common_Rust' 'Blight' 'Blight' 'Blight' 'Common_Rust' 'Blight'\n",
      " 'Common_Rust' 'Common_Rust' 'Common_Rust' 'Blight' 'Common_Rust' 'Blight'\n",
      " 'Blight' 'Blight' 'Common_Rust' 'Blight' 'Blight' 'Blight' 'Blight'\n",
      " 'Blight' 'Blight' 'Blight' 'Blight' 'Blight' 'Blight' 'Blight'\n",
      " 'Common_Rust' 'Blight' 'Blight' 'Blight' 'Blight' 'Blight' 'Blight'\n",
      " 'Blight' 'Blight' 'Blight' 'Blight' 'Common_Rust' 'Blight' 'Blight'\n",
      " 'Blight' 'Blight' 'Common_Rust' 'Common_Rust' 'Blight' 'Blight' 'Blight'\n",
      " 'Blight' 'Blight' 'Blight' 'Common_Rust' 'Common_Rust' 'Blight' 'Blight'\n",
      " 'Blight' 'Blight' 'Blight' 'Gray_Leaf_Spot' 'Common_Rust' 'Blight'\n",
      " 'Common_Rust' 'Common_Rust' 'Blight' 'Gray_Leaf_Spot' 'Gray_Leaf_Spot'\n",
      " 'Gray_Leaf_Spot' 'Blight' 'Common_Rust' 'Common_Rust' 'Common_Rust'\n",
      " 'Common_Rust' 'Gray_Leaf_Spot' 'Common_Rust' 'Common_Rust'\n",
      " 'Gray_Leaf_Spot' 'Gray_Leaf_Spot' 'Gray_Leaf_Spot' 'Gray_Leaf_Spot'\n",
      " 'Common_Rust' 'Gray_Leaf_Spot' 'Blight' 'Common_Rust' 'Common_Rust'\n",
      " 'Gray_Leaf_Spot' 'Common_Rust' 'Gray_Leaf_Spot' 'Gray_Leaf_Spot'\n",
      " 'Gray_Leaf_Spot' 'Common_Rust' 'Common_Rust' 'Blight' 'Common_Rust'\n",
      " 'Common_Rust' 'Common_Rust' 'Common_Rust' 'Blight' 'Common_Rust' 'Blight'\n",
      " 'Gray_Leaf_Spot' 'Common_Rust' 'Gray_Leaf_Spot' 'Blight' 'Gray_Leaf_Spot'\n",
      " 'Common_Rust' 'Common_Rust' 'Common_Rust' 'Common_Rust' 'Common_Rust'\n",
      " 'Gray_Leaf_Spot' 'Blight' 'Blight' 'Gray_Leaf_Spot' 'Common_Rust'\n",
      " 'Blight' 'Blight' 'Common_Rust' 'Gray_Leaf_Spot' 'Gray_Leaf_Spot'\n",
      " 'Common_Rust' 'Common_Rust' 'Common_Rust' 'Gray_Leaf_Spot' 'Common_Rust'\n",
      " 'Blight' 'Common_Rust' 'Common_Rust' 'Common_Rust' 'Common_Rust'\n",
      " 'Gray_Leaf_Spot' 'Common_Rust' 'Common_Rust' 'Common_Rust' 'Common_Rust'\n",
      " 'Gray_Leaf_Spot' 'Gray_Leaf_Spot' 'Common_Rust' 'Common_Rust'\n",
      " 'Gray_Leaf_Spot' 'Common_Rust' 'Common_Rust' 'Blight' 'Common_Rust'\n",
      " 'Gray_Leaf_Spot' 'Common_Rust' 'Common_Rust' 'Common_Rust'\n",
      " 'Gray_Leaf_Spot' 'Blight' 'Common_Rust' 'Common_Rust' 'Common_Rust'\n",
      " 'Gray_Leaf_Spot' 'Gray_Leaf_Spot' 'Common_Rust' 'Blight' 'Common_Rust'\n",
      " 'Common_Rust' 'Common_Rust' 'Gray_Leaf_Spot' 'Common_Rust'\n",
      " 'Gray_Leaf_Spot' 'Blight' 'Blight' 'Gray_Leaf_Spot' 'Common_Rust'\n",
      " 'Common_Rust' 'Gray_Leaf_Spot' 'Gray_Leaf_Spot' 'Blight' 'Common_Rust'\n",
      " 'Common_Rust' 'Gray_Leaf_Spot' 'Common_Rust' 'Gray_Leaf_Spot'\n",
      " 'Gray_Leaf_Spot' 'Common_Rust' 'Gray_Leaf_Spot' 'Gray_Leaf_Spot'\n",
      " 'Common_Rust' 'Gray_Leaf_Spot' 'Gray_Leaf_Spot' 'Gray_Leaf_Spot'\n",
      " 'Gray_Leaf_Spot' 'Common_Rust' 'Blight' 'Gray_Leaf_Spot' 'Blight'\n",
      " 'Common_Rust' 'Gray_Leaf_Spot' 'Common_Rust' 'Blight' 'Common_Rust'\n",
      " 'Common_Rust' 'Common_Rust' 'Blight' 'Gray_Leaf_Spot' 'Common_Rust'\n",
      " 'Common_Rust' 'Common_Rust' 'Blight' 'Gray_Leaf_Spot' 'Common_Rust'\n",
      " 'Common_Rust' 'Common_Rust' 'Common_Rust' 'Gray_Leaf_Spot'\n",
      " 'Gray_Leaf_Spot' 'Gray_Leaf_Spot' 'Common_Rust' 'Gray_Leaf_Spot'\n",
      " 'Gray_Leaf_Spot' 'Blight' 'Common_Rust' 'Common_Rust' 'Gray_Leaf_Spot'\n",
      " 'Common_Rust' 'Gray_Leaf_Spot' 'Common_Rust' 'Gray_Leaf_Spot'\n",
      " 'Gray_Leaf_Spot' 'Healthy' 'Healthy' 'Healthy' 'Healthy' 'Healthy'\n",
      " 'Healthy' 'Healthy' 'Healthy' 'Healthy' 'Healthy' 'Healthy' 'Healthy'\n",
      " 'Healthy' 'Healthy' 'Healthy' 'Common_Rust' 'Healthy' 'Healthy' 'Healthy'\n",
      " 'Healthy' 'Healthy' 'Healthy' 'Healthy' 'Healthy' 'Healthy' 'Healthy'\n",
      " 'Healthy' 'Healthy' 'Healthy' 'Healthy' 'Healthy' 'Healthy' 'Healthy'\n",
      " 'Healthy' 'Healthy' 'Healthy' 'Healthy' 'Healthy' 'Healthy' 'Healthy'\n",
      " 'Healthy' 'Healthy' 'Healthy' 'Healthy' 'Healthy' 'Healthy' 'Healthy'\n",
      " 'Healthy' 'Healthy' 'Healthy' 'Healthy' 'Healthy' 'Healthy' 'Healthy'\n",
      " 'Healthy' 'Healthy' 'Healthy' 'Healthy' 'Healthy' 'Healthy' 'Healthy'\n",
      " 'Healthy' 'Healthy' 'Healthy' 'Healthy' 'Healthy' 'Healthy' 'Healthy'\n",
      " 'Healthy' 'Healthy' 'Healthy' 'Healthy' 'Healthy' 'Healthy' 'Healthy'\n",
      " 'Healthy' 'Healthy' 'Healthy' 'Healthy' 'Healthy' 'Healthy' 'Healthy'\n",
      " 'Healthy' 'Healthy' 'Healthy' 'Healthy' 'Healthy' 'Healthy' 'Healthy'\n",
      " 'Healthy' 'Healthy' 'Healthy' 'Healthy' 'Healthy' 'Healthy' 'Healthy'\n",
      " 'Healthy' 'Healthy' 'Healthy' 'Healthy' 'Healthy' 'Healthy' 'Healthy'\n",
      " 'Healthy' 'Healthy' 'Healthy' 'Healthy' 'Healthy' 'Healthy' 'Healthy'\n",
      " 'Healthy' 'Healthy' 'Healthy' 'Healthy' 'Healthy' 'Healthy' 'Healthy'\n",
      " 'Healthy' 'Healthy' 'Healthy' 'Healthy' 'Healthy' 'Healthy' 'Healthy'\n",
      " 'Healthy' 'Healthy' 'Healthy' 'Healthy' 'Healthy' 'Healthy' 'Healthy'\n",
      " 'Healthy' 'Healthy' 'Healthy' 'Healthy' 'Healthy' 'Healthy' 'Healthy'\n",
      " 'Healthy' 'Healthy' 'Healthy' 'Healthy' 'Healthy' 'Healthy' 'Healthy'\n",
      " 'Healthy' 'Healthy' 'Blight' 'Healthy' 'Healthy' 'Healthy' 'Healthy'\n",
      " 'Healthy' 'Healthy' 'Healthy' 'Healthy' 'Healthy' 'Healthy' 'Healthy'\n",
      " 'Healthy' 'Healthy' 'Healthy' 'Healthy' 'Healthy' 'Healthy' 'Healthy'\n",
      " 'Healthy' 'Healthy' 'Healthy' 'Healthy' 'Healthy' 'Healthy' 'Healthy'\n",
      " 'Healthy' 'Healthy' 'Healthy' 'Healthy' 'Healthy' 'Healthy' 'Healthy'\n",
      " 'Healthy' 'Healthy' 'Healthy' 'Healthy' 'Healthy' 'Healthy' 'Healthy'\n",
      " 'Healthy' 'Healthy' 'Healthy' 'Healthy' 'Healthy' 'Healthy' 'Healthy'\n",
      " 'Healthy' 'Healthy' 'Healthy' 'Healthy' 'Healthy' 'Healthy' 'Healthy'\n",
      " 'Healthy' 'Healthy' 'Healthy' 'Healthy' 'Healthy' 'Healthy' 'Healthy'\n",
      " 'Healthy' 'Healthy' 'Healthy' 'Healthy' 'Healthy' 'Healthy' 'Healthy'\n",
      " 'Healthy' 'Healthy' 'Healthy' 'Healthy' 'Healthy' 'Healthy' 'Healthy'\n",
      " 'Healthy' 'Healthy' 'Healthy' 'Healthy' 'Healthy' 'Healthy' 'Healthy'\n",
      " 'Healthy' 'Healthy' 'Healthy']\n"
     ]
    }
   ],
   "source": [
    "print(prediction_RF)"
   ]
  },
  {
   "cell_type": "code",
   "execution_count": 43,
   "metadata": {},
   "outputs": [
    {
     "data": {
      "text/plain": [
       "<AxesSubplot:>"
      ]
     },
     "execution_count": 43,
     "metadata": {},
     "output_type": "execute_result"
    },
    {
     "data": {
      "image/png": "[encoded data removed]",
      "text/plain": [
       "<Figure size 432x288 with 2 Axes>"
      ]
     },
     "metadata": {
      "needs_background": "light"
     },
     "output_type": "display_data"
    }
   ],
   "source": [
    "#Confusion Matrix - verify accuracy of each class\n",
    "from sklearn.metrics import confusion_matrix\n",
    "cm = confusion_matrix(test_labels, prediction_RF)\n",
    "#print(cm)\n",
    "sns.heatmap(cm, annot=True)"
   ]
  },
  {
   "cell_type": "code",
   "execution_count": 44,
   "metadata": {},
   "outputs": [
    {
     "name": "stdout",
     "output_type": "stream",
     "text": [
      "Classification Report: \n",
      "                 precision    recall  f1-score   support\n",
      "\n",
      "        Blight       0.42      0.78      0.55       163\n",
      "   Common_Rust       0.49      0.33      0.39       261\n",
      "Gray_Leaf_Spot       0.62      0.35      0.45       114\n",
      "       Healthy       1.00      0.99      1.00       232\n",
      "\n",
      "      accuracy                           0.63       770\n",
      "     macro avg       0.63      0.61      0.60       770\n",
      "  weighted avg       0.65      0.63      0.61       770\n",
      "\n"
     ]
    }
   ],
   "source": [
    "from sklearn.metrics import confusion_matrix , classification_report\n",
    "import numpy as np\n",
    "target_names = ['Blight', 'Common_Rust', 'Gray_Leaf_Spot', 'Healthy']\n",
    "print(\"Classification Report: \\n\",classification_report(test_labels, prediction_RF, target_names=target_names))"
   ]
  },
  {
   "cell_type": "code",
   "execution_count": 45,
   "metadata": {},
   "outputs": [
    {
     "name": "stdout",
     "output_type": "stream",
     "text": [
      "true = 482\n",
      "false= 288\n"
     ]
    }
   ],
   "source": [
    "true = 0\n",
    "false = 0\n",
    "for i in range(len(prediction_RF)):\n",
    "    if(prediction_RF[i]==test_labels[i]):\n",
    "        true=true+1\n",
    "    else:\n",
    "        false=false+1\n",
    "        \n",
    "print('true =',true)\n",
    "print('false=',false)"
   ]
  },
  {
   "cell_type": "code",
   "execution_count": null,
   "metadata": {},
   "outputs": [],
   "source": []
  }
 ],
 "metadata": {
  "kernelspec": {
   "display_name": "Python 3",
   "language": "python",
   "name": "python3"
  },
  "language_info": {
   "codemirror_mode": {
    "name": "ipython",
    "version": 3
   },
   "file_extension": ".py",
   "mimetype": "text/x-python",
   "name": "python",
   "nbconvert_exporter": "python",
   "pygments_lexer": "ipython3",
   "version": "3.8.5"
  }
 },
 "nbformat": 4,
 "nbformat_minor": 5
}
