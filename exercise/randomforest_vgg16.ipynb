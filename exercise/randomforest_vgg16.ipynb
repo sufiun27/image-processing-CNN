{
 "cells": [
  {
   "cell_type": "code",
   "execution_count": 1,
   "id": "f6aa7b2f-6ee7-4026-8fea-ca6ad040af75",
   "metadata": {},
   "outputs": [
    {
     "name": "stdout",
     "output_type": "stream",
     "text": [
      "INFO:tensorflow:Enabling eager execution\n",
      "INFO:tensorflow:Enabling v2 tensorshape\n",
      "INFO:tensorflow:Enabling resource variables\n",
      "INFO:tensorflow:Enabling tensor equality\n",
      "INFO:tensorflow:Enabling control flow v2\n"
     ]
    }
   ],
   "source": [
    "import numpy as np \n",
    "import matplotlib.pyplot as plt\n",
    "import glob\n",
    "import cv2\n",
    "\n",
    "from keras.models import Model, Sequential\n",
    "from keras.layers import Dense, Flatten, Conv2D, MaxPooling2D\n",
    "from keras.layers.normalization import BatchNormalization\n",
    "import os\n",
    "import seaborn as sns\n",
    "from keras.applications.vgg16 import VGG16"
   ]
  },
  {
   "cell_type": "code",
   "execution_count": 2,
   "id": "261aebab-0119-444d-9795-ffbd64142bbb",
   "metadata": {},
   "outputs": [
    {
     "name": "stdout",
     "output_type": "stream",
     "text": [
      "['Test', 'Train', 'Validation']\n"
     ]
    }
   ],
   "source": [
    "print(os.listdir(\"images/\"))"
   ]
  },
  {
   "cell_type": "code",
   "execution_count": 3,
   "id": "1557964b-efd3-404c-af7b-f7da42176ae9",
   "metadata": {},
   "outputs": [],
   "source": [
    "SIZE = 256  #Resize images"
   ]
  },
  {
   "cell_type": "code",
   "execution_count": 4,
   "id": "beb828f7-e258-4c8f-9561-2cc45aeb25d0",
   "metadata": {},
   "outputs": [],
   "source": [
    "#Capture training data and labels into respective lists\n",
    "train_images = []\n",
    "train_labels = [] \n"
   ]
  },
  {
   "cell_type": "code",
   "execution_count": 5,
   "id": "0c5988b0-7964-4108-8310-60c445904641",
   "metadata": {},
   "outputs": [
    {
     "name": "stdout",
     "output_type": "stream",
     "text": [
      "Bacterial leaf blight\n",
      "images/train\\Bacterial leaf blight\\DSC_0365.JPG\n",
      "images/train\\Bacterial leaf blight\\DSC_0366.jpg\n",
      "images/train\\Bacterial leaf blight\\DSC_0367.JPG\n",
      "images/train\\Bacterial leaf blight\\DSC_0370.jpg\n",
      "images/train\\Bacterial leaf blight\\DSC_0372.JPG\n",
      "images/train\\Bacterial leaf blight\\DSC_0373.JPG\n",
      "images/train\\Bacterial leaf blight\\DSC_0374.JPG\n",
      "images/train\\Bacterial leaf blight\\DSC_0375.JPG\n",
      "images/train\\Bacterial leaf blight\\DSC_0376.JPG\n",
      "images/train\\Bacterial leaf blight\\DSC_0377.JPG\n",
      "images/train\\Bacterial leaf blight\\DSC_0378.JPG\n",
      "images/train\\Bacterial leaf blight\\DSC_0379.JPG\n",
      "images/train\\Bacterial leaf blight\\DSC_0380.JPG\n",
      "images/train\\Bacterial leaf blight\\DSC_0381.JPG\n",
      "images/train\\Bacterial leaf blight\\DSC_0382.JPG\n",
      "images/train\\Bacterial leaf blight\\DSC_0383.JPG\n",
      "images/train\\Bacterial leaf blight\\DSC_0384.JPG\n",
      "images/train\\Bacterial leaf blight\\DSC_0385.jpg\n",
      "images/train\\Bacterial leaf blight\\DSC_0386.JPG\n",
      "images/train\\Bacterial leaf blight\\DSC_0388.JPG\n",
      "images/train\\Bacterial leaf blight\\DSC_0389.JPG\n",
      "images/train\\Bacterial leaf blight\\DSC_0390.JPG\n",
      "images/train\\Bacterial leaf blight\\DSC_0392.JPG\n",
      "images/train\\Bacterial leaf blight\\DSC_0393.JPG\n",
      "images/train\\Bacterial leaf blight\\DSC_0395.JPG\n",
      "images/train\\Bacterial leaf blight\\DSC_0396.JPG\n",
      "images/train\\Bacterial leaf blight\\DSC_0397.JPG\n",
      "images/train\\Bacterial leaf blight\\DSC_0398.JPG\n",
      "images/train\\Bacterial leaf blight\\DSC_0399.JPG\n",
      "images/train\\Bacterial leaf blight\\DSC_0400.JPG\n",
      "images/train\\Bacterial leaf blight\\DSC_0401.JPG\n",
      "images/train\\Bacterial leaf blight\\DSC_0402.JPG\n",
      "images/train\\Bacterial leaf blight\\DSC_0403.JPG\n",
      "images/train\\Bacterial leaf blight\\DSC_0404.JPG\n",
      "images/train\\Bacterial leaf blight\\DSC_0405.JPG\n",
      "images/train\\Bacterial leaf blight\\DSC_0406.JPG\n",
      "images/train\\Bacterial leaf blight\\DSC_0700.jpg\n",
      "images/train\\Bacterial leaf blight\\DSC_0701.jpg\n",
      "images/train\\Bacterial leaf blight\\DSC_0702.jpg\n",
      "images/train\\Bacterial leaf blight\\DSC_0703.JPG\n",
      "Brown spot\n",
      "images/train\\Brown spot\\DSC_0100.jpg\n",
      "images/train\\Brown spot\\DSC_0101.jpg\n",
      "images/train\\Brown spot\\DSC_0104.jpg\n",
      "images/train\\Brown spot\\DSC_0105.jpg\n",
      "images/train\\Brown spot\\DSC_0106.jpg\n",
      "images/train\\Brown spot\\DSC_0107.jpg\n",
      "images/train\\Brown spot\\DSC_0108.jpg\n",
      "images/train\\Brown spot\\DSC_0109.jpg\n",
      "images/train\\Brown spot\\DSC_0110.jpg\n",
      "images/train\\Brown spot\\DSC_0111.jpg\n",
      "images/train\\Brown spot\\DSC_0112.jpg\n",
      "images/train\\Brown spot\\DSC_0113.jpg\n",
      "images/train\\Brown spot\\DSC_0114.jpg\n",
      "images/train\\Brown spot\\DSC_0115.jpg\n",
      "images/train\\Brown spot\\DSC_0116.jpg\n",
      "images/train\\Brown spot\\DSC_0117.jpg\n",
      "images/train\\Brown spot\\DSC_0118.jpg\n",
      "images/train\\Brown spot\\DSC_0119.jpg\n",
      "images/train\\Brown spot\\DSC_0121.jpg\n",
      "images/train\\Brown spot\\DSC_0292.JPG\n",
      "images/train\\Brown spot\\DSC_0295.JPG\n",
      "images/train\\Brown spot\\DSC_0296.jpg\n",
      "images/train\\Brown spot\\DSC_0299.JPG\n",
      "images/train\\Brown spot\\DSC_0300.JPG\n",
      "images/train\\Brown spot\\DSC_0301.JPG\n",
      "images/train\\Brown spot\\DSC_0302.JPG\n",
      "images/train\\Brown spot\\DSC_0303.JPG\n",
      "images/train\\Brown spot\\DSC_0304.JPG\n",
      "images/train\\Brown spot\\DSC_0305.JPG\n",
      "images/train\\Brown spot\\DSC_0306.JPG\n",
      "images/train\\Brown spot\\DSC_0307.JPG\n",
      "images/train\\Brown spot\\DSC_0323.JPG\n",
      "images/train\\Brown spot\\DSC_0324.JPG\n",
      "images/train\\Brown spot\\DSC_0325.JPG\n",
      "images/train\\Brown spot\\DSC_0329.jpg\n",
      "images/train\\Brown spot\\DSC_0332.JPG\n",
      "images/train\\Brown spot\\DSC_0333.JPG\n",
      "images/train\\Brown spot\\DSC_0337.JPG\n",
      "images/train\\Brown spot\\DSC_0391.jpg\n",
      "images/train\\Brown spot\\DSC_0394.jpg\n",
      "Leaf smut\n",
      "images/train\\Leaf smut\\DSC_0293.JPG\n",
      "images/train\\Leaf smut\\DSC_0308.JPG\n",
      "images/train\\Leaf smut\\DSC_0309.JPG\n",
      "images/train\\Leaf smut\\DSC_0310.JPG\n",
      "images/train\\Leaf smut\\DSC_0312.JPG\n",
      "images/train\\Leaf smut\\DSC_0313.JPG\n",
      "images/train\\Leaf smut\\DSC_0314.JPG\n",
      "images/train\\Leaf smut\\DSC_0315.jpg\n",
      "images/train\\Leaf smut\\DSC_0316.JPG\n",
      "images/train\\Leaf smut\\DSC_0317.JPG\n",
      "images/train\\Leaf smut\\DSC_0318.JPG\n",
      "images/train\\Leaf smut\\DSC_0319.jpg\n",
      "images/train\\Leaf smut\\DSC_0320.JPG\n",
      "images/train\\Leaf smut\\DSC_0321.JPG\n",
      "images/train\\Leaf smut\\DSC_0322.jpg\n",
      "images/train\\Leaf smut\\DSC_0327.JPG\n",
      "images/train\\Leaf smut\\DSC_0328.jpg\n",
      "images/train\\Leaf smut\\DSC_0330.jpg\n",
      "images/train\\Leaf smut\\DSC_0331.JPG\n",
      "images/train\\Leaf smut\\DSC_0335.JPG\n",
      "images/train\\Leaf smut\\DSC_0336.jpg\n",
      "images/train\\Leaf smut\\DSC_0338.JPG\n",
      "images/train\\Leaf smut\\DSC_0339.jpg\n",
      "images/train\\Leaf smut\\DSC_0500.jpg\n",
      "images/train\\Leaf smut\\DSC_0501.jpg\n",
      "images/train\\Leaf smut\\DSC_0502.jpg\n",
      "images/train\\Leaf smut\\DSC_0503.jpg\n",
      "images/train\\Leaf smut\\DSC_0504.jpg\n",
      "images/train\\Leaf smut\\DSC_0505.jpg\n",
      "images/train\\Leaf smut\\DSC_0506.jpg\n",
      "images/train\\Leaf smut\\DSC_0507.jpg\n",
      "images/train\\Leaf smut\\DSC_0508.jpg\n",
      "images/train\\Leaf smut\\DSC_0509.jpg\n",
      "images/train\\Leaf smut\\DSC_0510.jpg\n",
      "images/train\\Leaf smut\\DSC_0511.jpg\n",
      "images/train\\Leaf smut\\DSC_0512.jpg\n",
      "images/train\\Leaf smut\\DSC_0513.jpg\n",
      "images/train\\Leaf smut\\DSC_0514.jpg\n",
      "images/train\\Leaf smut\\DSC_0515.jpg\n",
      "images/train\\Leaf smut\\DSC_0516.jpg\n"
     ]
    }
   ],
   "source": [
    "for directory_path in glob.glob(\"images/train/*\"):\n",
    "    label = directory_path.split(\"\\\\\")[-1]\n",
    "    print(label)\n",
    "    for img_path in glob.glob(os.path.join(directory_path, \"*.jpg\")):\n",
    "        print(img_path)\n",
    "        img = cv2.imread(img_path, cv2.IMREAD_COLOR)       \n",
    "        img = cv2.resize(img, (SIZE, SIZE))\n",
    "        img = cv2.cvtColor(img, cv2.COLOR_RGB2BGR)\n",
    "        train_images.append(img)\n",
    "        train_labels.append(label)"
   ]
  },
  {
   "cell_type": "code",
   "execution_count": 6,
   "id": "688f8423-c8f6-44b5-8781-07aff9e9ab72",
   "metadata": {},
   "outputs": [],
   "source": [
    "#Convert lists to arrays        \n",
    "train_images = np.array(train_images)\n",
    "train_labels = np.array(train_labels)\n"
   ]
  },
  {
   "cell_type": "code",
   "execution_count": 7,
   "id": "4a88897b-a33b-40a6-9838-578be17facbe",
   "metadata": {},
   "outputs": [],
   "source": [
    "# Capture test/validation data and labels into respective lists\n",
    "\n",
    "test_images = []\n",
    "test_labels = [] \n",
    "for directory_path in glob.glob(\"images/validation/*\"):\n",
    "    fruit_label = directory_path.split(\"\\\\\")[-1]\n",
    "    for img_path in glob.glob(os.path.join(directory_path, \"*.jpg\")):\n",
    "        img = cv2.imread(img_path, cv2.IMREAD_COLOR)\n",
    "        img = cv2.resize(img, (SIZE, SIZE))\n",
    "        img = cv2.cvtColor(img, cv2.COLOR_RGB2BGR)\n",
    "        test_images.append(img)\n",
    "        test_labels.append(fruit_label)"
   ]
  },
  {
   "cell_type": "code",
   "execution_count": 8,
   "id": "b5e8fac7-d114-4df0-a110-164c1358923e",
   "metadata": {},
   "outputs": [],
   "source": [
    "#Convert lists to arrays                \n",
    "test_images = np.array(test_images)\n",
    "test_labels = np.array(test_labels)"
   ]
  },
  {
   "cell_type": "code",
   "execution_count": 9,
   "id": "ea1f2ac7-5321-4e18-b4d8-61880625eaca",
   "metadata": {},
   "outputs": [],
   "source": [
    "#Encode labels from text to integers.\n",
    "from sklearn import preprocessing\n",
    "le = preprocessing.LabelEncoder()\n",
    "le.fit(test_labels)\n",
    "test_labels_encoded = le.transform(test_labels)\n",
    "le.fit(train_labels)\n",
    "train_labels_encoded = le.transform(train_labels)\n",
    "#it make the data calass name to numerical formate like 1,2,3,4 for calculation purpose\n"
   ]
  },
  {
   "cell_type": "code",
   "execution_count": 10,
   "id": "2bbc6ec1-81d0-433a-a2b8-12f8f14ddd65",
   "metadata": {},
   "outputs": [],
   "source": [
    "#Split data into test and train datasets (already split but assigning to meaningful convention)\n",
    "x_train, y_train, x_test, y_test = train_images, train_labels_encoded, test_images, test_labels_encoded\n"
   ]
  },
  {
   "cell_type": "code",
   "execution_count": 11,
   "id": "27603977-efc0-48df-8df3-d6416020f42c",
   "metadata": {},
   "outputs": [],
   "source": [
    "# Normalize pixel values to between 0 and 1\n",
    "x_train, x_test = x_train / 255.0, x_test / 255.0"
   ]
  },
  {
   "cell_type": "code",
   "execution_count": 12,
   "id": "c0f801e2-b0c0-434d-8d0d-1f147f2adffd",
   "metadata": {},
   "outputs": [],
   "source": [
    "#One hot encode y values for neural network. make tahe numamic class in a matrix\n",
    "from keras.utils.np_utils import to_categorical\n",
    "y_train_one_hot = to_categorical(y_train)\n",
    "y_test_one_hot = to_categorical(y_test)"
   ]
  },
  {
   "cell_type": "code",
   "execution_count": 13,
   "id": "3809a987-1c68-4718-8032-d61bf22450fd",
   "metadata": {},
   "outputs": [],
   "source": [
    "#Load model wothout classifier/fully connected layers...thats means dont use the dense leyar\n",
    "VGG_model = VGG16(weights='imagenet', include_top=False, input_shape=(SIZE, SIZE, 3))"
   ]
  },
  {
   "cell_type": "code",
   "execution_count": 14,
   "id": "5497c33a-9698-4a6b-aeac-1410926165b3",
   "metadata": {},
   "outputs": [],
   "source": [
    "#Make loaded layers as non-trainable. This is important as we want to work with pre-trained weights .. no data will be trainable (we are not gone train this with multiple epocs  )\n",
    "\n",
    "for layer in VGG_model.layers:\n",
    "\tlayer.trainable = False"
   ]
  },
  {
   "cell_type": "code",
   "execution_count": 15,
   "id": "a0cbeca2-4e5e-4a0d-ab0a-204bbcb47230",
   "metadata": {},
   "outputs": [
    {
     "name": "stdout",
     "output_type": "stream",
     "text": [
      "Model: \"vgg16\"\n",
      "_________________________________________________________________\n",
      "Layer (type)                 Output Shape              Param #   \n",
      "=================================================================\n",
      "input_1 (InputLayer)         [(None, 256, 256, 3)]     0         \n",
      "_________________________________________________________________\n",
      "block1_conv1 (Conv2D)        (None, 256, 256, 64)      1792      \n",
      "_________________________________________________________________\n",
      "block1_conv2 (Conv2D)        (None, 256, 256, 64)      36928     \n",
      "_________________________________________________________________\n",
      "block1_pool (MaxPooling2D)   (None, 128, 128, 64)      0         \n",
      "_________________________________________________________________\n",
      "block2_conv1 (Conv2D)        (None, 128, 128, 128)     73856     \n",
      "_________________________________________________________________\n",
      "block2_conv2 (Conv2D)        (None, 128, 128, 128)     147584    \n",
      "_________________________________________________________________\n",
      "block2_pool (MaxPooling2D)   (None, 64, 64, 128)       0         \n",
      "_________________________________________________________________\n",
      "block3_conv1 (Conv2D)        (None, 64, 64, 256)       295168    \n",
      "_________________________________________________________________\n",
      "block3_conv2 (Conv2D)        (None, 64, 64, 256)       590080    \n",
      "_________________________________________________________________\n",
      "block3_conv3 (Conv2D)        (None, 64, 64, 256)       590080    \n",
      "_________________________________________________________________\n",
      "block3_pool (MaxPooling2D)   (None, 32, 32, 256)       0         \n",
      "_________________________________________________________________\n",
      "block4_conv1 (Conv2D)        (None, 32, 32, 512)       1180160   \n",
      "_________________________________________________________________\n",
      "block4_conv2 (Conv2D)        (None, 32, 32, 512)       2359808   \n",
      "_________________________________________________________________\n",
      "block4_conv3 (Conv2D)        (None, 32, 32, 512)       2359808   \n",
      "_________________________________________________________________\n",
      "block4_pool (MaxPooling2D)   (None, 16, 16, 512)       0         \n",
      "_________________________________________________________________\n",
      "block5_conv1 (Conv2D)        (None, 16, 16, 512)       2359808   \n",
      "_________________________________________________________________\n",
      "block5_conv2 (Conv2D)        (None, 16, 16, 512)       2359808   \n",
      "_________________________________________________________________\n",
      "block5_conv3 (Conv2D)        (None, 16, 16, 512)       2359808   \n",
      "_________________________________________________________________\n",
      "block5_pool (MaxPooling2D)   (None, 8, 8, 512)         0         \n",
      "=================================================================\n",
      "Total params: 14,714,688\n",
      "Trainable params: 0\n",
      "Non-trainable params: 14,714,688\n",
      "_________________________________________________________________\n"
     ]
    }
   ],
   "source": [
    "VGG_model.summary()  #Trainable parameters will be 0"
   ]
  },
  {
   "cell_type": "code",
   "execution_count": 16,
   "id": "02bc3795-3dac-4671-9850-297f12d04306",
   "metadata": {},
   "outputs": [],
   "source": [
    "#Now, let us use features from convolutional network for RF( we send oure input deta throw this feature extracture)\n",
    "feature_extractor=VGG_model.predict(x_train)"
   ]
  },
  {
   "cell_type": "code",
   "execution_count": 17,
   "id": "fed6ded8-7168-4dba-86c8-a106f01158b7",
   "metadata": {},
   "outputs": [],
   "source": [
    "features = feature_extractor.reshape(feature_extractor.shape[0], -1) #reshape is for random forest"
   ]
  },
  {
   "cell_type": "code",
   "execution_count": 18,
   "id": "7d873668-36b1-4eb7-b86e-8361b905b856",
   "metadata": {},
   "outputs": [],
   "source": [
    "X_for_RF = features #This is our X input to RF (random forest)"
   ]
  },
  {
   "cell_type": "code",
   "execution_count": 19,
   "id": "cd251d0d-b257-41e1-a3dc-6cf73087067e",
   "metadata": {},
   "outputs": [],
   "source": [
    "#RANDOM FOREST (it is classifiare problem not a regrassion problem nost use random forest regrassion) # n_estimators 50 mens it will generate 50 tree\n",
    "# you can use another classifire module there like decition tree svm etc\n",
    "from sklearn.ensemble import RandomForestClassifier \n",
    "RF_model = RandomForestClassifier(n_estimators = 50, random_state = 42)"
   ]
  },
  {
   "cell_type": "code",
   "execution_count": 20,
   "id": "eb706cc3-6900-419e-aeec-e222b848244b",
   "metadata": {},
   "outputs": [
    {
     "data": {
      "text/plain": [
       "RandomForestClassifier(n_estimators=50, random_state=42)"
      ]
     },
     "execution_count": 20,
     "metadata": {},
     "output_type": "execute_result"
    }
   ],
   "source": [
    "# Train the model on training data\n",
    "RF_model.fit(X_for_RF, y_train) #For sklearn no one hot encoding x_for_rf random forest y_train (are level value)"
   ]
  },
  {
   "cell_type": "code",
   "execution_count": 21,
   "id": "40a45193-cee9-49d6-989b-0df8ffa2207a",
   "metadata": {},
   "outputs": [],
   "source": [
    "#Send test data through same feature extractor process\n",
    "# there vgg model is nothing only featere extractor \n",
    "#then reshape it \n",
    "#work like train data \n",
    "X_test_feature = VGG_model.predict(x_test)\n",
    "X_test_features = X_test_feature.reshape(X_test_feature.shape[0], -1)"
   ]
  },
  {
   "cell_type": "code",
   "execution_count": 22,
   "id": "5bc93468-d71d-4c3e-8373-7ee2d3064290",
   "metadata": {},
   "outputs": [],
   "source": [
    "#Now predict using the trained RF model. \n",
    "prediction_RF = RF_model.predict(X_test_features) # out put will look like 1.2.3\n",
    "#Inverse le transform to get original label back. \n",
    "prediction_RF = le.inverse_transform(prediction_RF) #before we make the class value like 1,2,3 numeric its re build this\n"
   ]
  },
  {
   "cell_type": "code",
   "execution_count": 23,
   "id": "6f42293c-4bd9-4df0-99fd-384f56704229",
   "metadata": {},
   "outputs": [
    {
     "name": "stdout",
     "output_type": "stream",
     "text": [
      "Accuracy =  1.0\n"
     ]
    }
   ],
   "source": [
    "#Print overall accuracy\n",
    "from sklearn import metrics\n",
    "print (\"Accuracy = \", metrics.accuracy_score(test_labels, prediction_RF)) #provide test and prediction data to measure that"
   ]
  },
  {
   "cell_type": "code",
   "execution_count": 24,
   "id": "12c32357-0f60-4496-bda3-fea376838449",
   "metadata": {},
   "outputs": [],
   "source": [
    "#Confusion Matrix - verify accuracy of each class\n",
    "from sklearn.metrics import confusion_matrix\n"
   ]
  },
  {
   "cell_type": "code",
   "execution_count": 25,
   "id": "51c9c3ce-2173-44b0-99a0-ef6f30547919",
   "metadata": {},
   "outputs": [],
   "source": [
    "cm = confusion_matrix(test_labels, prediction_RF)"
   ]
  },
  {
   "cell_type": "code",
   "execution_count": 26,
   "id": "c79c3cff-802f-4031-a0c3-2537f48b4f0b",
   "metadata": {},
   "outputs": [
    {
     "data": {
      "text/plain": [
       "<AxesSubplot:>"
      ]
     },
     "execution_count": 26,
     "metadata": {},
     "output_type": "execute_result"
    },
    {
     "data": {
      "image/png": "[encoded data removed]",
      "text/plain": [
       "<Figure size 432x288 with 2 Axes>"
      ]
     },
     "metadata": {
      "needs_background": "light"
     },
     "output_type": "display_data"
    }
   ],
   "source": [
    "#print(cm)\n",
    "sns.heatmap(cm, annot=True)"
   ]
  },
  {
   "cell_type": "code",
   "execution_count": 27,
   "id": "3caaf229-7533-45e7-a186-b58f788f1047",
   "metadata": {},
   "outputs": [
    {
     "name": "stdout",
     "output_type": "stream",
     "text": [
      "The prediction for this image is:  ['Leaf smut']\n",
      "The actual label for this image is:  Leaf smut\n"
     ]
    },
    {
     "data": {
      "image/png": "[encoded data removed]",
      "text/plain": [
       "<Figure size 432x288 with 1 Axes>"
      ]
     },
     "metadata": {
      "needs_background": "light"
     },
     "output_type": "display_data"
    }
   ],
   "source": [
    "#Check results on a few select images according the test data.\n",
    "n=np.random.randint(0, x_test.shape[0])\n",
    "img = x_test[n]\n",
    "plt.imshow(img)\n",
    "input_img = np.expand_dims(img, axis=0) #Expand dims so the input is (num images, x, y, c)\n",
    "input_img_feature=VGG_model.predict(input_img)\n",
    "input_img_features=input_img_feature.reshape(input_img_feature.shape[0], -1)\n",
    "prediction_RF = RF_model.predict(input_img_features)[0] \n",
    "prediction_RF = le.inverse_transform([prediction_RF])  #Reverse the label encoder to original name\n",
    "print(\"The prediction for this image is: \", prediction_RF)\n",
    "print(\"The actual label for this image is: \", test_labels[n])\n"
   ]
  },
  {
   "cell_type": "code",
   "execution_count": null,
   "id": "f6562bc9-f3df-4766-ae6a-86c97a51ed03",
   "metadata": {},
   "outputs": [],
   "source": []
  }
 ],
 "metadata": {
  "kernelspec": {
   "display_name": "Python 3",
   "language": "python",
   "name": "python3"
  },
  "language_info": {
   "codemirror_mode": {
    "name": "ipython",
    "version": 3
   },
   "file_extension": ".py",
   "mimetype": "text/x-python",
   "name": "python",
   "nbconvert_exporter": "python",
   "pygments_lexer": "ipython3",
   "version": "3.9.4"
  }
 },
 "nbformat": 4,
 "nbformat_minor": 5
}
